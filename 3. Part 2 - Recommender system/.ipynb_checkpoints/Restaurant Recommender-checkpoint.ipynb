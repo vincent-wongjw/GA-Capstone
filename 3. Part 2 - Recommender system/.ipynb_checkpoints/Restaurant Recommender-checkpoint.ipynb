{
 "cells": [
  {
   "cell_type": "markdown",
   "metadata": {},
   "source": [
    "### Due to large file size and limited space, the data files are not uploaded in this folder. \n",
    "\n",
    "**Kindly follow and run through the steps in the README files in the following folders sequentially in the order below (so that all the pre-requisite files can be generated) before running through the 'Restaurant Recommender.ipynb' workbook in this folder.**\n",
    "0. Datasets\n",
    "1. Processing of Yelp dataset\n",
    "2. Part 1 - Fake reviews"
   ]
  },
  {
   "cell_type": "code",
   "execution_count": 1,
   "metadata": {},
   "outputs": [],
   "source": [
    "# Import standard libraries\n",
    "import numpy as np\n",
    "import math\n",
    "import scipy.stats as stats\n",
    "import seaborn as sns\n",
    "import matplotlib.pyplot as plt\n",
    "import pandas as pd\n",
    "import sqlite3\n",
    "from collections import Counter, defaultdict\n",
    "\n",
    "sns.set_style('whitegrid')\n",
    "\n",
    "%config InlineBackend.figure_format = 'retina'\n",
    "%matplotlib inline\n",
    "\n",
    "\n",
    "# Import sklearn packages\n",
    "from sklearn.feature_extraction.text import CountVectorizer\n",
    "from sklearn.metrics import confusion_matrix, accuracy_score, recall_score, precision_score, classification_report\n",
    "from sklearn.metrics import mean_squared_error\n",
    "from sklearn.metrics.pairwise import cosine_similarity\n",
    "\n",
    "\n",
    "# Import surprise libraries for recommender systems\n",
    "from surprise import Reader, Dataset, SVD, KNNBasic, KNNWithMeans\n",
    "from surprise.accuracy import rmse\n",
    "from surprise import dump\n",
    "from surprise.model_selection import cross_validate, train_test_split\n",
    "from surprise.model_selection import GridSearchCV, cross_validate, KFold\n",
    "\n",
    "\n",
    "# Import other packages\n",
    "from datetime import datetime\n",
    "import pickle\n",
    "from ast import literal_eval\n",
    "from math import sqrt\n",
    "import operator"
   ]
  },
  {
   "cell_type": "markdown",
   "metadata": {},
   "source": [
    "### 1) Load and prepare files for recommender systems"
   ]
  },
  {
   "cell_type": "code",
   "execution_count": 3,
   "metadata": {},
   "outputs": [],
   "source": [
    "# Connect to sqlite3 database\n",
    "\n",
    "conn = sqlite3.connect('C:/Users/user/Capstone project/GA-Capstone/1. Processing of Yelp dataset/yelp.db')"
   ]
  },
  {
   "cell_type": "code",
   "execution_count": 4,
   "metadata": {},
   "outputs": [],
   "source": [
    "# Open business and reviews file\n",
    "\n",
    "business_data = pd.read_sql(\"SELECT * FROM business\", conn)\n",
    "review_data = pd.read_sql(\"SELECT * FROM reviews\", conn)"
   ]
  },
  {
   "cell_type": "code",
   "execution_count": 5,
   "metadata": {},
   "outputs": [],
   "source": [
    "# Join reviews dataset and business dataset on filtered restaurants('NV')\n",
    "rest_reviews_nv = review_data.merge(business_data, how = 'inner', on = 'business_id')"
   ]
  },
  {
   "cell_type": "code",
   "execution_count": 6,
   "metadata": {
    "scrolled": true
   },
   "outputs": [
    {
     "data": {
      "text/plain": [
       "Index(['index_x', 'review_id', 'business_id', 'user_id', 'stars_x', 'text',\n",
       "       'date', 'is_restaurant', 'index_y', 'name', 'stars_y', 'review_count',\n",
       "       'categories', 'postal_code', 'latitude', 'longitude', 'pricerange',\n",
       "       'is_open', 'outdoor_seat', 'rest_good_for_groups', 'good_kids',\n",
       "       'rest_reserve', 'rest_deliver', 'noise_lvl', 'credit_cards', 'wifi',\n",
       "       'alcohol', 'open_24hrs', 'serves_breakfast', 'serves_lunch',\n",
       "       'serves_dinner', 'is_chain', 'unique_store_id'],\n",
       "      dtype='object')"
      ]
     },
     "execution_count": 6,
     "metadata": {},
     "output_type": "execute_result"
    }
   ],
   "source": [
    "rest_reviews_nv.columns"
   ]
  },
  {
   "cell_type": "code",
   "execution_count": 8,
   "metadata": {},
   "outputs": [],
   "source": [
    "# Drop merged indices\n",
    "rest_reviews_nv.drop(['index_x', 'index_y'], axis = 1, inplace = True)"
   ]
  },
  {
   "cell_type": "code",
   "execution_count": 9,
   "metadata": {},
   "outputs": [],
   "source": [
    "# rename columns in rest_reviews_nv dataset\n",
    "rest_reviews_nv.rename(columns = {'stars_x': 'user_stars', 'stars_y': 'rest_avg_stars'}, inplace = True)\n",
    "\n",
    "# drop restaurant column\n",
    "rest_reviews_nv.drop(['is_restaurant'], axis = 1, inplace = True)"
   ]
  },
  {
   "cell_type": "code",
   "execution_count": 10,
   "metadata": {},
   "outputs": [],
   "source": [
    "# take the latest review of each user if a user the same restaurant multiple times\n",
    "\n",
    "rest_reviews_nv.drop_duplicates(subset = ['business_id', 'user_id'], keep = 'last', inplace = True)"
   ]
  },
  {
   "cell_type": "code",
   "execution_count": 11,
   "metadata": {},
   "outputs": [],
   "source": [
    "# Reset index\n",
    "\n",
    "rest_reviews_nv.reset_index(drop = True, inplace = True)"
   ]
  },
  {
   "cell_type": "code",
   "execution_count": 13,
   "metadata": {},
   "outputs": [
    {
     "data": {
      "text/plain": [
       "(655609, 30)"
      ]
     },
     "execution_count": 13,
     "metadata": {},
     "output_type": "execute_result"
    }
   ],
   "source": [
    "rest_reviews_nv.shape\n",
    "# (655609, 30)"
   ]
  },
  {
   "cell_type": "markdown",
   "metadata": {},
   "source": [
    "**Apply fake reviews filter (Naive Bayes) from optimal model to current reviews dataset**"
   ]
  },
  {
   "cell_type": "code",
   "execution_count": 14,
   "metadata": {},
   "outputs": [
    {
     "name": "stderr",
     "output_type": "stream",
     "text": [
      "C:\\Users\\user\\Anaconda3\\lib\\site-packages\\sklearn\\base.py:251: UserWarning: Trying to unpickle estimator TfidfTransformer from version 0.20.2 when using version 0.20.1. This might lead to breaking code or invalid results. Use at your own risk.\n",
      "  UserWarning)\n",
      "C:\\Users\\user\\Anaconda3\\lib\\site-packages\\sklearn\\base.py:251: UserWarning: Trying to unpickle estimator TfidfVectorizer from version 0.20.2 when using version 0.20.1. This might lead to breaking code or invalid results. Use at your own risk.\n",
      "  UserWarning)\n"
     ]
    }
   ],
   "source": [
    "# Load TfidfVectorizer fit pickle file from train data in the fake reviews file\n",
    "\n",
    "with open('C:/Users/user/Capstone project/GA-Capstone/2. Part 1 - Fake reviews/tvec_fit.pkl', \"rb\") as f:\n",
    "    tvec_fit = pickle.load(f)"
   ]
  },
  {
   "cell_type": "code",
   "execution_count": 15,
   "metadata": {},
   "outputs": [
    {
     "name": "stderr",
     "output_type": "stream",
     "text": [
      "C:\\Users\\user\\Anaconda3\\lib\\site-packages\\sklearn\\base.py:251: UserWarning: Trying to unpickle estimator MultinomialNB from version 0.20.2 when using version 0.20.1. This might lead to breaking code or invalid results. Use at your own risk.\n",
      "  UserWarning)\n"
     ]
    }
   ],
   "source": [
    "# Load Naive Bayes trained model pickle file from train data in the fake reviews file\n",
    "\n",
    "with open('C:/Users/user/Capstone project/GA-Capstone/2. Part 1 - Fake reviews/mnb_model.pkl', \"rb\") as f:\n",
    "    mnb_model = pickle.load(f)"
   ]
  },
  {
   "cell_type": "code",
   "execution_count": 16,
   "metadata": {},
   "outputs": [],
   "source": [
    "# Fit and transform text data using TfidfVectorizer\n",
    "text = rest_reviews_nv['text']\n",
    "\n",
    "X = tvec_fit.transform(text)"
   ]
  },
  {
   "cell_type": "code",
   "execution_count": 17,
   "metadata": {},
   "outputs": [
    {
     "data": {
      "text/plain": [
       "655609"
      ]
     },
     "execution_count": 17,
     "metadata": {},
     "output_type": "execute_result"
    }
   ],
   "source": [
    "# Use Naive Bayes model to predict either 0 or 1 across all reviews\n",
    "nb_predictions = mnb_model.predict(X)\n",
    "len(nb_predictions)\n",
    "#655609"
   ]
  },
  {
   "cell_type": "code",
   "execution_count": 18,
   "metadata": {},
   "outputs": [],
   "source": [
    "# Load predictions into a dataframe\n",
    "\n",
    "pred_df = pd.DataFrame(nb_predictions, columns = ['prediction'])\n",
    "pred_df['prediction'].value_counts()\n",
    "rest_reviews_nv = pd.concat([rest_reviews_nv, pred_df], axis = 1)"
   ]
  },
  {
   "cell_type": "code",
   "execution_count": 19,
   "metadata": {},
   "outputs": [
    {
     "data": {
      "text/plain": [
       "(655609, 31)"
      ]
     },
     "execution_count": 19,
     "metadata": {},
     "output_type": "execute_result"
    }
   ],
   "source": [
    "rest_reviews_nv.shape"
   ]
  },
  {
   "cell_type": "code",
   "execution_count": 21,
   "metadata": {},
   "outputs": [
    {
     "data": {
      "text/plain": [
       "(359496, 31)"
      ]
     },
     "execution_count": 21,
     "metadata": {},
     "output_type": "execute_result"
    }
   ],
   "source": [
    "# Extract only reviews where predictions turn out to be 'real' (with score 1) based on the model\n",
    "rest_reviews_nv_real = rest_reviews_nv[rest_reviews_nv['prediction'] == 1]\n",
    "rest_reviews_nv_real.shape\n",
    "# (359496, 31)"
   ]
  },
  {
   "cell_type": "markdown",
   "metadata": {},
   "source": [
    "**Reduce number of reviews to a more manageable number**"
   ]
  },
  {
   "cell_type": "code",
   "execution_count": 22,
   "metadata": {},
   "outputs": [],
   "source": [
    "# remove user_id review counts that are < 6\n",
    "\n",
    "counts = rest_reviews_nv_real['user_id'].value_counts()\n",
    "\n",
    "rest_reviews_nv_real = rest_reviews_nv_real[~rest_reviews_nv_real['user_id'].isin(counts[counts < 6].index)]"
   ]
  },
  {
   "cell_type": "code",
   "execution_count": 23,
   "metadata": {},
   "outputs": [],
   "source": [
    "# remove restaurant review counts that are < 11\n",
    "\n",
    "counts_res = rest_reviews_nv_real['business_id'].value_counts()\n",
    "\n",
    "rest_reviews_nv_real = rest_reviews_nv_real[~rest_reviews_nv_real['business_id'].isin(counts_res[counts_res < 11].index)]"
   ]
  },
  {
   "cell_type": "code",
   "execution_count": 24,
   "metadata": {},
   "outputs": [
    {
     "data": {
      "text/plain": [
       "(121950, 31)"
      ]
     },
     "execution_count": 24,
     "metadata": {},
     "output_type": "execute_result"
    }
   ],
   "source": [
    "rest_reviews_nv_real.shape"
   ]
  },
  {
   "cell_type": "code",
   "execution_count": 25,
   "metadata": {},
   "outputs": [],
   "source": [
    "# Drop prediction column\n",
    "\n",
    "rest_reviews_nv_real = rest_reviews_nv_real.drop(columns = ['prediction'], axis = 1)"
   ]
  },
  {
   "cell_type": "code",
   "execution_count": 26,
   "metadata": {},
   "outputs": [],
   "source": [
    "# save rest_reviews_nv_real pickle file as backup\n",
    "with open(\"rest_reviews_nv_real.pkl\", \"wb\") as f:\n",
    "    pickle.dump(rest_reviews_nv_real, f)"
   ]
  },
  {
   "cell_type": "code",
   "execution_count": 2,
   "metadata": {},
   "outputs": [],
   "source": [
    "# load rest_reviews_nv_real pickle file\n",
    "with open(\"rest_reviews_nv_real.pkl\", \"rb\") as f:\n",
    "    rest_reviews_nv_real = pickle.load(f)"
   ]
  },
  {
   "cell_type": "code",
   "execution_count": 3,
   "metadata": {},
   "outputs": [
    {
     "data": {
      "text/plain": [
       "(121950, 30)"
      ]
     },
     "execution_count": 3,
     "metadata": {},
     "output_type": "execute_result"
    }
   ],
   "source": [
    "rest_reviews_nv_real.shape"
   ]
  },
  {
   "cell_type": "markdown",
   "metadata": {},
   "source": [
    "**Scale down to dataframe of user ratings by restaurants**"
   ]
  },
  {
   "cell_type": "code",
   "execution_count": 29,
   "metadata": {},
   "outputs": [],
   "source": [
    "user_rating_by_rest = rest_reviews_nv_real[['user_id', 'unique_store_id', 'user_stars', 'date']]"
   ]
  },
  {
   "cell_type": "code",
   "execution_count": 30,
   "metadata": {},
   "outputs": [
    {
     "data": {
      "text/html": [
       "<div>\n",
       "<style scoped>\n",
       "    .dataframe tbody tr th:only-of-type {\n",
       "        vertical-align: middle;\n",
       "    }\n",
       "\n",
       "    .dataframe tbody tr th {\n",
       "        vertical-align: top;\n",
       "    }\n",
       "\n",
       "    .dataframe thead th {\n",
       "        text-align: right;\n",
       "    }\n",
       "</style>\n",
       "<table border=\"1\" class=\"dataframe\">\n",
       "  <thead>\n",
       "    <tr style=\"text-align: right;\">\n",
       "      <th></th>\n",
       "      <th>user_id</th>\n",
       "      <th>unique_store_id</th>\n",
       "      <th>user_stars</th>\n",
       "      <th>date</th>\n",
       "    </tr>\n",
       "  </thead>\n",
       "  <tbody>\n",
       "    <tr>\n",
       "      <th>1</th>\n",
       "      <td>7Inj11uN96hJUXAxrG2Saw</td>\n",
       "      <td>Greenberg's Deli</td>\n",
       "      <td>5.0</td>\n",
       "      <td>2016-03-07</td>\n",
       "    </tr>\n",
       "    <tr>\n",
       "      <th>5</th>\n",
       "      <td>XKo5IT6o-WslzHPT69PRSQ</td>\n",
       "      <td>Greenberg's Deli</td>\n",
       "      <td>3.0</td>\n",
       "      <td>2013-02-22</td>\n",
       "    </tr>\n",
       "    <tr>\n",
       "      <th>9</th>\n",
       "      <td>nCsfMqpfOGcTFKEZ3C1_Gg</td>\n",
       "      <td>Greenberg's Deli</td>\n",
       "      <td>4.0</td>\n",
       "      <td>2013-12-08</td>\n",
       "    </tr>\n",
       "    <tr>\n",
       "      <th>17</th>\n",
       "      <td>51UaY_JKrEOzA1CeEbuDNg</td>\n",
       "      <td>Greenberg's Deli</td>\n",
       "      <td>4.0</td>\n",
       "      <td>2007-12-12</td>\n",
       "    </tr>\n",
       "    <tr>\n",
       "      <th>24</th>\n",
       "      <td>nW4POvJR2MqjU90mnNPqvA</td>\n",
       "      <td>Greenberg's Deli</td>\n",
       "      <td>4.0</td>\n",
       "      <td>2010-05-17</td>\n",
       "    </tr>\n",
       "  </tbody>\n",
       "</table>\n",
       "</div>"
      ],
      "text/plain": [
       "                   user_id   unique_store_id  user_stars        date\n",
       "1   7Inj11uN96hJUXAxrG2Saw  Greenberg's Deli         5.0  2016-03-07\n",
       "5   XKo5IT6o-WslzHPT69PRSQ  Greenberg's Deli         3.0  2013-02-22\n",
       "9   nCsfMqpfOGcTFKEZ3C1_Gg  Greenberg's Deli         4.0  2013-12-08\n",
       "17  51UaY_JKrEOzA1CeEbuDNg  Greenberg's Deli         4.0  2007-12-12\n",
       "24  nW4POvJR2MqjU90mnNPqvA  Greenberg's Deli         4.0  2010-05-17"
      ]
     },
     "execution_count": 30,
     "metadata": {},
     "output_type": "execute_result"
    }
   ],
   "source": [
    "user_rating_by_rest.head()"
   ]
  },
  {
   "cell_type": "code",
   "execution_count": 31,
   "metadata": {},
   "outputs": [],
   "source": [
    "# Save this melt down version to csv for use in later models\n",
    "\n",
    "user_rating_by_rest.to_csv('user_rating_by_rest.csv', index = False)"
   ]
  },
  {
   "cell_type": "code",
   "execution_count": 193,
   "metadata": {},
   "outputs": [
    {
     "name": "stderr",
     "output_type": "stream",
     "text": [
      "C:\\Users\\user\\Anaconda3\\lib\\site-packages\\ipykernel_launcher.py:6: FutureWarning: specifying 'categories' or 'ordered' in .astype() is deprecated; pass a CategoricalDtype instead\n",
      "  \n",
      "C:\\Users\\user\\Anaconda3\\lib\\site-packages\\ipykernel_launcher.py:7: FutureWarning: specifying 'categories' or 'ordered' in .astype() is deprecated; pass a CategoricalDtype instead\n",
      "  import sys\n"
     ]
    }
   ],
   "source": [
    "from scipy.sparse import csr_matrix\n",
    "\n",
    "user_u = list(sorted(user_rating_by_rest.user_id.unique()))\n",
    "item_u = list(sorted(user_rating_by_rest.unique_store_id.unique()))\n",
    "\n",
    "row = user_rating_by_rest.user_id.astype('category', categories=user_u).cat.codes\n",
    "col = user_rating_by_rest.unique_store_id.astype('category', categories=item_u).cat.codes\n",
    "\n",
    "data = user_rating_by_rest['user_stars'].tolist()\n",
    "\n",
    "sparse_matrix = csr_matrix((data, (row, col)), shape=(len(user_u), len(item_u)))\n",
    "\n",
    "df = pd.SparseDataFrame([ pd.SparseSeries(sparse_matrix[i].toarray().ravel(), fill_value=0) \n",
    "                              for i in np.arange(sparse_matrix.shape[0]) ], \n",
    "                       index=user_u, columns=item_u, default_fill_value=0)"
   ]
  },
  {
   "cell_type": "code",
   "execution_count": 194,
   "metadata": {},
   "outputs": [
    {
     "data": {
      "text/html": [
       "<div>\n",
       "<style scoped>\n",
       "    .dataframe tbody tr th:only-of-type {\n",
       "        vertical-align: middle;\n",
       "    }\n",
       "\n",
       "    .dataframe tbody tr th {\n",
       "        vertical-align: top;\n",
       "    }\n",
       "\n",
       "    .dataframe thead th {\n",
       "        text-align: right;\n",
       "    }\n",
       "</style>\n",
       "<table border=\"1\" class=\"dataframe\">\n",
       "  <thead>\n",
       "    <tr style=\"text-align: right;\">\n",
       "      <th></th>\n",
       "      <th>1900 Asian Cuisine</th>\n",
       "      <th>1923 Bourbon Bar</th>\n",
       "      <th>21 Restaurant &amp; Lounge</th>\n",
       "      <th>28GO The Restaurant</th>\n",
       "      <th>360 Gourmet Burrito</th>\n",
       "      <th>50's Diner Omelet House</th>\n",
       "      <th>7th &amp; Carson</th>\n",
       "      <th>800 Degrees (Outlet 1 - 89109)</th>\n",
       "      <th>800 Degrees (Outlet 2 - 89109)</th>\n",
       "      <th>808 Sushi</th>\n",
       "      <th>...</th>\n",
       "      <th>Zaba's Mexican Grill</th>\n",
       "      <th>Zabas Mexican Grill</th>\n",
       "      <th>Zeffirino</th>\n",
       "      <th>Zenaida's Cafe</th>\n",
       "      <th>Zest - Bistro &amp; Bar</th>\n",
       "      <th>Zine Noodles Dim Sum</th>\n",
       "      <th>Zizzy (Outlet 2 - 89102)</th>\n",
       "      <th>Zoozacrackers Deli</th>\n",
       "      <th>barMASA</th>\n",
       "      <th>chow.</th>\n",
       "    </tr>\n",
       "  </thead>\n",
       "  <tbody>\n",
       "    <tr>\n",
       "      <th>---1lKK3aKOuomHnwAkAow</th>\n",
       "      <td>0.0</td>\n",
       "      <td>0.0</td>\n",
       "      <td>0.0</td>\n",
       "      <td>0.0</td>\n",
       "      <td>0.0</td>\n",
       "      <td>0.0</td>\n",
       "      <td>0.0</td>\n",
       "      <td>0.0</td>\n",
       "      <td>0.0</td>\n",
       "      <td>0.0</td>\n",
       "      <td>...</td>\n",
       "      <td>0.0</td>\n",
       "      <td>0.0</td>\n",
       "      <td>0.0</td>\n",
       "      <td>0.0</td>\n",
       "      <td>0.0</td>\n",
       "      <td>0.0</td>\n",
       "      <td>0.0</td>\n",
       "      <td>0.0</td>\n",
       "      <td>0.0</td>\n",
       "      <td>0.0</td>\n",
       "    </tr>\n",
       "    <tr>\n",
       "      <th>--RlSfc-QmcHFGHyX6aVjA</th>\n",
       "      <td>0.0</td>\n",
       "      <td>0.0</td>\n",
       "      <td>0.0</td>\n",
       "      <td>0.0</td>\n",
       "      <td>0.0</td>\n",
       "      <td>0.0</td>\n",
       "      <td>0.0</td>\n",
       "      <td>0.0</td>\n",
       "      <td>0.0</td>\n",
       "      <td>0.0</td>\n",
       "      <td>...</td>\n",
       "      <td>0.0</td>\n",
       "      <td>0.0</td>\n",
       "      <td>0.0</td>\n",
       "      <td>0.0</td>\n",
       "      <td>0.0</td>\n",
       "      <td>0.0</td>\n",
       "      <td>0.0</td>\n",
       "      <td>0.0</td>\n",
       "      <td>0.0</td>\n",
       "      <td>0.0</td>\n",
       "    </tr>\n",
       "    <tr>\n",
       "      <th>--WLHsm-AC4jcol2gOkmCQ</th>\n",
       "      <td>0.0</td>\n",
       "      <td>0.0</td>\n",
       "      <td>0.0</td>\n",
       "      <td>0.0</td>\n",
       "      <td>0.0</td>\n",
       "      <td>0.0</td>\n",
       "      <td>0.0</td>\n",
       "      <td>0.0</td>\n",
       "      <td>0.0</td>\n",
       "      <td>0.0</td>\n",
       "      <td>...</td>\n",
       "      <td>0.0</td>\n",
       "      <td>0.0</td>\n",
       "      <td>0.0</td>\n",
       "      <td>0.0</td>\n",
       "      <td>0.0</td>\n",
       "      <td>0.0</td>\n",
       "      <td>0.0</td>\n",
       "      <td>0.0</td>\n",
       "      <td>0.0</td>\n",
       "      <td>0.0</td>\n",
       "    </tr>\n",
       "    <tr>\n",
       "      <th>--ZNfWKj1VyVElRx6-g1fg</th>\n",
       "      <td>0.0</td>\n",
       "      <td>0.0</td>\n",
       "      <td>0.0</td>\n",
       "      <td>0.0</td>\n",
       "      <td>0.0</td>\n",
       "      <td>0.0</td>\n",
       "      <td>0.0</td>\n",
       "      <td>0.0</td>\n",
       "      <td>0.0</td>\n",
       "      <td>0.0</td>\n",
       "      <td>...</td>\n",
       "      <td>0.0</td>\n",
       "      <td>0.0</td>\n",
       "      <td>0.0</td>\n",
       "      <td>0.0</td>\n",
       "      <td>0.0</td>\n",
       "      <td>0.0</td>\n",
       "      <td>0.0</td>\n",
       "      <td>0.0</td>\n",
       "      <td>0.0</td>\n",
       "      <td>0.0</td>\n",
       "    </tr>\n",
       "    <tr>\n",
       "      <th>-05XqtNjcBq19vh2CVJN8g</th>\n",
       "      <td>0.0</td>\n",
       "      <td>0.0</td>\n",
       "      <td>0.0</td>\n",
       "      <td>0.0</td>\n",
       "      <td>0.0</td>\n",
       "      <td>0.0</td>\n",
       "      <td>0.0</td>\n",
       "      <td>0.0</td>\n",
       "      <td>0.0</td>\n",
       "      <td>0.0</td>\n",
       "      <td>...</td>\n",
       "      <td>0.0</td>\n",
       "      <td>0.0</td>\n",
       "      <td>0.0</td>\n",
       "      <td>0.0</td>\n",
       "      <td>0.0</td>\n",
       "      <td>0.0</td>\n",
       "      <td>0.0</td>\n",
       "      <td>0.0</td>\n",
       "      <td>0.0</td>\n",
       "      <td>0.0</td>\n",
       "    </tr>\n",
       "  </tbody>\n",
       "</table>\n",
       "<p>5 rows × 1713 columns</p>\n",
       "</div>"
      ],
      "text/plain": [
       "                        1900 Asian Cuisine  1923 Bourbon Bar  \\\n",
       "---1lKK3aKOuomHnwAkAow                 0.0               0.0   \n",
       "--RlSfc-QmcHFGHyX6aVjA                 0.0               0.0   \n",
       "--WLHsm-AC4jcol2gOkmCQ                 0.0               0.0   \n",
       "--ZNfWKj1VyVElRx6-g1fg                 0.0               0.0   \n",
       "-05XqtNjcBq19vh2CVJN8g                 0.0               0.0   \n",
       "\n",
       "                        21 Restaurant & Lounge  28GO The Restaurant  \\\n",
       "---1lKK3aKOuomHnwAkAow                     0.0                  0.0   \n",
       "--RlSfc-QmcHFGHyX6aVjA                     0.0                  0.0   \n",
       "--WLHsm-AC4jcol2gOkmCQ                     0.0                  0.0   \n",
       "--ZNfWKj1VyVElRx6-g1fg                     0.0                  0.0   \n",
       "-05XqtNjcBq19vh2CVJN8g                     0.0                  0.0   \n",
       "\n",
       "                        360 Gourmet Burrito  50's Diner Omelet House  \\\n",
       "---1lKK3aKOuomHnwAkAow                  0.0                      0.0   \n",
       "--RlSfc-QmcHFGHyX6aVjA                  0.0                      0.0   \n",
       "--WLHsm-AC4jcol2gOkmCQ                  0.0                      0.0   \n",
       "--ZNfWKj1VyVElRx6-g1fg                  0.0                      0.0   \n",
       "-05XqtNjcBq19vh2CVJN8g                  0.0                      0.0   \n",
       "\n",
       "                        7th & Carson  800 Degrees (Outlet 1 - 89109)  \\\n",
       "---1lKK3aKOuomHnwAkAow           0.0                             0.0   \n",
       "--RlSfc-QmcHFGHyX6aVjA           0.0                             0.0   \n",
       "--WLHsm-AC4jcol2gOkmCQ           0.0                             0.0   \n",
       "--ZNfWKj1VyVElRx6-g1fg           0.0                             0.0   \n",
       "-05XqtNjcBq19vh2CVJN8g           0.0                             0.0   \n",
       "\n",
       "                        800 Degrees (Outlet 2 - 89109)  808 Sushi  ...    \\\n",
       "---1lKK3aKOuomHnwAkAow                             0.0        0.0  ...     \n",
       "--RlSfc-QmcHFGHyX6aVjA                             0.0        0.0  ...     \n",
       "--WLHsm-AC4jcol2gOkmCQ                             0.0        0.0  ...     \n",
       "--ZNfWKj1VyVElRx6-g1fg                             0.0        0.0  ...     \n",
       "-05XqtNjcBq19vh2CVJN8g                             0.0        0.0  ...     \n",
       "\n",
       "                        Zaba's Mexican Grill  Zabas Mexican Grill  Zeffirino  \\\n",
       "---1lKK3aKOuomHnwAkAow                   0.0                  0.0        0.0   \n",
       "--RlSfc-QmcHFGHyX6aVjA                   0.0                  0.0        0.0   \n",
       "--WLHsm-AC4jcol2gOkmCQ                   0.0                  0.0        0.0   \n",
       "--ZNfWKj1VyVElRx6-g1fg                   0.0                  0.0        0.0   \n",
       "-05XqtNjcBq19vh2CVJN8g                   0.0                  0.0        0.0   \n",
       "\n",
       "                        Zenaida's Cafe  Zest - Bistro & Bar  \\\n",
       "---1lKK3aKOuomHnwAkAow             0.0                  0.0   \n",
       "--RlSfc-QmcHFGHyX6aVjA             0.0                  0.0   \n",
       "--WLHsm-AC4jcol2gOkmCQ             0.0                  0.0   \n",
       "--ZNfWKj1VyVElRx6-g1fg             0.0                  0.0   \n",
       "-05XqtNjcBq19vh2CVJN8g             0.0                  0.0   \n",
       "\n",
       "                        Zine Noodles Dim Sum  Zizzy (Outlet 2 - 89102)  \\\n",
       "---1lKK3aKOuomHnwAkAow                   0.0                       0.0   \n",
       "--RlSfc-QmcHFGHyX6aVjA                   0.0                       0.0   \n",
       "--WLHsm-AC4jcol2gOkmCQ                   0.0                       0.0   \n",
       "--ZNfWKj1VyVElRx6-g1fg                   0.0                       0.0   \n",
       "-05XqtNjcBq19vh2CVJN8g                   0.0                       0.0   \n",
       "\n",
       "                        Zoozacrackers Deli  barMASA  chow.  \n",
       "---1lKK3aKOuomHnwAkAow                 0.0      0.0    0.0  \n",
       "--RlSfc-QmcHFGHyX6aVjA                 0.0      0.0    0.0  \n",
       "--WLHsm-AC4jcol2gOkmCQ                 0.0      0.0    0.0  \n",
       "--ZNfWKj1VyVElRx6-g1fg                 0.0      0.0    0.0  \n",
       "-05XqtNjcBq19vh2CVJN8g                 0.0      0.0    0.0  \n",
       "\n",
       "[5 rows x 1713 columns]"
      ]
     },
     "execution_count": 194,
     "metadata": {},
     "output_type": "execute_result"
    }
   ],
   "source": [
    "# Check on validity of dataframe transformation\n",
    "\n",
    "df.head()"
   ]
  },
  {
   "cell_type": "code",
   "execution_count": 195,
   "metadata": {},
   "outputs": [],
   "source": [
    "# Reset index to create a column of customer id\n",
    "df.reset_index(inplace = True)\n",
    "\n",
    "# Create another column of number of restaurants rated by each reviewer\n",
    "df['rest_list_len'] = df.iloc[:, 1:].gt(0).sum(axis = 1)\n",
    "\n",
    "# Convert from sparse dataframe to dense dataframe\n",
    "df = pd.DataFrame(df)"
   ]
  },
  {
   "cell_type": "code",
   "execution_count": 196,
   "metadata": {},
   "outputs": [
    {
     "name": "stdout",
     "output_type": "stream",
     "text": [
      "0:03:48.124216\n",
      "0:03:47.144804\n",
      "0:03:41.452059\n"
     ]
    }
   ],
   "source": [
    "# Insert additional columns on summary statistics of user ratings on corresponding restaurants\n",
    "\n",
    "# Create a separate, temporary dataframe for restaurants only\n",
    "temp_res_df = df.iloc[:, 1: -1]\n",
    "\n",
    "# Insert column on restaurants rated only\n",
    "\n",
    "res_list = list(temp_res_df.columns)\n",
    "df['res_reviewed'] = np.nan\n",
    "df['res_reviewed'] = df['res_reviewed'].astype(object)\n",
    "\n",
    "t1 = datetime.now()\n",
    "\n",
    "for i in range(df.shape[0]):\n",
    "    res_reviewed = []\n",
    "    for col in range(len(res_list)):\n",
    "        if temp_res_df.iloc[i, col] > 0:\n",
    "            res_reviewed.append(res_list[col])   \n",
    "    df.at[i, 'res_reviewed'] = res_reviewed\n",
    "\n",
    "print(datetime.now() - t1)\n",
    "\n",
    "\n",
    "# Insert column on restaurants rated and corresponding rating\n",
    "\n",
    "df['res_reviewed_rating'] = np.nan\n",
    "df['res_reviewed_rating'] = df['res_reviewed_rating'].astype(object)\n",
    "\n",
    "t1 = datetime.now()\n",
    "\n",
    "for i in range(df.shape[0]):\n",
    "    res_reviewed_rating = {}\n",
    "    for col in range(len(res_list)):\n",
    "        if temp_res_df.iloc[i, col] > 0:\n",
    "            res_reviewed_rating[res_list[col]] = temp_res_df.iloc[i, col]\n",
    "    df.at[i, 'res_reviewed_rating'] = res_reviewed_rating\n",
    "\n",
    "print(datetime.now() - t1)\n",
    "\n",
    "# Insert column on just ratings\n",
    "\n",
    "df['res_rating'] = np.nan\n",
    "df['res_rating'] = df['res_rating'].astype(object)\n",
    "\n",
    "t1 = datetime.now()\n",
    "\n",
    "for i in range(df.shape[0]):\n",
    "    res_rating = []\n",
    "    for col in range(len(res_list)):\n",
    "        if temp_res_df.iloc[i, col] > 0:\n",
    "            res_rating.append(temp_res_df.iloc[i, col])   \n",
    "    df.at[i, 'res_rating'] = res_rating\n",
    "\n",
    "print(datetime.now() - t1)"
   ]
  },
  {
   "cell_type": "code",
   "execution_count": 197,
   "metadata": {},
   "outputs": [
    {
     "data": {
      "text/html": [
       "<div>\n",
       "<style scoped>\n",
       "    .dataframe tbody tr th:only-of-type {\n",
       "        vertical-align: middle;\n",
       "    }\n",
       "\n",
       "    .dataframe tbody tr th {\n",
       "        vertical-align: top;\n",
       "    }\n",
       "\n",
       "    .dataframe thead th {\n",
       "        text-align: right;\n",
       "    }\n",
       "</style>\n",
       "<table border=\"1\" class=\"dataframe\">\n",
       "  <thead>\n",
       "    <tr style=\"text-align: right;\">\n",
       "      <th></th>\n",
       "      <th>index</th>\n",
       "      <th>1900 Asian Cuisine</th>\n",
       "      <th>1923 Bourbon Bar</th>\n",
       "      <th>21 Restaurant &amp; Lounge</th>\n",
       "      <th>28GO The Restaurant</th>\n",
       "      <th>360 Gourmet Burrito</th>\n",
       "      <th>50's Diner Omelet House</th>\n",
       "      <th>7th &amp; Carson</th>\n",
       "      <th>800 Degrees (Outlet 1 - 89109)</th>\n",
       "      <th>800 Degrees (Outlet 2 - 89109)</th>\n",
       "      <th>...</th>\n",
       "      <th>Zest - Bistro &amp; Bar</th>\n",
       "      <th>Zine Noodles Dim Sum</th>\n",
       "      <th>Zizzy (Outlet 2 - 89102)</th>\n",
       "      <th>Zoozacrackers Deli</th>\n",
       "      <th>barMASA</th>\n",
       "      <th>chow.</th>\n",
       "      <th>rest_list_len</th>\n",
       "      <th>res_reviewed</th>\n",
       "      <th>res_reviewed_rating</th>\n",
       "      <th>res_rating</th>\n",
       "    </tr>\n",
       "  </thead>\n",
       "  <tbody>\n",
       "    <tr>\n",
       "      <th>0</th>\n",
       "      <td>---1lKK3aKOuomHnwAkAow</td>\n",
       "      <td>0.0</td>\n",
       "      <td>0.0</td>\n",
       "      <td>0.0</td>\n",
       "      <td>0.0</td>\n",
       "      <td>0.0</td>\n",
       "      <td>0.0</td>\n",
       "      <td>0.0</td>\n",
       "      <td>0.0</td>\n",
       "      <td>0.0</td>\n",
       "      <td>...</td>\n",
       "      <td>0.0</td>\n",
       "      <td>0.0</td>\n",
       "      <td>0.0</td>\n",
       "      <td>0.0</td>\n",
       "      <td>0.0</td>\n",
       "      <td>0.0</td>\n",
       "      <td>10</td>\n",
       "      <td>[Carrabba's Italian Grill, Lotus of Siam (Outl...</td>\n",
       "      <td>{'Carrabba's Italian Grill': 3.0, 'Lotus of Si...</td>\n",
       "      <td>[3.0, 5.0, 3.0, 5.0, 5.0, 3.0, 1.0, 4.0, 4.0, ...</td>\n",
       "    </tr>\n",
       "    <tr>\n",
       "      <th>1</th>\n",
       "      <td>--RlSfc-QmcHFGHyX6aVjA</td>\n",
       "      <td>0.0</td>\n",
       "      <td>0.0</td>\n",
       "      <td>0.0</td>\n",
       "      <td>0.0</td>\n",
       "      <td>0.0</td>\n",
       "      <td>0.0</td>\n",
       "      <td>0.0</td>\n",
       "      <td>0.0</td>\n",
       "      <td>0.0</td>\n",
       "      <td>...</td>\n",
       "      <td>0.0</td>\n",
       "      <td>0.0</td>\n",
       "      <td>0.0</td>\n",
       "      <td>0.0</td>\n",
       "      <td>0.0</td>\n",
       "      <td>0.0</td>\n",
       "      <td>22</td>\n",
       "      <td>[BabyStacks Cafe (Outlet 1 - 89128), Bachi Hea...</td>\n",
       "      <td>{'BabyStacks Cafe (Outlet 1 - 89128)': 4.0, 'B...</td>\n",
       "      <td>[4.0, 4.0, 3.0, 4.0, 4.0, 4.0, 4.0, 4.0, 4.0, ...</td>\n",
       "    </tr>\n",
       "    <tr>\n",
       "      <th>2</th>\n",
       "      <td>--WLHsm-AC4jcol2gOkmCQ</td>\n",
       "      <td>0.0</td>\n",
       "      <td>0.0</td>\n",
       "      <td>0.0</td>\n",
       "      <td>0.0</td>\n",
       "      <td>0.0</td>\n",
       "      <td>0.0</td>\n",
       "      <td>0.0</td>\n",
       "      <td>0.0</td>\n",
       "      <td>0.0</td>\n",
       "      <td>...</td>\n",
       "      <td>0.0</td>\n",
       "      <td>0.0</td>\n",
       "      <td>0.0</td>\n",
       "      <td>0.0</td>\n",
       "      <td>0.0</td>\n",
       "      <td>0.0</td>\n",
       "      <td>7</td>\n",
       "      <td>[Cafe Bellagio, Da Lat, Earl of Sandwich (Outl...</td>\n",
       "      <td>{'Cafe Bellagio': 2.0, 'Da Lat': 3.0, 'Earl of...</td>\n",
       "      <td>[2.0, 3.0, 4.0, 4.0, 3.0, 1.0, 4.0]</td>\n",
       "    </tr>\n",
       "    <tr>\n",
       "      <th>3</th>\n",
       "      <td>--ZNfWKj1VyVElRx6-g1fg</td>\n",
       "      <td>0.0</td>\n",
       "      <td>0.0</td>\n",
       "      <td>0.0</td>\n",
       "      <td>0.0</td>\n",
       "      <td>0.0</td>\n",
       "      <td>0.0</td>\n",
       "      <td>0.0</td>\n",
       "      <td>0.0</td>\n",
       "      <td>0.0</td>\n",
       "      <td>...</td>\n",
       "      <td>0.0</td>\n",
       "      <td>0.0</td>\n",
       "      <td>0.0</td>\n",
       "      <td>0.0</td>\n",
       "      <td>0.0</td>\n",
       "      <td>0.0</td>\n",
       "      <td>12</td>\n",
       "      <td>[Andiron Steak &amp; Sea, Carson Kitchen, Lotus of...</td>\n",
       "      <td>{'Andiron Steak &amp; Sea': 5.0, 'Carson Kitchen':...</td>\n",
       "      <td>[5.0, 4.0, 5.0, 4.0, 4.0, 4.0, 3.0, 2.0, 5.0, ...</td>\n",
       "    </tr>\n",
       "    <tr>\n",
       "      <th>4</th>\n",
       "      <td>-05XqtNjcBq19vh2CVJN8g</td>\n",
       "      <td>0.0</td>\n",
       "      <td>0.0</td>\n",
       "      <td>0.0</td>\n",
       "      <td>0.0</td>\n",
       "      <td>0.0</td>\n",
       "      <td>0.0</td>\n",
       "      <td>0.0</td>\n",
       "      <td>0.0</td>\n",
       "      <td>0.0</td>\n",
       "      <td>...</td>\n",
       "      <td>0.0</td>\n",
       "      <td>0.0</td>\n",
       "      <td>0.0</td>\n",
       "      <td>0.0</td>\n",
       "      <td>0.0</td>\n",
       "      <td>0.0</td>\n",
       "      <td>6</td>\n",
       "      <td>[California Pizza Kitchen at Summerlin, Cantin...</td>\n",
       "      <td>{'California Pizza Kitchen at Summerlin': 5.0,...</td>\n",
       "      <td>[5.0, 2.0, 2.0, 5.0, 5.0, 5.0]</td>\n",
       "    </tr>\n",
       "  </tbody>\n",
       "</table>\n",
       "<p>5 rows × 1718 columns</p>\n",
       "</div>"
      ],
      "text/plain": [
       "                    index  1900 Asian Cuisine  1923 Bourbon Bar  \\\n",
       "0  ---1lKK3aKOuomHnwAkAow                 0.0               0.0   \n",
       "1  --RlSfc-QmcHFGHyX6aVjA                 0.0               0.0   \n",
       "2  --WLHsm-AC4jcol2gOkmCQ                 0.0               0.0   \n",
       "3  --ZNfWKj1VyVElRx6-g1fg                 0.0               0.0   \n",
       "4  -05XqtNjcBq19vh2CVJN8g                 0.0               0.0   \n",
       "\n",
       "   21 Restaurant & Lounge  28GO The Restaurant  360 Gourmet Burrito  \\\n",
       "0                     0.0                  0.0                  0.0   \n",
       "1                     0.0                  0.0                  0.0   \n",
       "2                     0.0                  0.0                  0.0   \n",
       "3                     0.0                  0.0                  0.0   \n",
       "4                     0.0                  0.0                  0.0   \n",
       "\n",
       "   50's Diner Omelet House  7th & Carson  800 Degrees (Outlet 1 - 89109)  \\\n",
       "0                      0.0           0.0                             0.0   \n",
       "1                      0.0           0.0                             0.0   \n",
       "2                      0.0           0.0                             0.0   \n",
       "3                      0.0           0.0                             0.0   \n",
       "4                      0.0           0.0                             0.0   \n",
       "\n",
       "   800 Degrees (Outlet 2 - 89109)  \\\n",
       "0                             0.0   \n",
       "1                             0.0   \n",
       "2                             0.0   \n",
       "3                             0.0   \n",
       "4                             0.0   \n",
       "\n",
       "                         ...                          Zest - Bistro & Bar  \\\n",
       "0                        ...                                          0.0   \n",
       "1                        ...                                          0.0   \n",
       "2                        ...                                          0.0   \n",
       "3                        ...                                          0.0   \n",
       "4                        ...                                          0.0   \n",
       "\n",
       "   Zine Noodles Dim Sum  Zizzy (Outlet 2 - 89102)  Zoozacrackers Deli  \\\n",
       "0                   0.0                       0.0                 0.0   \n",
       "1                   0.0                       0.0                 0.0   \n",
       "2                   0.0                       0.0                 0.0   \n",
       "3                   0.0                       0.0                 0.0   \n",
       "4                   0.0                       0.0                 0.0   \n",
       "\n",
       "   barMASA  chow.  rest_list_len  \\\n",
       "0      0.0    0.0             10   \n",
       "1      0.0    0.0             22   \n",
       "2      0.0    0.0              7   \n",
       "3      0.0    0.0             12   \n",
       "4      0.0    0.0              6   \n",
       "\n",
       "                                        res_reviewed  \\\n",
       "0  [Carrabba's Italian Grill, Lotus of Siam (Outl...   \n",
       "1  [BabyStacks Cafe (Outlet 1 - 89128), Bachi Hea...   \n",
       "2  [Cafe Bellagio, Da Lat, Earl of Sandwich (Outl...   \n",
       "3  [Andiron Steak & Sea, Carson Kitchen, Lotus of...   \n",
       "4  [California Pizza Kitchen at Summerlin, Cantin...   \n",
       "\n",
       "                                 res_reviewed_rating  \\\n",
       "0  {'Carrabba's Italian Grill': 3.0, 'Lotus of Si...   \n",
       "1  {'BabyStacks Cafe (Outlet 1 - 89128)': 4.0, 'B...   \n",
       "2  {'Cafe Bellagio': 2.0, 'Da Lat': 3.0, 'Earl of...   \n",
       "3  {'Andiron Steak & Sea': 5.0, 'Carson Kitchen':...   \n",
       "4  {'California Pizza Kitchen at Summerlin': 5.0,...   \n",
       "\n",
       "                                          res_rating  \n",
       "0  [3.0, 5.0, 3.0, 5.0, 5.0, 3.0, 1.0, 4.0, 4.0, ...  \n",
       "1  [4.0, 4.0, 3.0, 4.0, 4.0, 4.0, 4.0, 4.0, 4.0, ...  \n",
       "2                [2.0, 3.0, 4.0, 4.0, 3.0, 1.0, 4.0]  \n",
       "3  [5.0, 4.0, 5.0, 4.0, 4.0, 4.0, 3.0, 2.0, 5.0, ...  \n",
       "4                     [5.0, 2.0, 2.0, 5.0, 5.0, 5.0]  \n",
       "\n",
       "[5 rows x 1718 columns]"
      ]
     },
     "execution_count": 197,
     "metadata": {},
     "output_type": "execute_result"
    }
   ],
   "source": [
    "df.head()"
   ]
  },
  {
   "cell_type": "code",
   "execution_count": 200,
   "metadata": {},
   "outputs": [],
   "source": [
    "# Touchup to existing columns\n",
    "\n",
    "# Create a new reviewer column\n",
    "df['user_index'] = df['index'].apply(lambda x: 'Reviewer - ' + str(x))\n",
    "\n",
    "df.rename(columns = {'index': 'user_id'}, inplace = True)"
   ]
  },
  {
   "cell_type": "code",
   "execution_count": 207,
   "metadata": {},
   "outputs": [],
   "source": [
    "# Save csv file of customer ratings to businesses\n",
    "\n",
    "df.to_csv('cust_ratings_businesses.csv', index = False)"
   ]
  },
  {
   "cell_type": "markdown",
   "metadata": {},
   "source": [
    "### 2) Preparation of files "
   ]
  },
  {
   "cell_type": "code",
   "execution_count": 1,
   "metadata": {},
   "outputs": [
    {
     "ename": "NameError",
     "evalue": "name 'pd' is not defined",
     "output_type": "error",
     "traceback": [
      "\u001b[1;31m---------------------------------------------------------------------------\u001b[0m",
      "\u001b[1;31mNameError\u001b[0m                                 Traceback (most recent call last)",
      "\u001b[1;32m<ipython-input-1-0c6a588bfbe8>\u001b[0m in \u001b[0;36m<module>\u001b[1;34m()\u001b[0m\n\u001b[0;32m      1\u001b[0m \u001b[1;31m# Load user-restaurant-ratings matrix\u001b[0m\u001b[1;33m\u001b[0m\u001b[1;33m\u001b[0m\u001b[0m\n\u001b[0;32m      2\u001b[0m \u001b[1;33m\u001b[0m\u001b[0m\n\u001b[1;32m----> 3\u001b[1;33m \u001b[0mcust_ratings_bus\u001b[0m \u001b[1;33m=\u001b[0m \u001b[0mpd\u001b[0m\u001b[1;33m.\u001b[0m\u001b[0mread_csv\u001b[0m\u001b[1;33m(\u001b[0m\u001b[1;34m'cust_ratings_businesses.csv'\u001b[0m\u001b[1;33m)\u001b[0m\u001b[1;33m\u001b[0m\u001b[0m\n\u001b[0m\u001b[0;32m      4\u001b[0m \u001b[0mprint\u001b[0m\u001b[1;33m(\u001b[0m\u001b[0mcust_ratings_bus\u001b[0m\u001b[1;33m.\u001b[0m\u001b[0mshape\u001b[0m\u001b[1;33m)\u001b[0m\u001b[1;33m\u001b[0m\u001b[0m\n",
      "\u001b[1;31mNameError\u001b[0m: name 'pd' is not defined"
     ]
    }
   ],
   "source": [
    "# Load user-restaurant-ratings matrix\n",
    "\n",
    "cust_ratings_bus = pd.read_csv('cust_ratings_businesses.csv')\n",
    "print(cust_ratings_bus.shape)"
   ]
  },
  {
   "cell_type": "code",
   "execution_count": 209,
   "metadata": {
    "scrolled": true
   },
   "outputs": [
    {
     "data": {
      "text/html": [
       "<div>\n",
       "<style scoped>\n",
       "    .dataframe tbody tr th:only-of-type {\n",
       "        vertical-align: middle;\n",
       "    }\n",
       "\n",
       "    .dataframe tbody tr th {\n",
       "        vertical-align: top;\n",
       "    }\n",
       "\n",
       "    .dataframe thead th {\n",
       "        text-align: right;\n",
       "    }\n",
       "</style>\n",
       "<table border=\"1\" class=\"dataframe\">\n",
       "  <thead>\n",
       "    <tr style=\"text-align: right;\">\n",
       "      <th></th>\n",
       "      <th>user_id</th>\n",
       "      <th>1900 Asian Cuisine</th>\n",
       "      <th>1923 Bourbon Bar</th>\n",
       "      <th>21 Restaurant &amp; Lounge</th>\n",
       "      <th>28GO The Restaurant</th>\n",
       "      <th>360 Gourmet Burrito</th>\n",
       "      <th>50's Diner Omelet House</th>\n",
       "      <th>7th &amp; Carson</th>\n",
       "      <th>800 Degrees (Outlet 1 - 89109)</th>\n",
       "      <th>800 Degrees (Outlet 2 - 89109)</th>\n",
       "      <th>...</th>\n",
       "      <th>Zine Noodles Dim Sum</th>\n",
       "      <th>Zizzy (Outlet 2 - 89102)</th>\n",
       "      <th>Zoozacrackers Deli</th>\n",
       "      <th>barMASA</th>\n",
       "      <th>chow.</th>\n",
       "      <th>rest_list_len</th>\n",
       "      <th>res_reviewed</th>\n",
       "      <th>res_reviewed_rating</th>\n",
       "      <th>res_rating</th>\n",
       "      <th>user_index</th>\n",
       "    </tr>\n",
       "  </thead>\n",
       "  <tbody>\n",
       "    <tr>\n",
       "      <th>0</th>\n",
       "      <td>---1lKK3aKOuomHnwAkAow</td>\n",
       "      <td>0.0</td>\n",
       "      <td>0.0</td>\n",
       "      <td>0.0</td>\n",
       "      <td>0.0</td>\n",
       "      <td>0.0</td>\n",
       "      <td>0.0</td>\n",
       "      <td>0.0</td>\n",
       "      <td>0.0</td>\n",
       "      <td>0.0</td>\n",
       "      <td>...</td>\n",
       "      <td>0.0</td>\n",
       "      <td>0.0</td>\n",
       "      <td>0.0</td>\n",
       "      <td>0.0</td>\n",
       "      <td>0.0</td>\n",
       "      <td>10</td>\n",
       "      <td>[\"Carrabba's Italian Grill\", 'Lotus of Siam (O...</td>\n",
       "      <td>{\"Carrabba's Italian Grill\": 3.0, 'Lotus of Si...</td>\n",
       "      <td>[3.0, 5.0, 3.0, 5.0, 5.0, 3.0, 1.0, 4.0, 4.0, ...</td>\n",
       "      <td>Reviewer - ---1lKK3aKOuomHnwAkAow</td>\n",
       "    </tr>\n",
       "    <tr>\n",
       "      <th>1</th>\n",
       "      <td>--RlSfc-QmcHFGHyX6aVjA</td>\n",
       "      <td>0.0</td>\n",
       "      <td>0.0</td>\n",
       "      <td>0.0</td>\n",
       "      <td>0.0</td>\n",
       "      <td>0.0</td>\n",
       "      <td>0.0</td>\n",
       "      <td>0.0</td>\n",
       "      <td>0.0</td>\n",
       "      <td>0.0</td>\n",
       "      <td>...</td>\n",
       "      <td>0.0</td>\n",
       "      <td>0.0</td>\n",
       "      <td>0.0</td>\n",
       "      <td>0.0</td>\n",
       "      <td>0.0</td>\n",
       "      <td>22</td>\n",
       "      <td>['BabyStacks Cafe (Outlet 1 - 89128)', 'Bachi ...</td>\n",
       "      <td>{'BabyStacks Cafe (Outlet 1 - 89128)': 4.0, 'B...</td>\n",
       "      <td>[4.0, 4.0, 3.0, 4.0, 4.0, 4.0, 4.0, 4.0, 4.0, ...</td>\n",
       "      <td>Reviewer - --RlSfc-QmcHFGHyX6aVjA</td>\n",
       "    </tr>\n",
       "    <tr>\n",
       "      <th>2</th>\n",
       "      <td>--WLHsm-AC4jcol2gOkmCQ</td>\n",
       "      <td>0.0</td>\n",
       "      <td>0.0</td>\n",
       "      <td>0.0</td>\n",
       "      <td>0.0</td>\n",
       "      <td>0.0</td>\n",
       "      <td>0.0</td>\n",
       "      <td>0.0</td>\n",
       "      <td>0.0</td>\n",
       "      <td>0.0</td>\n",
       "      <td>...</td>\n",
       "      <td>0.0</td>\n",
       "      <td>0.0</td>\n",
       "      <td>0.0</td>\n",
       "      <td>0.0</td>\n",
       "      <td>0.0</td>\n",
       "      <td>7</td>\n",
       "      <td>['Cafe Bellagio', 'Da Lat', 'Earl of Sandwich ...</td>\n",
       "      <td>{'Cafe Bellagio': 2.0, 'Da Lat': 3.0, 'Earl of...</td>\n",
       "      <td>[2.0, 3.0, 4.0, 4.0, 3.0, 1.0, 4.0]</td>\n",
       "      <td>Reviewer - --WLHsm-AC4jcol2gOkmCQ</td>\n",
       "    </tr>\n",
       "    <tr>\n",
       "      <th>3</th>\n",
       "      <td>--ZNfWKj1VyVElRx6-g1fg</td>\n",
       "      <td>0.0</td>\n",
       "      <td>0.0</td>\n",
       "      <td>0.0</td>\n",
       "      <td>0.0</td>\n",
       "      <td>0.0</td>\n",
       "      <td>0.0</td>\n",
       "      <td>0.0</td>\n",
       "      <td>0.0</td>\n",
       "      <td>0.0</td>\n",
       "      <td>...</td>\n",
       "      <td>0.0</td>\n",
       "      <td>0.0</td>\n",
       "      <td>0.0</td>\n",
       "      <td>0.0</td>\n",
       "      <td>0.0</td>\n",
       "      <td>12</td>\n",
       "      <td>['Andiron Steak &amp; Sea', 'Carson Kitchen', 'Lot...</td>\n",
       "      <td>{'Andiron Steak &amp; Sea': 5.0, 'Carson Kitchen':...</td>\n",
       "      <td>[5.0, 4.0, 5.0, 4.0, 4.0, 4.0, 3.0, 2.0, 5.0, ...</td>\n",
       "      <td>Reviewer - --ZNfWKj1VyVElRx6-g1fg</td>\n",
       "    </tr>\n",
       "    <tr>\n",
       "      <th>4</th>\n",
       "      <td>-05XqtNjcBq19vh2CVJN8g</td>\n",
       "      <td>0.0</td>\n",
       "      <td>0.0</td>\n",
       "      <td>0.0</td>\n",
       "      <td>0.0</td>\n",
       "      <td>0.0</td>\n",
       "      <td>0.0</td>\n",
       "      <td>0.0</td>\n",
       "      <td>0.0</td>\n",
       "      <td>0.0</td>\n",
       "      <td>...</td>\n",
       "      <td>0.0</td>\n",
       "      <td>0.0</td>\n",
       "      <td>0.0</td>\n",
       "      <td>0.0</td>\n",
       "      <td>0.0</td>\n",
       "      <td>6</td>\n",
       "      <td>['California Pizza Kitchen at Summerlin', 'Can...</td>\n",
       "      <td>{'California Pizza Kitchen at Summerlin': 5.0,...</td>\n",
       "      <td>[5.0, 2.0, 2.0, 5.0, 5.0, 5.0]</td>\n",
       "      <td>Reviewer - -05XqtNjcBq19vh2CVJN8g</td>\n",
       "    </tr>\n",
       "  </tbody>\n",
       "</table>\n",
       "<p>5 rows × 1719 columns</p>\n",
       "</div>"
      ],
      "text/plain": [
       "                  user_id  1900 Asian Cuisine  1923 Bourbon Bar  \\\n",
       "0  ---1lKK3aKOuomHnwAkAow                 0.0               0.0   \n",
       "1  --RlSfc-QmcHFGHyX6aVjA                 0.0               0.0   \n",
       "2  --WLHsm-AC4jcol2gOkmCQ                 0.0               0.0   \n",
       "3  --ZNfWKj1VyVElRx6-g1fg                 0.0               0.0   \n",
       "4  -05XqtNjcBq19vh2CVJN8g                 0.0               0.0   \n",
       "\n",
       "   21 Restaurant & Lounge  28GO The Restaurant  360 Gourmet Burrito  \\\n",
       "0                     0.0                  0.0                  0.0   \n",
       "1                     0.0                  0.0                  0.0   \n",
       "2                     0.0                  0.0                  0.0   \n",
       "3                     0.0                  0.0                  0.0   \n",
       "4                     0.0                  0.0                  0.0   \n",
       "\n",
       "   50's Diner Omelet House  7th & Carson  800 Degrees (Outlet 1 - 89109)  \\\n",
       "0                      0.0           0.0                             0.0   \n",
       "1                      0.0           0.0                             0.0   \n",
       "2                      0.0           0.0                             0.0   \n",
       "3                      0.0           0.0                             0.0   \n",
       "4                      0.0           0.0                             0.0   \n",
       "\n",
       "   800 Degrees (Outlet 2 - 89109)                ...                  \\\n",
       "0                             0.0                ...                   \n",
       "1                             0.0                ...                   \n",
       "2                             0.0                ...                   \n",
       "3                             0.0                ...                   \n",
       "4                             0.0                ...                   \n",
       "\n",
       "   Zine Noodles Dim Sum  Zizzy (Outlet 2 - 89102)  Zoozacrackers Deli  \\\n",
       "0                   0.0                       0.0                 0.0   \n",
       "1                   0.0                       0.0                 0.0   \n",
       "2                   0.0                       0.0                 0.0   \n",
       "3                   0.0                       0.0                 0.0   \n",
       "4                   0.0                       0.0                 0.0   \n",
       "\n",
       "   barMASA  chow.  rest_list_len  \\\n",
       "0      0.0    0.0             10   \n",
       "1      0.0    0.0             22   \n",
       "2      0.0    0.0              7   \n",
       "3      0.0    0.0             12   \n",
       "4      0.0    0.0              6   \n",
       "\n",
       "                                        res_reviewed  \\\n",
       "0  [\"Carrabba's Italian Grill\", 'Lotus of Siam (O...   \n",
       "1  ['BabyStacks Cafe (Outlet 1 - 89128)', 'Bachi ...   \n",
       "2  ['Cafe Bellagio', 'Da Lat', 'Earl of Sandwich ...   \n",
       "3  ['Andiron Steak & Sea', 'Carson Kitchen', 'Lot...   \n",
       "4  ['California Pizza Kitchen at Summerlin', 'Can...   \n",
       "\n",
       "                                 res_reviewed_rating  \\\n",
       "0  {\"Carrabba's Italian Grill\": 3.0, 'Lotus of Si...   \n",
       "1  {'BabyStacks Cafe (Outlet 1 - 89128)': 4.0, 'B...   \n",
       "2  {'Cafe Bellagio': 2.0, 'Da Lat': 3.0, 'Earl of...   \n",
       "3  {'Andiron Steak & Sea': 5.0, 'Carson Kitchen':...   \n",
       "4  {'California Pizza Kitchen at Summerlin': 5.0,...   \n",
       "\n",
       "                                          res_rating  \\\n",
       "0  [3.0, 5.0, 3.0, 5.0, 5.0, 3.0, 1.0, 4.0, 4.0, ...   \n",
       "1  [4.0, 4.0, 3.0, 4.0, 4.0, 4.0, 4.0, 4.0, 4.0, ...   \n",
       "2                [2.0, 3.0, 4.0, 4.0, 3.0, 1.0, 4.0]   \n",
       "3  [5.0, 4.0, 5.0, 4.0, 4.0, 4.0, 3.0, 2.0, 5.0, ...   \n",
       "4                     [5.0, 2.0, 2.0, 5.0, 5.0, 5.0]   \n",
       "\n",
       "                          user_index  \n",
       "0  Reviewer - ---1lKK3aKOuomHnwAkAow  \n",
       "1  Reviewer - --RlSfc-QmcHFGHyX6aVjA  \n",
       "2  Reviewer - --WLHsm-AC4jcol2gOkmCQ  \n",
       "3  Reviewer - --ZNfWKj1VyVElRx6-g1fg  \n",
       "4  Reviewer - -05XqtNjcBq19vh2CVJN8g  \n",
       "\n",
       "[5 rows x 1719 columns]"
      ]
     },
     "execution_count": 209,
     "metadata": {},
     "output_type": "execute_result"
    }
   ],
   "source": [
    "cust_ratings_bus.head()"
   ]
  },
  {
   "cell_type": "code",
   "execution_count": 210,
   "metadata": {},
   "outputs": [],
   "source": [
    "# Convert res_reviewed_rating and res_reviewed/res_rating from string equivalent of dict and list respectively to actual dict and list\n",
    "\n",
    "cust_ratings_bus['res_reviewed'] = cust_ratings_bus['res_reviewed'].apply(literal_eval)\n",
    "cust_ratings_bus['res_reviewed_rating'] = cust_ratings_bus['res_reviewed_rating'].apply(literal_eval)\n",
    "cust_ratings_bus['res_rating'] = cust_ratings_bus['res_rating'].apply(literal_eval)"
   ]
  },
  {
   "cell_type": "markdown",
   "metadata": {},
   "source": [
    "### 2a) User-User Collaborative Filtering (Manual)\n",
    "\n",
    "A basic collaborative filtering algorithm, taking into account the mean ratings of each user or item.\n",
    "\n",
    "$${\\normalsize \\hat{r}_{ui} = \\mu_u + \\frac{ \\sum\\limits_{v \\in N^k_i(u)}\\text{sim}(u, v) \\cdot (r_{vi} - \\mu_v)}{\\sum\\limits_{v \\in N^k_i(u)} \\text{sim}(u, v)} }$$\n",
    "\n",
    "Where:\n",
    "<br>\n",
    "$\\hat{r}_{ui}$ - Prediction for user $u$ and item $i$.<br>\n",
    "$\\mu_u$ - Baseline estimate for user $u$.<br>\n",
    "$\\sum\\limits_{v \\in N^k_i(u)}$ - $v$ users in $k$ neighborhood most similar to user $u$ for item $i$.<br>\n",
    "$\\text{sim}(u, v)$ - Similarity between user $u$ and $v$.<br>\n",
    "$(r_{vi} - \\mu_v)$ - Deviation of rating for user $v$ and their baseline estimate.<br>"
   ]
  },
  {
   "cell_type": "markdown",
   "metadata": {},
   "source": [
    "### 2a)i) Prep dataset"
   ]
  },
  {
   "cell_type": "code",
   "execution_count": 7,
   "metadata": {},
   "outputs": [
    {
     "name": "stdout",
     "output_type": "stream",
     "text": [
      "(121950, 4)\n"
     ]
    }
   ],
   "source": [
    "# Load melt-down matrix equivalent of above loaded file\n",
    "\n",
    "user_rating_by_rest = pd.read_csv('user_rating_by_rest.csv')\n",
    "print(user_rating_by_rest.shape)"
   ]
  },
  {
   "cell_type": "code",
   "execution_count": 8,
   "metadata": {},
   "outputs": [
    {
     "data": {
      "text/html": [
       "<div>\n",
       "<style scoped>\n",
       "    .dataframe tbody tr th:only-of-type {\n",
       "        vertical-align: middle;\n",
       "    }\n",
       "\n",
       "    .dataframe tbody tr th {\n",
       "        vertical-align: top;\n",
       "    }\n",
       "\n",
       "    .dataframe thead th {\n",
       "        text-align: right;\n",
       "    }\n",
       "</style>\n",
       "<table border=\"1\" class=\"dataframe\">\n",
       "  <thead>\n",
       "    <tr style=\"text-align: right;\">\n",
       "      <th></th>\n",
       "      <th>user_id</th>\n",
       "      <th>unique_store_id</th>\n",
       "      <th>user_stars</th>\n",
       "      <th>date</th>\n",
       "    </tr>\n",
       "  </thead>\n",
       "  <tbody>\n",
       "    <tr>\n",
       "      <th>121945</th>\n",
       "      <td>4PFwh5zbgyPhTGRtxkSZZA</td>\n",
       "      <td>Roberto's Taco Shop (Outlet 1 - 89103)</td>\n",
       "      <td>3.0</td>\n",
       "      <td>2015-06-17</td>\n",
       "    </tr>\n",
       "    <tr>\n",
       "      <th>121946</th>\n",
       "      <td>oS2O8YQ31HTSTQgPQKc7Cg</td>\n",
       "      <td>Roberto's Taco Shop (Outlet 1 - 89103)</td>\n",
       "      <td>3.0</td>\n",
       "      <td>2013-02-13</td>\n",
       "    </tr>\n",
       "    <tr>\n",
       "      <th>121947</th>\n",
       "      <td>fiGqQ7pIGKyZ9G0RqWLMpg</td>\n",
       "      <td>Roberto's Taco Shop (Outlet 1 - 89103)</td>\n",
       "      <td>1.0</td>\n",
       "      <td>2017-05-22</td>\n",
       "    </tr>\n",
       "    <tr>\n",
       "      <th>121948</th>\n",
       "      <td>p_QErki4bI6Ni598P0QX9A</td>\n",
       "      <td>Roberto's Taco Shop (Outlet 1 - 89103)</td>\n",
       "      <td>1.0</td>\n",
       "      <td>2013-07-23</td>\n",
       "    </tr>\n",
       "    <tr>\n",
       "      <th>121949</th>\n",
       "      <td>qPVtjjp8sNQ32p9860SR9Q</td>\n",
       "      <td>Roberto's Taco Shop (Outlet 1 - 89103)</td>\n",
       "      <td>4.0</td>\n",
       "      <td>2014-09-06</td>\n",
       "    </tr>\n",
       "  </tbody>\n",
       "</table>\n",
       "</div>"
      ],
      "text/plain": [
       "                       user_id                         unique_store_id  \\\n",
       "121945  4PFwh5zbgyPhTGRtxkSZZA  Roberto's Taco Shop (Outlet 1 - 89103)   \n",
       "121946  oS2O8YQ31HTSTQgPQKc7Cg  Roberto's Taco Shop (Outlet 1 - 89103)   \n",
       "121947  fiGqQ7pIGKyZ9G0RqWLMpg  Roberto's Taco Shop (Outlet 1 - 89103)   \n",
       "121948  p_QErki4bI6Ni598P0QX9A  Roberto's Taco Shop (Outlet 1 - 89103)   \n",
       "121949  qPVtjjp8sNQ32p9860SR9Q  Roberto's Taco Shop (Outlet 1 - 89103)   \n",
       "\n",
       "        user_stars        date  \n",
       "121945         3.0  2015-06-17  \n",
       "121946         3.0  2013-02-13  \n",
       "121947         1.0  2017-05-22  \n",
       "121948         1.0  2013-07-23  \n",
       "121949         4.0  2014-09-06  "
      ]
     },
     "execution_count": 8,
     "metadata": {},
     "output_type": "execute_result"
    }
   ],
   "source": [
    "user_rating_by_rest.tail()"
   ]
  },
  {
   "cell_type": "code",
   "execution_count": 218,
   "metadata": {},
   "outputs": [],
   "source": [
    "# Convert 'date' column to datetime format\n",
    "\n",
    "user_rating_by_rest['date'] = pd.to_datetime(user_rating_by_rest['date'])"
   ]
  },
  {
   "cell_type": "code",
   "execution_count": 219,
   "metadata": {},
   "outputs": [],
   "source": [
    "# function to remove all products/users that started after the cutoff year so that regardless of how train test split is done\n",
    "\n",
    "def remove_new_prod_and_users(df, cutoff_year = 2017):\n",
    "    \n",
    "    # remove all products/users that started in cutoff_year\n",
    "    df['year'] = df['date'].apply(lambda x: x.year)\n",
    "\n",
    "    # for every user id, check if the earliest review was before cutoff_year. Remove any new user ids created on or after cutoff_year\n",
    "    user_start_date = df.groupby('user_id')['year'].min()\n",
    "    df = df[df['user_id'].isin(user_start_date[user_start_date < cutoff_year].index)]\n",
    "    \n",
    "    # for every store id, check if the earliest review was before cutoff_year. Remove any new store ids created on or after cutoff_year\n",
    "    product_start_date = df.groupby('unique_store_id')['year'].min()\n",
    "    df = df[df['unique_store_id'].isin(product_start_date[product_start_date < cutoff_year].index)]\n",
    "    \n",
    "    print(df.shape)\n",
    "    \n",
    "    return df"
   ]
  },
  {
   "cell_type": "code",
   "execution_count": 220,
   "metadata": {},
   "outputs": [
    {
     "name": "stdout",
     "output_type": "stream",
     "text": [
      "(109987, 5)\n"
     ]
    }
   ],
   "source": [
    "# Clean up dataset by removing new products and new users introduced 2017 onwards and sort values by year\n",
    "\n",
    "user_rating_by_rest = remove_new_prod_and_users(user_rating_by_rest, 2017)\n",
    "user_rating_by_rest = user_rating_by_rest.sort_values(by = 'year').reset_index(drop = True)"
   ]
  },
  {
   "cell_type": "markdown",
   "metadata": {},
   "source": [
    "### 2a)ii) Perform train test split"
   ]
  },
  {
   "cell_type": "code",
   "execution_count": 221,
   "metadata": {},
   "outputs": [
    {
     "name": "stdout",
     "output_type": "stream",
     "text": [
      "(92244, 3)\n",
      "(17743, 3)\n"
     ]
    }
   ],
   "source": [
    "# Training set consists of rated restaurants prior to 2017\n",
    "res_pre2017 = user_rating_by_rest[user_rating_by_rest['year'] < 2017][['user_id', 'unique_store_id', 'user_stars']]\n",
    "\n",
    "# Testing set of rated restaurants from 2017 onwards\n",
    "res_post2017 = user_rating_by_rest[user_rating_by_rest['year'] >= 2017][['user_id', 'unique_store_id', 'user_stars']]\n",
    "\n",
    "print(res_pre2017.shape)\n",
    "print(res_post2017.shape) # ~18% of full set"
   ]
  },
  {
   "cell_type": "code",
   "execution_count": 367,
   "metadata": {},
   "outputs": [
    {
     "data": {
      "text/plain": [
       "1212"
      ]
     },
     "execution_count": 367,
     "metadata": {},
     "output_type": "execute_result"
    }
   ],
   "source": [
    "res_post2017['unique_store_id'].nunique()"
   ]
  },
  {
   "cell_type": "code",
   "execution_count": 222,
   "metadata": {
    "scrolled": true
   },
   "outputs": [
    {
     "data": {
      "text/plain": [
       "(8425, 1582)"
      ]
     },
     "execution_count": 222,
     "metadata": {},
     "output_type": "execute_result"
    }
   ],
   "source": [
    "# pivot training set\n",
    "pre2017_matrix = res_pre2017.pivot(index = 'user_id', columns ='unique_store_id', values = 'user_stars').fillna(0)\n",
    "pre2017_matrix.shape"
   ]
  },
  {
   "cell_type": "code",
   "execution_count": 223,
   "metadata": {},
   "outputs": [
    {
     "data": {
      "text/html": [
       "<div>\n",
       "<style scoped>\n",
       "    .dataframe tbody tr th:only-of-type {\n",
       "        vertical-align: middle;\n",
       "    }\n",
       "\n",
       "    .dataframe tbody tr th {\n",
       "        vertical-align: top;\n",
       "    }\n",
       "\n",
       "    .dataframe thead th {\n",
       "        text-align: right;\n",
       "    }\n",
       "</style>\n",
       "<table border=\"1\" class=\"dataframe\">\n",
       "  <thead>\n",
       "    <tr style=\"text-align: right;\">\n",
       "      <th>unique_store_id</th>\n",
       "      <th>index</th>\n",
       "      <th>user_id</th>\n",
       "      <th>1900 Asian Cuisine</th>\n",
       "      <th>1923 Bourbon Bar</th>\n",
       "      <th>21 Restaurant &amp; Lounge</th>\n",
       "      <th>28GO The Restaurant</th>\n",
       "      <th>360 Gourmet Burrito</th>\n",
       "      <th>50's Diner Omelet House</th>\n",
       "      <th>800 Degrees (Outlet 1 - 89109)</th>\n",
       "      <th>800 Degrees (Outlet 2 - 89109)</th>\n",
       "      <th>...</th>\n",
       "      <th>Zaba's Mexican Grill</th>\n",
       "      <th>Zabas Mexican Grill</th>\n",
       "      <th>Zeffirino</th>\n",
       "      <th>Zenaida's Cafe</th>\n",
       "      <th>Zest - Bistro &amp; Bar</th>\n",
       "      <th>Zine Noodles Dim Sum</th>\n",
       "      <th>Zizzy (Outlet 2 - 89102)</th>\n",
       "      <th>Zoozacrackers Deli</th>\n",
       "      <th>barMASA</th>\n",
       "      <th>chow.</th>\n",
       "    </tr>\n",
       "  </thead>\n",
       "  <tbody>\n",
       "    <tr>\n",
       "      <th>0</th>\n",
       "      <td>0</td>\n",
       "      <td>---1lKK3aKOuomHnwAkAow</td>\n",
       "      <td>0.0</td>\n",
       "      <td>0.0</td>\n",
       "      <td>0.0</td>\n",
       "      <td>0.0</td>\n",
       "      <td>0.0</td>\n",
       "      <td>0.0</td>\n",
       "      <td>0.0</td>\n",
       "      <td>0.0</td>\n",
       "      <td>...</td>\n",
       "      <td>0.0</td>\n",
       "      <td>0.0</td>\n",
       "      <td>0.0</td>\n",
       "      <td>0.0</td>\n",
       "      <td>0.0</td>\n",
       "      <td>0.0</td>\n",
       "      <td>0.0</td>\n",
       "      <td>0.0</td>\n",
       "      <td>0.0</td>\n",
       "      <td>0.0</td>\n",
       "    </tr>\n",
       "    <tr>\n",
       "      <th>1</th>\n",
       "      <td>1</td>\n",
       "      <td>--RlSfc-QmcHFGHyX6aVjA</td>\n",
       "      <td>0.0</td>\n",
       "      <td>0.0</td>\n",
       "      <td>0.0</td>\n",
       "      <td>0.0</td>\n",
       "      <td>0.0</td>\n",
       "      <td>0.0</td>\n",
       "      <td>0.0</td>\n",
       "      <td>0.0</td>\n",
       "      <td>...</td>\n",
       "      <td>0.0</td>\n",
       "      <td>0.0</td>\n",
       "      <td>0.0</td>\n",
       "      <td>0.0</td>\n",
       "      <td>0.0</td>\n",
       "      <td>0.0</td>\n",
       "      <td>0.0</td>\n",
       "      <td>0.0</td>\n",
       "      <td>0.0</td>\n",
       "      <td>0.0</td>\n",
       "    </tr>\n",
       "    <tr>\n",
       "      <th>2</th>\n",
       "      <td>2</td>\n",
       "      <td>--WLHsm-AC4jcol2gOkmCQ</td>\n",
       "      <td>0.0</td>\n",
       "      <td>0.0</td>\n",
       "      <td>0.0</td>\n",
       "      <td>0.0</td>\n",
       "      <td>0.0</td>\n",
       "      <td>0.0</td>\n",
       "      <td>0.0</td>\n",
       "      <td>0.0</td>\n",
       "      <td>...</td>\n",
       "      <td>0.0</td>\n",
       "      <td>0.0</td>\n",
       "      <td>0.0</td>\n",
       "      <td>0.0</td>\n",
       "      <td>0.0</td>\n",
       "      <td>0.0</td>\n",
       "      <td>0.0</td>\n",
       "      <td>0.0</td>\n",
       "      <td>0.0</td>\n",
       "      <td>0.0</td>\n",
       "    </tr>\n",
       "    <tr>\n",
       "      <th>3</th>\n",
       "      <td>3</td>\n",
       "      <td>--ZNfWKj1VyVElRx6-g1fg</td>\n",
       "      <td>0.0</td>\n",
       "      <td>0.0</td>\n",
       "      <td>0.0</td>\n",
       "      <td>0.0</td>\n",
       "      <td>0.0</td>\n",
       "      <td>0.0</td>\n",
       "      <td>0.0</td>\n",
       "      <td>0.0</td>\n",
       "      <td>...</td>\n",
       "      <td>0.0</td>\n",
       "      <td>0.0</td>\n",
       "      <td>0.0</td>\n",
       "      <td>0.0</td>\n",
       "      <td>0.0</td>\n",
       "      <td>0.0</td>\n",
       "      <td>0.0</td>\n",
       "      <td>0.0</td>\n",
       "      <td>0.0</td>\n",
       "      <td>0.0</td>\n",
       "    </tr>\n",
       "    <tr>\n",
       "      <th>4</th>\n",
       "      <td>4</td>\n",
       "      <td>-05XqtNjcBq19vh2CVJN8g</td>\n",
       "      <td>0.0</td>\n",
       "      <td>0.0</td>\n",
       "      <td>0.0</td>\n",
       "      <td>0.0</td>\n",
       "      <td>0.0</td>\n",
       "      <td>0.0</td>\n",
       "      <td>0.0</td>\n",
       "      <td>0.0</td>\n",
       "      <td>...</td>\n",
       "      <td>0.0</td>\n",
       "      <td>0.0</td>\n",
       "      <td>0.0</td>\n",
       "      <td>0.0</td>\n",
       "      <td>0.0</td>\n",
       "      <td>0.0</td>\n",
       "      <td>0.0</td>\n",
       "      <td>0.0</td>\n",
       "      <td>0.0</td>\n",
       "      <td>0.0</td>\n",
       "    </tr>\n",
       "  </tbody>\n",
       "</table>\n",
       "<p>5 rows × 1584 columns</p>\n",
       "</div>"
      ],
      "text/plain": [
       "unique_store_id  index                 user_id  1900 Asian Cuisine  \\\n",
       "0                    0  ---1lKK3aKOuomHnwAkAow                 0.0   \n",
       "1                    1  --RlSfc-QmcHFGHyX6aVjA                 0.0   \n",
       "2                    2  --WLHsm-AC4jcol2gOkmCQ                 0.0   \n",
       "3                    3  --ZNfWKj1VyVElRx6-g1fg                 0.0   \n",
       "4                    4  -05XqtNjcBq19vh2CVJN8g                 0.0   \n",
       "\n",
       "unique_store_id  1923 Bourbon Bar  21 Restaurant & Lounge  \\\n",
       "0                             0.0                     0.0   \n",
       "1                             0.0                     0.0   \n",
       "2                             0.0                     0.0   \n",
       "3                             0.0                     0.0   \n",
       "4                             0.0                     0.0   \n",
       "\n",
       "unique_store_id  28GO The Restaurant  360 Gourmet Burrito  \\\n",
       "0                                0.0                  0.0   \n",
       "1                                0.0                  0.0   \n",
       "2                                0.0                  0.0   \n",
       "3                                0.0                  0.0   \n",
       "4                                0.0                  0.0   \n",
       "\n",
       "unique_store_id  50's Diner Omelet House  800 Degrees (Outlet 1 - 89109)  \\\n",
       "0                                    0.0                             0.0   \n",
       "1                                    0.0                             0.0   \n",
       "2                                    0.0                             0.0   \n",
       "3                                    0.0                             0.0   \n",
       "4                                    0.0                             0.0   \n",
       "\n",
       "unique_store_id  800 Degrees (Outlet 2 - 89109)  ...    Zaba's Mexican Grill  \\\n",
       "0                                           0.0  ...                     0.0   \n",
       "1                                           0.0  ...                     0.0   \n",
       "2                                           0.0  ...                     0.0   \n",
       "3                                           0.0  ...                     0.0   \n",
       "4                                           0.0  ...                     0.0   \n",
       "\n",
       "unique_store_id  Zabas Mexican Grill  Zeffirino  Zenaida's Cafe  \\\n",
       "0                                0.0        0.0             0.0   \n",
       "1                                0.0        0.0             0.0   \n",
       "2                                0.0        0.0             0.0   \n",
       "3                                0.0        0.0             0.0   \n",
       "4                                0.0        0.0             0.0   \n",
       "\n",
       "unique_store_id  Zest - Bistro & Bar  Zine Noodles Dim Sum  \\\n",
       "0                                0.0                   0.0   \n",
       "1                                0.0                   0.0   \n",
       "2                                0.0                   0.0   \n",
       "3                                0.0                   0.0   \n",
       "4                                0.0                   0.0   \n",
       "\n",
       "unique_store_id  Zizzy (Outlet 2 - 89102)  Zoozacrackers Deli  barMASA  chow.  \n",
       "0                                     0.0                 0.0      0.0    0.0  \n",
       "1                                     0.0                 0.0      0.0    0.0  \n",
       "2                                     0.0                 0.0      0.0    0.0  \n",
       "3                                     0.0                 0.0      0.0    0.0  \n",
       "4                                     0.0                 0.0      0.0    0.0  \n",
       "\n",
       "[5 rows x 1584 columns]"
      ]
     },
     "execution_count": 223,
     "metadata": {},
     "output_type": "execute_result"
    }
   ],
   "source": [
    "# df with index reset\n",
    "\n",
    "pre2017_matrix_indexreset = pre2017_matrix.reset_index().reset_index()\n",
    "pre2017_matrix_indexreset.head()"
   ]
  },
  {
   "cell_type": "markdown",
   "metadata": {},
   "source": [
    "### 2a)iii) Perform modelling and evaluation of model based on predicted ratings"
   ]
  },
  {
   "cell_type": "code",
   "execution_count": 227,
   "metadata": {},
   "outputs": [],
   "source": [
    "# Based on KNNwithMeans model\n",
    "\n",
    "def uucf_model_prediction(training_matrix):\n",
    "    # Calculate user similarity\n",
    "    user_similarity = cosine_similarity(training_matrix.loc[:,'1900 Asian Cuisine': 'chow.'],\n",
    "                                    training_matrix.loc[:, '1900 Asian Cuisine': 'chow.'])\n",
    "    \n",
    "    # Calculate mean_user_rating\n",
    "    mean_user_rating = np.true_divide(training_matrix.sum(1), (training_matrix != 0).sum(1))\n",
    "    \n",
    "    # Mask non-zero values\n",
    "    mask = training_matrix.values != 0\n",
    "    \n",
    "    # Normalise ratings based on mean rating\n",
    "    training_ratings_diff = np.subtract(training_matrix.values, \n",
    "                                       mean_user_rating[:, np.newaxis], \n",
    "                                       where = (training_matrix.values != 0))\n",
    "    \n",
    "    # Calculate predicted values\n",
    "    pred_training_matrix = np.add(mean_user_rating[:, np.newaxis], \n",
    "                             user_similarity.dot(training_ratings_diff)/\n",
    "                                 np.array([np.abs(user_similarity).sum(axis = 1)]).T)\n",
    "    \n",
    "    return pred_training_matrix"
   ]
  },
  {
   "cell_type": "code",
   "execution_count": 228,
   "metadata": {},
   "outputs": [],
   "source": [
    "# Generate uucf model prediction\n",
    "\n",
    "pred_pre2017_matrix = uucf_model_prediction(pre2017_matrix)"
   ]
  },
  {
   "cell_type": "code",
   "execution_count": 229,
   "metadata": {},
   "outputs": [],
   "source": [
    "# Fit into dataframe so that predicted ratings can be queried\n",
    "pred_pre2017_matrix_df = pd.DataFrame(pred_pre2017_matrix, index = pre2017_matrix.index, columns = pre2017_matrix.columns)"
   ]
  },
  {
   "cell_type": "code",
   "execution_count": 230,
   "metadata": {},
   "outputs": [
    {
     "data": {
      "text/plain": [
       "(8425, 1582)"
      ]
     },
     "execution_count": 230,
     "metadata": {},
     "output_type": "execute_result"
    }
   ],
   "source": [
    "pred_pre2017_matrix_df.shape"
   ]
  },
  {
   "cell_type": "markdown",
   "metadata": {},
   "source": [
    "### 2a)iv) Evaluate RMSE"
   ]
  },
  {
   "cell_type": "code",
   "execution_count": 231,
   "metadata": {},
   "outputs": [
    {
     "data": {
      "text/html": [
       "<div>\n",
       "<style scoped>\n",
       "    .dataframe tbody tr th:only-of-type {\n",
       "        vertical-align: middle;\n",
       "    }\n",
       "\n",
       "    .dataframe tbody tr th {\n",
       "        vertical-align: top;\n",
       "    }\n",
       "\n",
       "    .dataframe thead th {\n",
       "        text-align: right;\n",
       "    }\n",
       "</style>\n",
       "<table border=\"1\" class=\"dataframe\">\n",
       "  <thead>\n",
       "    <tr style=\"text-align: right;\">\n",
       "      <th></th>\n",
       "      <th>user_id</th>\n",
       "      <th>unique_store_id</th>\n",
       "      <th>user_stars</th>\n",
       "    </tr>\n",
       "  </thead>\n",
       "  <tbody>\n",
       "    <tr>\n",
       "      <th>92244</th>\n",
       "      <td>zQTEbn5nWGPypxOf2uRPmg</td>\n",
       "      <td>KoMex Fusion (Outlet 1 - 89107)</td>\n",
       "      <td>5.0</td>\n",
       "    </tr>\n",
       "    <tr>\n",
       "      <th>92245</th>\n",
       "      <td>TdYKJgSgY2GF_YJnwsi5yQ</td>\n",
       "      <td>Fat Dumpling</td>\n",
       "      <td>3.0</td>\n",
       "    </tr>\n",
       "    <tr>\n",
       "      <th>92246</th>\n",
       "      <td>WZVIbYywVPs7L2MrqwgTvw</td>\n",
       "      <td>KoMex Fusion (Outlet 1 - 89107)</td>\n",
       "      <td>5.0</td>\n",
       "    </tr>\n",
       "    <tr>\n",
       "      <th>92247</th>\n",
       "      <td>DUF9LYMMCCawUcnzzXDf4Q</td>\n",
       "      <td>Mon Ami Gabi</td>\n",
       "      <td>5.0</td>\n",
       "    </tr>\n",
       "    <tr>\n",
       "      <th>92248</th>\n",
       "      <td>WG0kTEJJNfT1egnunxpsvQ</td>\n",
       "      <td>Bacchanal Buffet</td>\n",
       "      <td>4.0</td>\n",
       "    </tr>\n",
       "  </tbody>\n",
       "</table>\n",
       "</div>"
      ],
      "text/plain": [
       "                      user_id                  unique_store_id  user_stars\n",
       "92244  zQTEbn5nWGPypxOf2uRPmg  KoMex Fusion (Outlet 1 - 89107)         5.0\n",
       "92245  TdYKJgSgY2GF_YJnwsi5yQ                     Fat Dumpling         3.0\n",
       "92246  WZVIbYywVPs7L2MrqwgTvw  KoMex Fusion (Outlet 1 - 89107)         5.0\n",
       "92247  DUF9LYMMCCawUcnzzXDf4Q                     Mon Ami Gabi         5.0\n",
       "92248  WG0kTEJJNfT1egnunxpsvQ                 Bacchanal Buffet         4.0"
      ]
     },
     "execution_count": 231,
     "metadata": {},
     "output_type": "execute_result"
    }
   ],
   "source": [
    "res_post2017.head()"
   ]
  },
  {
   "cell_type": "code",
   "execution_count": 311,
   "metadata": {},
   "outputs": [
    {
     "data": {
      "text/plain": [
       "1212"
      ]
     },
     "execution_count": 311,
     "metadata": {},
     "output_type": "execute_result"
    }
   ],
   "source": [
    "res_post2017['unique_store_id'].nunique()"
   ]
  },
  {
   "cell_type": "code",
   "execution_count": 232,
   "metadata": {},
   "outputs": [
    {
     "data": {
      "text/html": [
       "<div>\n",
       "<style scoped>\n",
       "    .dataframe tbody tr th:only-of-type {\n",
       "        vertical-align: middle;\n",
       "    }\n",
       "\n",
       "    .dataframe tbody tr th {\n",
       "        vertical-align: top;\n",
       "    }\n",
       "\n",
       "    .dataframe thead th {\n",
       "        text-align: right;\n",
       "    }\n",
       "</style>\n",
       "<table border=\"1\" class=\"dataframe\">\n",
       "  <thead>\n",
       "    <tr style=\"text-align: right;\">\n",
       "      <th></th>\n",
       "      <th>user_id</th>\n",
       "      <th>unique_store_id</th>\n",
       "      <th>user_stars</th>\n",
       "      <th>pred_stars</th>\n",
       "    </tr>\n",
       "  </thead>\n",
       "  <tbody>\n",
       "    <tr>\n",
       "      <th>92244</th>\n",
       "      <td>zQTEbn5nWGPypxOf2uRPmg</td>\n",
       "      <td>KoMex Fusion (Outlet 1 - 89107)</td>\n",
       "      <td>5.0</td>\n",
       "      <td>3.887401</td>\n",
       "    </tr>\n",
       "    <tr>\n",
       "      <th>92245</th>\n",
       "      <td>TdYKJgSgY2GF_YJnwsi5yQ</td>\n",
       "      <td>Fat Dumpling</td>\n",
       "      <td>3.0</td>\n",
       "      <td>3.642112</td>\n",
       "    </tr>\n",
       "    <tr>\n",
       "      <th>92246</th>\n",
       "      <td>WZVIbYywVPs7L2MrqwgTvw</td>\n",
       "      <td>KoMex Fusion (Outlet 1 - 89107)</td>\n",
       "      <td>5.0</td>\n",
       "      <td>4.700030</td>\n",
       "    </tr>\n",
       "    <tr>\n",
       "      <th>92247</th>\n",
       "      <td>DUF9LYMMCCawUcnzzXDf4Q</td>\n",
       "      <td>Mon Ami Gabi</td>\n",
       "      <td>5.0</td>\n",
       "      <td>3.854355</td>\n",
       "    </tr>\n",
       "    <tr>\n",
       "      <th>92248</th>\n",
       "      <td>WG0kTEJJNfT1egnunxpsvQ</td>\n",
       "      <td>Bacchanal Buffet</td>\n",
       "      <td>4.0</td>\n",
       "      <td>3.972234</td>\n",
       "    </tr>\n",
       "  </tbody>\n",
       "</table>\n",
       "</div>"
      ],
      "text/plain": [
       "                      user_id                  unique_store_id  user_stars  \\\n",
       "92244  zQTEbn5nWGPypxOf2uRPmg  KoMex Fusion (Outlet 1 - 89107)         5.0   \n",
       "92245  TdYKJgSgY2GF_YJnwsi5yQ                     Fat Dumpling         3.0   \n",
       "92246  WZVIbYywVPs7L2MrqwgTvw  KoMex Fusion (Outlet 1 - 89107)         5.0   \n",
       "92247  DUF9LYMMCCawUcnzzXDf4Q                     Mon Ami Gabi         5.0   \n",
       "92248  WG0kTEJJNfT1egnunxpsvQ                 Bacchanal Buffet         4.0   \n",
       "\n",
       "       pred_stars  \n",
       "92244    3.887401  \n",
       "92245    3.642112  \n",
       "92246    4.700030  \n",
       "92247    3.854355  \n",
       "92248    3.972234  "
      ]
     },
     "execution_count": 232,
     "metadata": {},
     "output_type": "execute_result"
    }
   ],
   "source": [
    "# map predictions of each user to test set based on test set \n",
    "\n",
    "pred_stars = []\n",
    "for user, store in zip(res_post2017['user_id'], res_post2017['unique_store_id']):\n",
    "    pred_stars.append(pred_pre2017_matrix_df.loc[user, store])\n",
    "\n",
    "# Create new column for predicted stars\n",
    "res_post2017['pred_stars'] = pred_stars\n",
    "\n",
    "res_post2017.head()"
   ]
  },
  {
   "cell_type": "code",
   "execution_count": 235,
   "metadata": {},
   "outputs": [
    {
     "name": "stdout",
     "output_type": "stream",
     "text": [
      "UUCF (Manual) : Test Set\n",
      "RMSE:  1.1183016951878175\n"
     ]
    }
   ],
   "source": [
    "# Calculate RMSE\n",
    "\n",
    "print(\"UUCF (Manual) : Test Set\")\n",
    "print(\"RMSE: \", sqrt(mean_squared_error(res_post2017['user_stars'], res_post2017['pred_stars'])))"
   ]
  },
  {
   "cell_type": "markdown",
   "metadata": {},
   "source": [
    "### 2)a)v) Evaluate precision and recall scores"
   ]
  },
  {
   "cell_type": "code",
   "execution_count": 236,
   "metadata": {},
   "outputs": [],
   "source": [
    "# Prep data for calculation of precision and recall for test set\n",
    "\n",
    "res_post2017_pre_re = res_post2017[['user_id', 'user_stars', 'pred_stars']].values"
   ]
  },
  {
   "cell_type": "code",
   "execution_count": 237,
   "metadata": {},
   "outputs": [],
   "source": [
    "# Calculation of precision and recall score for test set \n",
    "\n",
    "def precision_recall_at_k(data, k = 10, threshold = 3.5):\n",
    "    \n",
    "    # map predictions of each user\n",
    "    user_est_true = defaultdict(list)\n",
    "    for uid, true_r, est in data:\n",
    "        user_est_true[uid].append((est, true_r))\n",
    "        \n",
    "    precisions = dict()\n",
    "    recalls = dict()\n",
    "    for uid, user_ratings in user_est_true.items():\n",
    "        # sort user ratings by estimated value\n",
    "        user_ratings.sort(key=lambda x: x[0], reverse = True)\n",
    "\n",
    "        # Check number of relevant items\n",
    "        n_rel = sum((true_r >= threshold) for (_, true_r) in user_ratings)\n",
    "\n",
    "        # Number of recommended items in top k\n",
    "        n_rec_k = sum((est >= threshold) for (est, _) in user_ratings[:k])\n",
    "\n",
    "        # Number of relevant and recommended items in top k\n",
    "        n_rel_and_rec_k = sum(((true_r >= threshold) and (est >= threshold))\n",
    "                              for (est, true_r) in user_ratings[:k])\n",
    "\n",
    "        # Precisions@k: Proportion of recommended items that are relevant\n",
    "        precisions[uid] = n_rel_and_rec_k/n_rec_k if n_rec_k != 0 else 1\n",
    "        \n",
    "        # Recall@k: Proportion of relevant items that are recommended\n",
    "        recalls[uid] = n_rel_and_rec_k/n_rel if n_rel != 0 else 1\n",
    "        \n",
    "    return precisions, recalls"
   ]
  },
  {
   "cell_type": "code",
   "execution_count": 238,
   "metadata": {},
   "outputs": [
    {
     "name": "stdout",
     "output_type": "stream",
     "text": [
      "Precision score for cosine similarity measure : 0.8016524057539677\n",
      "Recall score for cosine similarity measure : 0.7957350377495934\n"
     ]
    }
   ],
   "source": [
    "# Generate precision and recall score\n",
    "\n",
    "precisions, recalls = precision_recall_at_k(res_post2017_pre_re, k = 10, threshold = 3.5)\n",
    "\n",
    "# Average precision and recall over test users\n",
    "print('Precision score for cosine similarity measure :', sum(prec for prec in precisions.values()) / len(precisions))\n",
    "print('Recall score for cosine similarity measure :', sum(rec for rec in recalls.values()) / len(recalls))"
   ]
  },
  {
   "cell_type": "markdown",
   "metadata": {},
   "source": [
    "### 2a)vi) Generate restaurant recommendations based on predicted ratings"
   ]
  },
  {
   "cell_type": "code",
   "execution_count": 239,
   "metadata": {},
   "outputs": [],
   "source": [
    "user_similarity = cosine_similarity(cust_ratings_bus.loc[:, '1900 Asian Cuisine': 'chow.'],\n",
    "                                        cust_ratings_bus.loc[:, '1900 Asian Cuisine': 'chow.'])"
   ]
  },
  {
   "cell_type": "code",
   "execution_count": 240,
   "metadata": {},
   "outputs": [
    {
     "data": {
      "text/plain": [
       "array([[1.        , 0.        , 0.        , ..., 0.        , 0.        ,\n",
       "        0.        ],\n",
       "       [0.        , 1.        , 0.        , ..., 0.        , 0.        ,\n",
       "        0.13431527],\n",
       "       [0.        , 0.        , 1.        , ..., 0.        , 0.        ,\n",
       "        0.        ],\n",
       "       ...,\n",
       "       [0.        , 0.        , 0.        , ..., 1.        , 0.        ,\n",
       "        0.05852146],\n",
       "       [0.        , 0.        , 0.        , ..., 0.        , 1.        ,\n",
       "        0.        ],\n",
       "       [0.        , 0.13431527, 0.        , ..., 0.05852146, 0.        ,\n",
       "        1.        ]])"
      ]
     },
     "execution_count": 240,
     "metadata": {},
     "output_type": "execute_result"
    }
   ],
   "source": [
    "user_similarity"
   ]
  },
  {
   "cell_type": "code",
   "execution_count": 361,
   "metadata": {},
   "outputs": [],
   "source": [
    "# Function to find most similar reviewers\n",
    "\n",
    "def similar_reviewers(user_id, user_similarity, start_col = '1900 Asian Cuisine', end_col = 'chow.', num_similar_users = 10):\n",
    "    \n",
    "    top_n_similar_user_id = []\n",
    "    top_n_similar_user_csimilarity = []\n",
    "    \n",
    "    # Comparing the customers to assess how similar they are to each other based on rating patterns across all restaurants\n",
    "    user_similarity = cosine_similarity(cust_ratings_bus.loc[:, '1900 Asian Cuisine': 'chow.'],\n",
    "                                        cust_ratings_bus.loc[:, '1900 Asian Cuisine': 'chow.'])\n",
    "    \n",
    "    # Find top 10 most similar users to specified user by cosine similarity score\n",
    "    top_n_similar_user_id = np.argsort(user_similarity[user_id])[-(num_similar_users + 1):-1]\n",
    "    \n",
    "    # Extract top 10 cosine similarity score from the top 10 most similar user ids\n",
    "    for n in top_n_similar_user_id:\n",
    "        top_n_similar_user_csimilarity.append(user_similarity[user_id][n])\n",
    "    \n",
    "    print('The top {} most similar reviewers to Reviewer {}, in descending order, are: '.format(num_similar_users, user_id))\n",
    "    print(top_n_similar_user_id[::-1])\n",
    "    similarity_dict = dict(zip(top_n_similar_user_id, ['%.3f' % elem for elem in top_n_similar_user_csimilarity]))\n",
    "    print(similarity_dict)\n",
    "    return similarity_dict  "
   ]
  },
  {
   "cell_type": "code",
   "execution_count": 362,
   "metadata": {},
   "outputs": [],
   "source": [
    "# Function to find most suitable and popular restaurants (i.e. highest average stars) of similar reviewers\n",
    "\n",
    "def most_popular_restaurants_rated_by_similar_customers(user_list):\n",
    "    temp_list = []\n",
    "    \n",
    "    # Gather count of most reviewed restaurants of the customers\n",
    "    for user in user_list:\n",
    "        temp_list.extend(list(cust_ratings_bus['res_reviewed_rating'][user].keys()))\n",
    "#     print(temp_list)\n",
    "    c = Counter(temp_list)\n",
    "    dict_c = dict(c.most_common(10)) # top 10 count of most rated restaurants\n",
    "#     print(dict_c)\n",
    "    \n",
    "    # Calculate average rating of the top 10 most reviewed restaurants by similar customers\n",
    "    restaurant_rate_dict = {}\n",
    "    for item in np.unique(temp_list):\n",
    "        temp_restaurant_reviews = []\n",
    "        for user in user_list:\n",
    "            if item in cust_ratings_bus['res_reviewed_rating'][user].keys():\n",
    "                temp_restaurant_reviews.append(cust_ratings_bus['res_reviewed_rating'][user][item])\n",
    "        # after looping through all the users, get mean score for restaurant and append back to dict to get (res: avg score) pair.\n",
    "        restaurant_rate_dict[item] = np.mean(temp_restaurant_reviews)\n",
    "#     print(restaurant_rate_dict)\n",
    "    \n",
    "    recommended_list = []\n",
    "    \n",
    "    # Recommend the most reviewed and highest rated restaurants\n",
    "    for key in dict_c.keys():\n",
    "        # sort dictionary in descending order based on scores. Depends on how many users are recommended\n",
    "        if key in dict(sorted(restaurant_rate_dict.items(), key = operator.itemgetter(1), reverse = True)[:round(len(np.unique(temp_list))/3)]).keys():\n",
    "            recommended_list.append(key)\n",
    "    print('-'*100)\n",
    "    print('Recommended restaurant list based on similar customers: ', recommended_list)"
   ]
  },
  {
   "cell_type": "code",
   "execution_count": 363,
   "metadata": {},
   "outputs": [
    {
     "name": "stdout",
     "output_type": "stream",
     "text": [
      "The top 10 most similar reviewers to Reviewer 0, in descending order, are: \n",
      "[6266 8766 1679 3405 1700 5413 2723 3038  534 4113]\n",
      "{4113: '0.272', 534: '0.276', 3038: '0.277', 2723: '0.279', 5413: '0.280', 1700: '0.299', 3405: '0.311', 1679: '0.333', 8766: '0.356', 6266: '0.375'}\n",
      "----------------------------------------------------------------------------------------------------\n",
      "Recommended restaurant list based on similar customers:  [\"Mount Everest India's Cuisine\", 'KoMex Fusion (Outlet 1 - 89107)', 'Nacho Daddy Downtown']\n"
     ]
    }
   ],
   "source": [
    "# Generate restaurant recommendations based on what similar users have reviewed highly\n",
    "\n",
    "most_popular_restaurants_rated_by_similar_customers(\n",
    "    similar_reviewers(0, user_similarity, start_col = '1900 Asian Cuisine', end_col = 'chow.', num_similar_users = 10))"
   ]
  },
  {
   "cell_type": "markdown",
   "metadata": {},
   "source": [
    "### 2b) User-User Collaborative Filtering (Surprise)"
   ]
  },
  {
   "cell_type": "code",
   "execution_count": 32,
   "metadata": {},
   "outputs": [
    {
     "name": "stdout",
     "output_type": "stream",
     "text": [
      "9232\n",
      "1713\n"
     ]
    }
   ],
   "source": [
    "# Check number of unique users\n",
    "n_users = len(user_rating_by_rest['user_id'].unique())\n",
    "\n",
    "# Check number of unique restaurants\n",
    "n_res = len(user_rating_by_rest['unique_store_id'].unique())\n",
    "\n",
    "print(n_users)\n",
    "print(n_res)"
   ]
  },
  {
   "cell_type": "code",
   "execution_count": 33,
   "metadata": {},
   "outputs": [],
   "source": [
    "# Remove date and year column to have just user id, store id and stars\n",
    "\n",
    "user_rating_by_rest_exdate = user_rating_by_rest[['user_id', 'unique_store_id', 'user_stars']]"
   ]
  },
  {
   "cell_type": "code",
   "execution_count": 34,
   "metadata": {},
   "outputs": [],
   "source": [
    "# save rest_reviews_nv_real pickle file as backup\n",
    "with open(\"user_rating_by_rest_exdate.pkl\", \"wb\") as f:\n",
    "    pickle.dump(user_rating_by_rest_exdate, f)"
   ]
  },
  {
   "cell_type": "code",
   "execution_count": 4,
   "metadata": {},
   "outputs": [],
   "source": [
    "# load rest_reviews_nv_real pickle file\n",
    "with open(\"user_rating_by_rest_exdate.pkl\", \"rb\") as f:\n",
    "    user_rating_by_rest_exdate = pickle.load(f)"
   ]
  },
  {
   "cell_type": "markdown",
   "metadata": {},
   "source": [
    " ### 2b)i) (Using Surprise) Train and evaluate model - KNNwithMeans\n",
    "\n",
    "1) Evaluate best RMSE using a range of k nearest neighbours across two different type of similarity measures: Cosine and Pearson\n",
    "\n",
    "2) With the best k for each similarity measure, evaluate the precision and recall score\n",
    "\n",
    "3) Finally for the best configuration across RMSE, precision and recall score, recommend the top restaurants for a given user profile (i.e. what restaurants he has previously liked)"
   ]
  },
  {
   "cell_type": "code",
   "execution_count": 36,
   "metadata": {},
   "outputs": [],
   "source": [
    "# Set up data and apply train-test split\n",
    "\n",
    "reader = Reader(rating_scale = (1,5))\n",
    "data = Dataset.load_from_df(user_rating_by_rest_exdate, reader)\n",
    "trainset, testset = train_test_split(data, test_size = 0.2, random_state = 1)"
   ]
  },
  {
   "cell_type": "markdown",
   "metadata": {},
   "source": [
    "**2b)ii) RMSE evaluation**"
   ]
  },
  {
   "cell_type": "code",
   "execution_count": 253,
   "metadata": {},
   "outputs": [],
   "source": [
    "# Function to evaluate RMSE for with various parameters for K Means\n",
    "# - Range of k\n",
    "# - similarity type used\n",
    "\n",
    "def plot_rmse_kmeans(k_range, similarity_type, user_based, trainset, testset):\n",
    "    '''\n",
    "    Function that takes in a range of k nearest neighbor values.\n",
    "    Calculates the RMSE on train and test for each k and plot the curve.\n",
    "    '''\n",
    "    \n",
    "    scores_dict = {'k': [], 'train_rmse': [], 'test_rmse': []}\n",
    "    \n",
    "    for k in k_range:\n",
    "        algo = KNNWithMeans(k = k, sim_options = {'name': similarity_type, 'user_based': user_based}, verbose = False)\n",
    "        algo.fit(trainset)\n",
    "        \n",
    "        train_pred = algo.test(trainset.build_testset())\n",
    "        test_pred = algo.test(testset)\n",
    "        \n",
    "        train_rmse = rmse(train_pred, verbose = False)\n",
    "        test_rmse = rmse(test_pred, verbose = False)\n",
    "        \n",
    "        scores_dict['k'].append(k)\n",
    "        scores_dict['train_rmse'].append(train_rmse)\n",
    "        scores_dict['test_rmse'].append(test_rmse)\n",
    "        \n",
    "    scores_df = pd.DataFrame(scores_dict)\n",
    "    \n",
    "    plt.figure(figsize = (10,7))\n",
    "    plt.plot(scores_df['k'], scores_df['train_rmse'], label = 'train_rmse')\n",
    "    plt.plot(scores_df['k'], scores_df['test_rmse'], label = 'test_rmse')\n",
    "    plt.title('RMSE for different values of K', fontsize = 15)\n",
    "    plt.xlabel('K')\n",
    "    plt.ylabel('RMSE')\n",
    "    plt.legend()\n",
    "    \n",
    "    return scores_df"
   ]
  },
  {
   "cell_type": "code",
   "execution_count": 255,
   "metadata": {},
   "outputs": [
    {
     "data": {
      "image/png": "[encoded data removed]",
      "text/plain": [
       "<Figure size 720x504 with 1 Axes>"
      ]
     },
     "metadata": {
      "image/png": {
       "height": 441,
       "width": 614
      },
      "needs_background": "light"
     },
     "output_type": "display_data"
    }
   ],
   "source": [
    "# Test using cosine similiarity\n",
    "\n",
    "cos_scores_true = plot_rmse_kmeans(range(1,20), 'cosine', True, trainset, testset)\n",
    "\n",
    "# Test RMSE reaches saturation at 1.04 after ~10 rounds, at 1.08 after 6 rounds"
   ]
  },
  {
   "cell_type": "code",
   "execution_count": 256,
   "metadata": {},
   "outputs": [
    {
     "data": {
      "image/png": "[encoded data removed]",
      "text/plain": [
       "<Figure size 720x504 with 1 Axes>"
      ]
     },
     "metadata": {
      "image/png": {
       "height": 441,
       "width": 608
      },
      "needs_background": "light"
     },
     "output_type": "display_data"
    }
   ],
   "source": [
    "# Test using pearson similiarity\n",
    "\n",
    "scores = plot_rmse_kmeans(range(1,20), 'pearson', True, trainset, testset)\n",
    "\n",
    "# Test RMSE reaches saturation at about 1.1 after ~15 rounds, at 1.13 after 6 rounds"
   ]
  },
  {
   "cell_type": "markdown",
   "metadata": {},
   "source": [
    "Based on the scores, it appears that using the cosine similarity measure results in a lower RMSE score, and the optimal k (which results in diminishing returns for higher k) is ~10. \n",
    "\n",
    "Let's evaluate both precision and recall scores for both cosine and pearson similarity measures"
   ]
  },
  {
   "cell_type": "code",
   "execution_count": 257,
   "metadata": {},
   "outputs": [
    {
     "name": "stdout",
     "output_type": "stream",
     "text": [
      "0.979992028778127\n",
      "{'k': 60, 'name': 'cosine', 'user_based': True, 'verbose': False}\n"
     ]
    }
   ],
   "source": [
    "# Use Gridsearch to find optimal parameters\n",
    "\n",
    "param_grid = {'k': range(40,61),\n",
    "              'name': ['cosine', 'pearson'], \n",
    "              'user_based': [True],\n",
    "              'verbose': [False]}\n",
    "\n",
    "gs = GridSearchCV(KNNWithMeans, param_grid, measures=['rmse', 'mae'], cv=5)\n",
    "gs.fit(data)\n",
    "\n",
    "algo = gs.best_estimator['rmse']\n",
    "print(gs.best_score['rmse'])\n",
    "print(gs.best_params['rmse'])\n",
    "\n",
    "# 0.979992028778127\n",
    "# {'k': 60, 'name': 'cosine', 'user_based': True, 'verbose': False}"
   ]
  },
  {
   "cell_type": "code",
   "execution_count": 258,
   "metadata": {},
   "outputs": [
    {
     "name": "stdout",
     "output_type": "stream",
     "text": [
      "Evaluating RMSE, MAE of algorithm KNNWithMeans on 5 split(s).\n",
      "\n",
      "                  Fold 1  Fold 2  Fold 3  Fold 4  Fold 5  Mean    Std     \n",
      "RMSE (testset)    0.9819  0.9770  0.9794  0.9902  0.9840  0.9825  0.0045  \n",
      "MAE (testset)     0.7614  0.7580  0.7594  0.7671  0.7625  0.7617  0.0031  \n",
      "Fit time          3.68    3.42    3.79    4.35    4.04    3.86    0.32    \n",
      "Test time         5.46    6.44    6.68    6.20    7.05    6.37    0.53    \n"
     ]
    },
    {
     "data": {
      "text/plain": [
       "{'test_rmse': array([0.98192427, 0.97696608, 0.97939532, 0.99017848, 0.98403372]),\n",
       " 'test_mae': array([0.76143139, 0.7579792 , 0.75942571, 0.76705458, 0.76249686]),\n",
       " 'fit_time': (3.676133155822754,\n",
       "  3.4188499450683594,\n",
       "  3.7918508052825928,\n",
       "  4.348335027694702,\n",
       "  4.041189193725586),\n",
       " 'test_time': (5.4644176959991455,\n",
       "  6.444761514663696,\n",
       "  6.683124542236328,\n",
       "  6.201413869857788,\n",
       "  7.048147201538086)}"
      ]
     },
     "execution_count": 258,
     "metadata": {},
     "output_type": "execute_result"
    }
   ],
   "source": [
    "# Cross-validate on data\n",
    "cross_validate(algo, data, measures=['RMSE', 'MAE'], cv=5, verbose=True)\n",
    "\n",
    "# Evaluating RMSE, MAE of algorithm KNNWithMeans on 5 split(s).\n",
    "\n",
    "#                   Fold 1  Fold 2  Fold 3  Fold 4  Fold 5  Mean    Std     \n",
    "# RMSE (testset)    0.9819  0.9770  0.9794  0.9902  0.9840  0.9825  0.0045  \n",
    "# MAE (testset)     0.7614  0.7580  0.7594  0.7671  0.7625  0.7617  0.0031  \n",
    "# Fit time          3.68    3.42    3.79    4.35    4.04    3.86    0.32    \n",
    "# Test time         5.46    6.44    6.68    6.20    7.05    6.37    0.53  "
   ]
  },
  {
   "cell_type": "code",
   "execution_count": 259,
   "metadata": {},
   "outputs": [
    {
     "name": "stdout",
     "output_type": "stream",
     "text": [
      "User-based Model : Test Set\n",
      "RMSE: 0.9723\n"
     ]
    },
    {
     "data": {
      "text/plain": [
       "0.9723009053881385"
      ]
     },
     "execution_count": 259,
     "metadata": {},
     "output_type": "execute_result"
    }
   ],
   "source": [
    "# Evaluate test set\n",
    "\n",
    "algo.fit(trainset)\n",
    "\n",
    "print(\"User-based Model : Test Set\")\n",
    "test_pred = algo.test(testset)\n",
    "rmse(test_pred, verbose=True)\n",
    "\n",
    "# User-based Model : Test Set\n",
    "# RMSE: 0.9723"
   ]
  },
  {
   "cell_type": "markdown",
   "metadata": {},
   "source": [
    "**2)b)iii) Precision and Recall testing**"
   ]
  },
  {
   "cell_type": "code",
   "execution_count": 260,
   "metadata": {},
   "outputs": [],
   "source": [
    "# Function to evaluate precision and recall score based on a set of predictions (and corresponding dataset). Parameters include \n",
    "# - No. of items to recommend\n",
    "# - threshold rating - minimum rating required for an item to be recommended\n",
    "\n",
    "def precision_recall_at_k(predictions, k = 10, threshold = 3.5):\n",
    "    \n",
    "    # map predictions of each user\n",
    "    user_est_true = defaultdict(list)\n",
    "    for uid, _, true_r, est, _ in predictions:\n",
    "        user_est_true[uid].append((est, true_r))\n",
    "        \n",
    "    precisions = dict()\n",
    "    recalls = dict()\n",
    "    for uid, user_ratings in user_est_true.items():\n",
    "        # sort user ratings by estimated value\n",
    "        user_ratings.sort(key=lambda x: x[0], reverse = True)\n",
    "\n",
    "        # Check number of relevant items\n",
    "        n_rel = sum((true_r >= threshold) for (_, true_r) in user_ratings)\n",
    "\n",
    "        # Number of recommended items in top k\n",
    "        n_rec_k = sum((est >= threshold) for (est, _) in user_ratings[:k])\n",
    "\n",
    "        # Number of relevant and recommended items in top k\n",
    "        n_rel_and_rec_k = sum(((true_r >= threshold) and (est >= threshold))\n",
    "                              for (est, true_r) in user_ratings[:k])\n",
    "\n",
    "        # Precisions@k: Proportion of recommended items that are relevant\n",
    "        precisions[uid] = n_rel_and_rec_k/n_rec_k if n_rec_k != 0 else 1\n",
    "        \n",
    "        # Recall@k: Proportion of relevant items that are recommended\n",
    "        recalls[uid] = n_rel_and_rec_k/n_rel if n_rel != 0 else 1\n",
    "        \n",
    "    return precisions, recalls\n",
    "\n"
   ]
  },
  {
   "cell_type": "code",
   "execution_count": 261,
   "metadata": {},
   "outputs": [
    {
     "name": "stdout",
     "output_type": "stream",
     "text": [
      "Precision score for cosine similarity measure : 0.7983633042989611\n",
      "Recall score for cosine similarity measure : 0.7970824912015664\n"
     ]
    }
   ],
   "source": [
    "# set up algo for cosine similarity measure and generate out scores\n",
    "algo_cos = KNNWithMeans(k = 60, sim_options = {'name': 'cosine', 'user_based': True}, verbose = False)\n",
    "algo_cos.fit(trainset)\n",
    "predictions_cos = algo_cos.test(testset)\n",
    "\n",
    "precisions, recalls = precision_recall_at_k(predictions_cos, k = 10, threshold = 3.5)\n",
    "\n",
    "# Average precision and recall over all users\n",
    "print('Precision score for cosine similarity measure :', sum(prec for prec in precisions.values()) / len(precisions))\n",
    "print('Recall score for cosine similarity measure :', sum(rec for rec in recalls.values()) / len(recalls))\n",
    "\n",
    "# Precision score for cosine similarity measure : 0.7983633042989611\n",
    "# Recall score for cosine similarity measure : 0.7970824912015664"
   ]
  },
  {
   "cell_type": "code",
   "execution_count": 262,
   "metadata": {},
   "outputs": [
    {
     "name": "stdout",
     "output_type": "stream",
     "text": [
      "Precision score for pearson similarity measure : 0.7754280451526867\n",
      "Recall score for pearson similarity measure : 0.7979755452577474\n"
     ]
    }
   ],
   "source": [
    "# set up algo for pearson similarity measure\n",
    "algo_pear = KNNWithMeans(k = 60, sim_options = {'name': 'pearson', 'user_based': True}, verbose = False)\n",
    "algo_pear.fit(trainset)\n",
    "predictions_pear = algo_pear.test(testset)\n",
    "\n",
    "precisions, recalls = precision_recall_at_k(predictions_pear, k = 10, threshold = 3.5)\n",
    "\n",
    "# Average precision and recall over all users\n",
    "print('Precision score for pearson similarity measure :', sum(prec for prec in precisions.values()) / len(precisions))\n",
    "print('Recall score for pearson similarity measure :', sum(rec for rec in recalls.values()) / len(recalls))\n",
    "\n",
    "# Precision score for pearson similarity measure : 0.7754280451526867\n",
    "# Recall score for pearson similarity measure : 0.7979755452577474"
   ]
  },
  {
   "cell_type": "markdown",
   "metadata": {},
   "source": [
    "The recall score is about about the same for the cosine similarity measure as compared to the pearson similarity measure. Meanwhile, the precision score is also ~2% higher for the cosine similarity measure. "
   ]
  },
  {
   "cell_type": "markdown",
   "metadata": {},
   "source": [
    "### 2b)iv) Recommended restaurants"
   ]
  },
  {
   "cell_type": "markdown",
   "metadata": {},
   "source": [
    "**For an existing user**"
   ]
  },
  {
   "cell_type": "code",
   "execution_count": 327,
   "metadata": {
    "scrolled": true
   },
   "outputs": [
    {
     "data": {
      "text/plain": [
       "['Sonic Drive-In (Outlet 1 - 89031)',\n",
       " 'Metro Pizza (Outlet 1 - 89119)',\n",
       " 'Garden Court Buffet',\n",
       " \"Mr. Lucky's 24-7\",\n",
       " 'Aloha Specialties',\n",
       " \"Chili's (Outlet 1 - 89108)\",\n",
       " 'India Oven',\n",
       " 'In-N-Out Burger (Outlet 1 - 89119)',\n",
       " 'The Buffet at Bellagio']"
      ]
     },
     "execution_count": 327,
     "metadata": {},
     "output_type": "execute_result"
    }
   ],
   "source": [
    "list(user_rating_by_rest_exdate[user_rating_by_rest_exdate['user_id'] == 'gjhzKWsqCIrpEd9pevbKZw']['unique_store_id'])"
   ]
  },
  {
   "cell_type": "code",
   "execution_count": 38,
   "metadata": {},
   "outputs": [],
   "source": [
    "algo_cos = KNNWithMeans(k = 60, sim_options = {'name': 'cosine', 'user_based': True}, verbose = False)\n",
    "algo_cos.fit(trainset)\n",
    "\n",
    "# save rec_uucf_surprise pickle file\n",
    "with open(\"rec_uucf_surprise.pkl\", \"wb\") as f:\n",
    "    pickle.dump(algo_cos, f)"
   ]
  },
  {
   "cell_type": "code",
   "execution_count": 5,
   "metadata": {},
   "outputs": [],
   "source": [
    "# load rec_uucf_surprise pickle file\n",
    "with open(\"rec_uucf_surprise.pkl\", \"rb\") as f:\n",
    "    algo_uucf = pickle.load(f)"
   ]
  },
  {
   "cell_type": "code",
   "execution_count": 136,
   "metadata": {},
   "outputs": [],
   "source": [
    "# load using_rating_by_rest_exdate pickle file\n",
    "with open(\"user_rating_by_rest_exdate.pkl\", \"rb\") as f:\n",
    "    user_rating_by_rest_exdate = pickle.load(f)"
   ]
  },
  {
   "cell_type": "code",
   "execution_count": 137,
   "metadata": {},
   "outputs": [
    {
     "data": {
      "text/plain": [
       "(121950, 3)"
      ]
     },
     "execution_count": 137,
     "metadata": {},
     "output_type": "execute_result"
    }
   ],
   "source": [
    "user_rating_by_rest_exdate.shape"
   ]
  },
  {
   "cell_type": "code",
   "execution_count": 138,
   "metadata": {},
   "outputs": [],
   "source": [
    "# For existing users\n",
    "\n",
    "def uucf_recom_currentuser(current_user_id, original_data, algo, n):\n",
    "    '''\n",
    "    Function that takes in a list of current user id and returns recommendations.\n",
    "    \n",
    "    Arguments:\n",
    "    - current_user_id from database\n",
    "    - original_dataset: Original dataframe of users, items and ratings\n",
    "    - algorithm used\n",
    "    - n number of recommendations\n",
    "    '''    \n",
    "    # Initiate recommended scores for every item in the catalog\n",
    "    recommendations = {'items': [], 'rating': []}\n",
    "    \n",
    "    for item in original_data['unique_store_id'].unique():\n",
    "#         if item not in list(user_rating_by_rest_exdate[user_rating_by_rest_exdate['user_id'] == current_user_id]\\\n",
    "#                             ['unique_store_id']):\n",
    "            rating = algo.predict(current_user_id, item, verbose = False)[3]\n",
    "            recommendations['items'].append(item)\n",
    "            recommendations['rating'].append(rating)\n",
    "#         else:\n",
    "#             pass\n",
    "    \n",
    "    # Take top n items and recommend to user\n",
    "    recs_df = pd.DataFrame(recommendations).rename(columns={\"items\": \"Recommended Restaurants\"}).sort_values(by = 'rating', ascending = False)[:n].iloc[:, 0]\n",
    "    recs_df.index = np.arange(1, len(recs_df) + 1)\n",
    "    recs_df = pd.DataFrame(recs_df)\n",
    "    \n",
    "    return recs_df    "
   ]
  },
  {
   "cell_type": "code",
   "execution_count": 140,
   "metadata": {},
   "outputs": [
    {
     "data": {
      "text/html": [
       "<div>\n",
       "<style scoped>\n",
       "    .dataframe tbody tr th:only-of-type {\n",
       "        vertical-align: middle;\n",
       "    }\n",
       "\n",
       "    .dataframe tbody tr th {\n",
       "        vertical-align: top;\n",
       "    }\n",
       "\n",
       "    .dataframe thead th {\n",
       "        text-align: right;\n",
       "    }\n",
       "</style>\n",
       "<table border=\"1\" class=\"dataframe\">\n",
       "  <thead>\n",
       "    <tr style=\"text-align: right;\">\n",
       "      <th></th>\n",
       "      <th>Recommended Restaurants</th>\n",
       "    </tr>\n",
       "  </thead>\n",
       "  <tbody>\n",
       "    <tr>\n",
       "      <th>1</th>\n",
       "      <td>Twist by Pierre Gagnaire</td>\n",
       "    </tr>\n",
       "    <tr>\n",
       "      <th>2</th>\n",
       "      <td>L&amp;L Hawaiian Barbecue (Outlet 1 - 89103)</td>\n",
       "    </tr>\n",
       "    <tr>\n",
       "      <th>3</th>\n",
       "      <td>Snow Ono Shave Ice</td>\n",
       "    </tr>\n",
       "    <tr>\n",
       "      <th>4</th>\n",
       "      <td>Thai Food To Go</td>\n",
       "    </tr>\n",
       "  </tbody>\n",
       "</table>\n",
       "</div>"
      ],
      "text/plain": [
       "                    Recommended Restaurants\n",
       "1                  Twist by Pierre Gagnaire\n",
       "2  L&L Hawaiian Barbecue (Outlet 1 - 89103)\n",
       "3                        Snow Ono Shave Ice\n",
       "4                           Thai Food To Go"
      ]
     },
     "execution_count": 140,
     "metadata": {},
     "output_type": "execute_result"
    }
   ],
   "source": [
    "# algo based on best performing in earlier testing\n",
    "uucf_recom_currentuser('DUF9LYMMCCawUcnzzXDf4Q', user_rating_by_rest_exdate, algo_uucf, 4)"
   ]
  },
  {
   "cell_type": "markdown",
   "metadata": {},
   "source": [
    "**For a new user**"
   ]
  },
  {
   "cell_type": "code",
   "execution_count": 37,
   "metadata": {},
   "outputs": [],
   "source": [
    "def uucf_recom_newuser(new_restaurants, original_data, algo, n):\n",
    "    '''\n",
    "    Function that takes in a list of new restaurants and returns recommendations.\n",
    "    \n",
    "    Arguments:\n",
    "    - new_restaurants : List of restaurants chosen by new user.\n",
    "    - original_dataset: Original dataframe of users, items and ratings\n",
    "    - algorithm used\n",
    "    - n number of recommendations\n",
    "    '''\n",
    "    \n",
    "    # Append new customer to a new dataframe, and assign a unique customer id\n",
    "    new_data = pd.DataFrame({'user_id': ['newuser123']*len(new_restaurants),\n",
    "                             'unique_store_id': new_restaurants,\n",
    "                             'user_stars': [4]*len(new_restaurants)})\n",
    "    combined_data = pd.concat([new_data, original_data]).reset_index(drop=True)\n",
    "    \n",
    "    # Initatialise dataset with surprise and do train-test split\n",
    "    reader = Reader(rating_scale = (1,5))\n",
    "    data = Dataset.load_from_df(combined_data[['user_id', 'unique_store_id', 'user_stars']], reader)\n",
    "    trainset = data.build_full_trainset()\n",
    "    \n",
    "#     # This algo must be trained before this function is executed. \n",
    "    algo.fit(trainset)\n",
    "    \n",
    "    # Initiate recommended scores for every item in the catalog\n",
    "    recommendations = {'items': [], 'rating': []}\n",
    "    \n",
    "    for item in original_data['unique_store_id'].unique():\n",
    "#         if item not in list(user_rating_by_rest_exdate[user_rating_by_rest_exdate['user_id'] == 'newuser123']['unique_store_id']):\n",
    "            rating = algo.predict('newuser123', item, verbose = False)[3]\n",
    "            recommendations['items'].append(item)\n",
    "            recommendations['rating'].append(rating)\n",
    "#         else:\n",
    "#             pass\n",
    "    \n",
    "    # Take top n items and recommend to user\n",
    "    recs_df = pd.DataFrame(recommendations).rename(columns={\"items\": \"Recommended Restaurants\"}).sort_values(by = 'rating', ascending = False)[:n].iloc[:, 0]\n",
    "    recs_df.index = np.arange(1, len(recs_df) + 1)\n",
    "    recs_df = pd.DataFrame(recs_df)\n",
    "    \n",
    "    return recs_df    "
   ]
  },
  {
   "cell_type": "code",
   "execution_count": 38,
   "metadata": {},
   "outputs": [
    {
     "data": {
      "text/html": [
       "<div>\n",
       "<style scoped>\n",
       "    .dataframe tbody tr th:only-of-type {\n",
       "        vertical-align: middle;\n",
       "    }\n",
       "\n",
       "    .dataframe tbody tr th {\n",
       "        vertical-align: top;\n",
       "    }\n",
       "\n",
       "    .dataframe thead th {\n",
       "        text-align: right;\n",
       "    }\n",
       "</style>\n",
       "<table border=\"1\" class=\"dataframe\">\n",
       "  <thead>\n",
       "    <tr style=\"text-align: right;\">\n",
       "      <th></th>\n",
       "      <th>Recommended Items</th>\n",
       "    </tr>\n",
       "  </thead>\n",
       "  <tbody>\n",
       "    <tr>\n",
       "      <th>1</th>\n",
       "      <td>Naked City Pizza On Paradise</td>\n",
       "    </tr>\n",
       "    <tr>\n",
       "      <th>2</th>\n",
       "      <td>Original Tommy's Hamburgers</td>\n",
       "    </tr>\n",
       "    <tr>\n",
       "      <th>3</th>\n",
       "      <td>Kame Omakase</td>\n",
       "    </tr>\n",
       "    <tr>\n",
       "      <th>4</th>\n",
       "      <td>Yui Edomae Sushi</td>\n",
       "    </tr>\n",
       "    <tr>\n",
       "      <th>5</th>\n",
       "      <td>Honey Baked Ham Company (Outlet 1 - 89149)</td>\n",
       "    </tr>\n",
       "    <tr>\n",
       "      <th>6</th>\n",
       "      <td>Original Tommy's</td>\n",
       "    </tr>\n",
       "    <tr>\n",
       "      <th>7</th>\n",
       "      <td>Le Thai 2</td>\n",
       "    </tr>\n",
       "    <tr>\n",
       "      <th>8</th>\n",
       "      <td>Naked Fish's Sushi &amp; Grill</td>\n",
       "    </tr>\n",
       "    <tr>\n",
       "      <th>9</th>\n",
       "      <td>Outback Steakhouse (Outlet 2 - 89109)</td>\n",
       "    </tr>\n",
       "    <tr>\n",
       "      <th>10</th>\n",
       "      <td>Joël  Robuchon</td>\n",
       "    </tr>\n",
       "  </tbody>\n",
       "</table>\n",
       "</div>"
      ],
      "text/plain": [
       "                             Recommended Items\n",
       "1                 Naked City Pizza On Paradise\n",
       "2                  Original Tommy's Hamburgers\n",
       "3                                 Kame Omakase\n",
       "4                             Yui Edomae Sushi\n",
       "5   Honey Baked Ham Company (Outlet 1 - 89149)\n",
       "6                             Original Tommy's\n",
       "7                                    Le Thai 2\n",
       "8                   Naked Fish's Sushi & Grill\n",
       "9        Outback Steakhouse (Outlet 2 - 89109)\n",
       "10                              Joël  Robuchon"
      ]
     },
     "execution_count": 38,
     "metadata": {},
     "output_type": "execute_result"
    }
   ],
   "source": [
    "# Predict recommendation for new user\n",
    "\n",
    "new_restaurants = [\"Good Pie\", \"MB Steak\", \"Stripchezze Food Truck\", \"Ports O' Call Buffet\"]\n",
    "\n",
    "# algo based on best performing in earlier testing\n",
    "uucf_recom_newuser(new_restaurants, user_rating_by_rest_exdate, algo_uucf, 10)\n",
    "\n",
    "# 15-20 secs prediction"
   ]
  },
  {
   "cell_type": "markdown",
   "metadata": {},
   "source": [
    "### 2c) Item-Item Collaborative Filtering\n",
    "\n",
    "$${\\normalsize \\hat{r}_{ui} = \\mu_i + \\frac{ \\sum\\limits_{j \\in N^k_u(i)}\\text{sim}(i, j) \\cdot (r_{uj} - \\mu_j)} {\\sum\\limits_{j \\in N^k_u(i)} \\text{sim}(i, j)} }$$\n",
    "\n",
    "Where:\n",
    "<br>\n",
    "$\\hat{r}_{ui}$ - Prediction for user $u$ and item $i$.<br>\n",
    "$\\mu_i$ - Baseline estimate for item $i$.<br>\n",
    "$\\sum\\limits_{j \\in N^k_u(i)}$ - $j$ items in $k$ neighborhood most similar to item $i$ for user $u$.<br>\n",
    "$\\text{sim}(i, j)$ - Similarity between item $i$ and $j$.<br>\n",
    "$(r_{uj} - \\mu_j)$ - Deviation of rating for item $j$ and their baseline estimate.<br>"
   ]
  },
  {
   "cell_type": "markdown",
   "metadata": {},
   "source": [
    " ### 2c)i) Train and evaluate model - KNNwithMeans\n",
    "\n",
    "1) Evaluate best RMSE using a range of k nearest neighbours across two different type of similarity measures: Cosine and Pearson\n",
    "\n",
    "2) With the best k for each similarity measure, evaluate the precision and recall score\n",
    "\n",
    "3) Finally for the best configuration across RMSE, precision and recall score, recommend the top restaurants for a given user profile (i.e. what restaurants he has previously liked)"
   ]
  },
  {
   "cell_type": "code",
   "execution_count": 287,
   "metadata": {},
   "outputs": [],
   "source": [
    "# Set up data and apply train-test split\n",
    "\n",
    "reader = Reader(rating_scale = (1,5))\n",
    "data = Dataset.load_from_df(user_rating_by_rest_exdate, reader)\n",
    "trainset, testset = train_test_split(data, test_size = 0.2, random_state = 1)"
   ]
  },
  {
   "cell_type": "markdown",
   "metadata": {},
   "source": [
    "**2c)ii) RMSE evaluation**"
   ]
  },
  {
   "cell_type": "code",
   "execution_count": 288,
   "metadata": {},
   "outputs": [],
   "source": [
    "# Function to evaluate RMSE for with various parameters for K Means\n",
    "# - Range of k\n",
    "# - similarity type used\n",
    "\n",
    "def plot_rmse_kmeans(k_range, similarity_type, user_based, trainset, testset):\n",
    "    '''\n",
    "    Function that takes in a range of k nearest neighbor values.\n",
    "    Calculates the RMSE on train and test for each k and plot the curve.\n",
    "    '''\n",
    "    \n",
    "    scores_dict = {'k': [], 'train_rmse': [], 'test_rmse': []}\n",
    "    \n",
    "    for k in k_range:\n",
    "        algo = KNNWithMeans(k = k, sim_options = {'name': similarity_type, 'user_based': user_based}, verbose = False)\n",
    "        algo.fit(trainset)\n",
    "        \n",
    "        train_pred = algo.test(trainset.build_testset())\n",
    "        test_pred = algo.test(testset)\n",
    "        \n",
    "        train_rmse = rmse(train_pred, verbose = False)\n",
    "        test_rmse = rmse(test_pred, verbose = False)\n",
    "        \n",
    "        scores_dict['k'].append(k)\n",
    "        scores_dict['train_rmse'].append(train_rmse)\n",
    "        scores_dict['test_rmse'].append(test_rmse)\n",
    "        \n",
    "    scores_df = pd.DataFrame(scores_dict)\n",
    "    \n",
    "    plt.figure(figsize = (10,7))\n",
    "    plt.plot(scores_df['k'], scores_df['train_rmse'], label = 'train_rmse')\n",
    "    plt.plot(scores_df['k'], scores_df['test_rmse'], label = 'test_rmse')\n",
    "    plt.title('RMSE for different values of K', fontsize = 15)\n",
    "    plt.xlabel('K')\n",
    "    plt.ylabel('RMSE')\n",
    "    plt.legend()\n",
    "    \n",
    "    return scores_df"
   ]
  },
  {
   "cell_type": "code",
   "execution_count": 289,
   "metadata": {},
   "outputs": [
    {
     "data": {
      "image/png": "[encoded data removed]",
      "text/plain": [
       "<Figure size 720x504 with 1 Axes>"
      ]
     },
     "metadata": {
      "image/png": {
       "height": 441,
       "width": 608
      },
      "needs_background": "light"
     },
     "output_type": "display_data"
    }
   ],
   "source": [
    "# Test using cosine similiarity\n",
    "\n",
    "cos_scores_true = plot_rmse_kmeans(range(1,20), 'cosine', False, trainset, testset)\n",
    "\n",
    "# Test RMSE reaches saturation at 1.04 after ~10 rounds, at 1.08 after 6 rounds"
   ]
  },
  {
   "cell_type": "code",
   "execution_count": 290,
   "metadata": {},
   "outputs": [
    {
     "data": {
      "image/png": "[encoded data removed]",
      "text/plain": [
       "<Figure size 720x504 with 1 Axes>"
      ]
     },
     "metadata": {
      "image/png": {
       "height": 441,
       "width": 608
      },
      "needs_background": "light"
     },
     "output_type": "display_data"
    }
   ],
   "source": [
    "# Test using pearson similiarity\n",
    "\n",
    "scores = plot_rmse_kmeans(range(1,20), 'pearson', False, trainset, testset)\n",
    "\n",
    "# Test RMSE reaches saturation at about 1.1 after ~15 rounds, at 1.13 after 6 rounds"
   ]
  },
  {
   "cell_type": "markdown",
   "metadata": {},
   "source": [
    "Based on the scores, it appears that using the cosine similarity measure results in a lower RMSE score, and the optimal k (which results in diminishing returns for higher k) is ~10. \n",
    "\n",
    "Let's evaluate both precision and recall scores for both cosine and pearson similarity measures"
   ]
  },
  {
   "cell_type": "code",
   "execution_count": 291,
   "metadata": {},
   "outputs": [
    {
     "name": "stdout",
     "output_type": "stream",
     "text": [
      "0.9801991560011363\n",
      "{'k': 60, 'name': 'cosine', 'user_based': False, 'verbose': False}\n"
     ]
    }
   ],
   "source": [
    "# Use Gridsearch to find optimal parameters\n",
    "\n",
    "param_grid = {'k': range(40,61),\n",
    "              'name': ['cosine', 'pearson'], \n",
    "              'user_based': [False],\n",
    "              'verbose': [False]}\n",
    "\n",
    "gs = GridSearchCV(KNNWithMeans, param_grid, measures=['rmse', 'mae'], cv=5)\n",
    "gs.fit(data)\n",
    "\n",
    "algo = gs.best_estimator['rmse']\n",
    "print(gs.best_score['rmse'])\n",
    "print(gs.best_params['rmse'])\n",
    "\n",
    "# 0.9801991560011363\n",
    "# {'k': 60, 'name': 'cosine', 'user_based': False, 'verbose': False}"
   ]
  },
  {
   "cell_type": "code",
   "execution_count": 292,
   "metadata": {},
   "outputs": [
    {
     "name": "stdout",
     "output_type": "stream",
     "text": [
      "Evaluating RMSE, MAE of algorithm KNNWithMeans on 5 split(s).\n",
      "\n",
      "                  Fold 1  Fold 2  Fold 3  Fold 4  Fold 5  Mean    Std     \n",
      "RMSE (testset)    0.9784  0.9824  0.9794  0.9801  0.9780  0.9797  0.0015  \n",
      "MAE (testset)     0.7608  0.7646  0.7588  0.7605  0.7578  0.7605  0.0024  \n",
      "Fit time          5.65    5.99    5.93    5.97    6.70    6.05    0.35    \n",
      "Test time         9.69    9.64    10.82   11.21   12.11   10.69   0.94    \n"
     ]
    },
    {
     "data": {
      "text/plain": [
       "{'test_rmse': array([0.97844057, 0.98239466, 0.97944786, 0.98010355, 0.97803407]),\n",
       " 'test_mae': array([0.76079489, 0.76464326, 0.75875167, 0.76049796, 0.75779135]),\n",
       " 'fit_time': (5.651265859603882,\n",
       "  5.988607406616211,\n",
       "  5.927207946777344,\n",
       "  5.968084096908569,\n",
       "  6.701697826385498),\n",
       " 'test_time': (9.685948848724365,\n",
       "  9.642728090286255,\n",
       "  10.81572675704956,\n",
       "  11.214109182357788,\n",
       "  12.108109951019287)}"
      ]
     },
     "execution_count": 292,
     "metadata": {},
     "output_type": "execute_result"
    }
   ],
   "source": [
    "# Cross validate on data\n",
    "\n",
    "cross_validate(algo, data, measures=['RMSE', 'MAE'], cv=5, verbose=True)\n",
    "\n",
    "Evaluating RMSE, MAE of algorithm KNNWithMeans on 5 split(s).\n",
    "\n",
    "#                   Fold 1  Fold 2  Fold 3  Fold 4  Fold 5  Mean    Std     \n",
    "# RMSE (testset)    0.9784  0.9824  0.9794  0.9801  0.9780  0.9797  0.0015  \n",
    "# MAE (testset)     0.7608  0.7646  0.7588  0.7605  0.7578  0.7605  0.0024  \n",
    "# Fit time          5.65    5.99    5.93    5.97    6.70    6.05    0.35    \n",
    "# Test time         9.69    9.64    10.82   11.21   12.11   10.69   0.94"
   ]
  },
  {
   "cell_type": "code",
   "execution_count": 293,
   "metadata": {},
   "outputs": [
    {
     "name": "stdout",
     "output_type": "stream",
     "text": [
      "Item-based Model : Test Set\n",
      "RMSE: 0.9723\n"
     ]
    },
    {
     "data": {
      "text/plain": [
       "0.9723009053881385"
      ]
     },
     "execution_count": 293,
     "metadata": {},
     "output_type": "execute_result"
    }
   ],
   "source": [
    "# Evaluate test set\n",
    "\n",
    "algo.fit(trainset)\n",
    "\n",
    "print(\"Item-based Model : Test Set\")\n",
    "test_pred = algo.test(testset)\n",
    "rmse(test_pred, verbose=True)\n",
    "\n",
    "# Item-based Model : Test Set\n",
    "# RMSE: 0.9723"
   ]
  },
  {
   "cell_type": "markdown",
   "metadata": {},
   "source": [
    "**2c)iii) Precision and Recall testing**"
   ]
  },
  {
   "cell_type": "code",
   "execution_count": 294,
   "metadata": {},
   "outputs": [],
   "source": [
    "# Function to evaluate precision and recall score based on a set of predictions (and corresponding dataset). Parameters include \n",
    "# - No. of items to recommend\n",
    "# - threshold rating - minimum rating required for an item to be recommended\n",
    "\n",
    "def precision_recall_at_k(predictions, k = 10, threshold = 3.5):\n",
    "    \n",
    "    # map predictions of each user\n",
    "    user_est_true = defaultdict(list)\n",
    "    for uid, _, true_r, est, _ in predictions:\n",
    "        user_est_true[uid].append((est, true_r))\n",
    "        \n",
    "    precisions = dict()\n",
    "    recalls = dict()\n",
    "    for uid, user_ratings in user_est_true.items():\n",
    "        # sort user ratings by estimated value\n",
    "        user_ratings.sort(key=lambda x: x[0], reverse = True)\n",
    "\n",
    "        # Check number of relevant items\n",
    "        n_rel = sum((true_r >= threshold) for (_, true_r) in user_ratings)\n",
    "\n",
    "        # Number of recommended items in top k\n",
    "        n_rec_k = sum((est >= threshold) for (est, _) in user_ratings[:k])\n",
    "\n",
    "        # Number of relevant and recommended items in top k\n",
    "        n_rel_and_rec_k = sum(((true_r >= threshold) and (est >= threshold))\n",
    "                              for (est, true_r) in user_ratings[:k])\n",
    "\n",
    "        # Precisions@k: Proportion of recommended items that are relevant\n",
    "        precisions[uid] = n_rel_and_rec_k/n_rec_k if n_rec_k != 0 else 1\n",
    "        \n",
    "        # Recall@k: Proportion of relevant items that are recommended\n",
    "        recalls[uid] = n_rel_and_rec_k/n_rel if n_rel != 0 else 1\n",
    "        \n",
    "    return precisions, recalls\n",
    "\n"
   ]
  },
  {
   "cell_type": "code",
   "execution_count": 295,
   "metadata": {},
   "outputs": [
    {
     "name": "stdout",
     "output_type": "stream",
     "text": [
      "Precision score for cosine similarity measure : 0.7947331156870351\n",
      "Recall score for cosine similarity measure : 0.8195245133527163\n"
     ]
    }
   ],
   "source": [
    "# Still test both but choose best params from gridsearch\n",
    "\n",
    "# set up algo for cosine similarity measure and generate out scores\n",
    "algo_cos = KNNWithMeans(k = 60, sim_options = {'name': 'cosine', 'user_based': False}, verbose = False)\n",
    "algo_cos.fit(trainset)\n",
    "predictions_cos = algo_cos.test(testset)\n",
    "\n",
    "precisions, recalls = precision_recall_at_k(predictions_cos, k = 10, threshold = 3.5)\n",
    "\n",
    "# Average precision and recall over all users\n",
    "print('Precision score for cosine similarity measure :', sum(prec for prec in precisions.values()) / len(precisions))\n",
    "print('Recall score for cosine similarity measure :', sum(rec for rec in recalls.values()) / len(recalls))\n",
    "\n",
    "# Precision score for cosine similarity measure : 0.7947331156870351\n",
    "# Recall score for cosine similarity measure : 0.8195245133527163"
   ]
  },
  {
   "cell_type": "code",
   "execution_count": 296,
   "metadata": {},
   "outputs": [
    {
     "name": "stdout",
     "output_type": "stream",
     "text": [
      "Precision score for pearson similarity measure : 0.7744744488598099\n",
      "Recall score for pearson similarity measure : 0.7949128024550544\n"
     ]
    }
   ],
   "source": [
    "# set up algo for pearson similarity measure\n",
    "algo_pear = KNNWithMeans(k = 60, sim_options = {'name': 'pearson', 'user_based': False}, verbose = False)\n",
    "algo_pear.fit(trainset)\n",
    "predictions_pear = algo_pear.test(testset)\n",
    "\n",
    "precisions, recalls = precision_recall_at_k(predictions_pear, k = 10, threshold = 3.5)\n",
    "\n",
    "# Average precision and recall over all users\n",
    "print('Precision score for pearson similarity measure :', sum(prec for prec in precisions.values()) / len(precisions))\n",
    "print('Recall score for pearson similarity measure :', sum(rec for rec in recalls.values()) / len(recalls))\n",
    "\n",
    "# Precision score for pearson similarity measure : 0.7744744488598099\n",
    "# Recall score for pearson similarity measure : 0.7949128024550544"
   ]
  },
  {
   "cell_type": "markdown",
   "metadata": {},
   "source": [
    "The recall score is about 1.2% higher for the cosine similarity measure as compared to the pearson similarity measure. Meanwhile, the precision score is also ~2% higher for the cosine similarity measure. "
   ]
  },
  {
   "cell_type": "code",
   "execution_count": 66,
   "metadata": {},
   "outputs": [],
   "source": [
    "algo_cos = KNNWithMeans(k = 60, sim_options = {'name': 'cosine', 'user_based': False}, verbose = False)\n",
    "algo_cos.fit(trainset)\n",
    "\n",
    "# save rec_uucf_surprise pickle file\n",
    "with open(\"rec_iicf_surprise.pkl\", \"wb\") as f:\n",
    "    pickle.dump(algo_cos, f)"
   ]
  },
  {
   "cell_type": "code",
   "execution_count": 39,
   "metadata": {},
   "outputs": [],
   "source": [
    "# load rec_uucf_surprise pickle file\n",
    "with open(\"rec_iicf_surprise.pkl\", \"rb\") as f:\n",
    "    algo_iicf = pickle.load(f)"
   ]
  },
  {
   "cell_type": "code",
   "execution_count": 40,
   "metadata": {},
   "outputs": [],
   "source": [
    "# load using_rating_by_rest_exdate pickle file\n",
    "with open(\"user_rating_by_rest_exdate.pkl\", \"rb\") as f:\n",
    "    user_rating_by_rest_exdate = pickle.load(f)"
   ]
  },
  {
   "cell_type": "markdown",
   "metadata": {},
   "source": [
    "### 2c)iv) Recommended restaurants"
   ]
  },
  {
   "cell_type": "code",
   "execution_count": 45,
   "metadata": {},
   "outputs": [],
   "source": [
    "# For existing users\n",
    "\n",
    "def iicf_recom_currentuser(current_user_id, original_data, algo, n):\n",
    "    '''\n",
    "    Function that takes in a list of current user id and returns recommendations.\n",
    "    \n",
    "    Arguments:\n",
    "    - current_user_id from database\n",
    "    - original_dataset: Original dataframe of users, items and ratings\n",
    "    - algorithm used\n",
    "    - n number of recommendations\n",
    "    '''\n",
    "    \n",
    "    # Initiate recommended scores for every item in the catalog\n",
    "    recommendations = {'items': [], 'rating': []}\n",
    "    \n",
    "    for item in original_data['unique_store_id'].unique():\n",
    "#         if item not in list(user_rating_by_rest_exdate[user_rating_by_rest_exdate['user_id'] == current_user_id]['unique_store_id']):\n",
    "            rating = algo.predict(current_user_id, item, verbose = False)[3]\n",
    "            recommendations['items'].append(item)\n",
    "            recommendations['rating'].append(rating)\n",
    "#         else:\n",
    "#             pass\n",
    "    \n",
    "    # Take top n items and recommend to user\n",
    "    recs_df = pd.DataFrame(recommendations).rename(columns={\"items\": \"Recommended Restaurants\"}).sort_values(by = 'rating', ascending = False)[:n].iloc[:, 0]\n",
    "    recs_df.index = np.arange(1, len(recs_df) + 1)\n",
    "    recs_df = pd.DataFrame(recs_df)\n",
    "    \n",
    "    return recs_df    "
   ]
  },
  {
   "cell_type": "code",
   "execution_count": 46,
   "metadata": {},
   "outputs": [
    {
     "data": {
      "text/html": [
       "<div>\n",
       "<style scoped>\n",
       "    .dataframe tbody tr th:only-of-type {\n",
       "        vertical-align: middle;\n",
       "    }\n",
       "\n",
       "    .dataframe tbody tr th {\n",
       "        vertical-align: top;\n",
       "    }\n",
       "\n",
       "    .dataframe thead th {\n",
       "        text-align: right;\n",
       "    }\n",
       "</style>\n",
       "<table border=\"1\" class=\"dataframe\">\n",
       "  <thead>\n",
       "    <tr style=\"text-align: right;\">\n",
       "      <th></th>\n",
       "      <th>Recommended Items</th>\n",
       "    </tr>\n",
       "  </thead>\n",
       "  <tbody>\n",
       "    <tr>\n",
       "      <th>1</th>\n",
       "      <td>Good Pie</td>\n",
       "    </tr>\n",
       "    <tr>\n",
       "      <th>2</th>\n",
       "      <td>Design &amp; Dine</td>\n",
       "    </tr>\n",
       "    <tr>\n",
       "      <th>3</th>\n",
       "      <td>Scotch 80 Prime</td>\n",
       "    </tr>\n",
       "    <tr>\n",
       "      <th>4</th>\n",
       "      <td>El Frescos Cocina Mexicana</td>\n",
       "    </tr>\n",
       "    <tr>\n",
       "      <th>5</th>\n",
       "      <td>My Pie Pizza</td>\n",
       "    </tr>\n",
       "    <tr>\n",
       "      <th>6</th>\n",
       "      <td>Stripchezze Food Truck</td>\n",
       "    </tr>\n",
       "    <tr>\n",
       "      <th>7</th>\n",
       "      <td>MB Steak</td>\n",
       "    </tr>\n",
       "    <tr>\n",
       "      <th>8</th>\n",
       "      <td>Kame Omakase</td>\n",
       "    </tr>\n",
       "    <tr>\n",
       "      <th>9</th>\n",
       "      <td>Partage</td>\n",
       "    </tr>\n",
       "    <tr>\n",
       "      <th>10</th>\n",
       "      <td>Bajamar Seafood &amp; Tacos</td>\n",
       "    </tr>\n",
       "  </tbody>\n",
       "</table>\n",
       "</div>"
      ],
      "text/plain": [
       "             Recommended Items\n",
       "1                     Good Pie\n",
       "2                Design & Dine\n",
       "3              Scotch 80 Prime\n",
       "4   El Frescos Cocina Mexicana\n",
       "5                 My Pie Pizza\n",
       "6       Stripchezze Food Truck\n",
       "7                     MB Steak\n",
       "8                 Kame Omakase\n",
       "9                      Partage\n",
       "10     Bajamar Seafood & Tacos"
      ]
     },
     "execution_count": 46,
     "metadata": {},
     "output_type": "execute_result"
    }
   ],
   "source": [
    "# Predict recommendation for existing user\n",
    "\n",
    "# algo based on best performing in earlier testing\n",
    "iicf_recom_currentuser('gjhzKWsqCIrpEd9pevbKZw', user_rating_by_rest_exdate, algo_iicf, 10)\n",
    "\n",
    "# 15-20 secs prediction"
   ]
  },
  {
   "cell_type": "code",
   "execution_count": 47,
   "metadata": {},
   "outputs": [],
   "source": [
    "def iicf_recom_newuser(new_restaurants, original_data, algo, n):\n",
    "    '''\n",
    "    Function that takes in a list of new restaurants and returns recommendations.\n",
    "    \n",
    "    Arguments:\n",
    "    - new_restaurants : List of restaurants chosen by new user.\n",
    "    - original_dataset: Original dataframe of users, items and ratings\n",
    "    - algorithm used\n",
    "    - n number of recommendations\n",
    "    '''\n",
    "    \n",
    "    # Append new customer to a new dataframe, and assign a unique customer id\n",
    "    new_data = pd.DataFrame({'user_id': ['newuser123']*len(new_restaurants),\n",
    "                             'unique_store_id': new_restaurants,\n",
    "                             'user_stars': [4]*len(new_restaurants)})\n",
    "    combined_data = pd.concat([new_data, original_data]).reset_index(drop=True)\n",
    "    \n",
    "    # Initatialise dataset with surprise and do train-test split\n",
    "    reader = Reader(rating_scale = (1,5))\n",
    "    data = Dataset.load_from_df(combined_data[['user_id', 'unique_store_id', 'user_stars']], reader)\n",
    "    trainset = data.build_full_trainset()\n",
    "    \n",
    "#     # This algo must be trained before this function is executed. \n",
    "    algo.fit(trainset)\n",
    "    \n",
    "    # Initiate recommended scores for every item in the catalog\n",
    "    recommendations = {'items': [], 'rating': []}\n",
    "    \n",
    "    for item in original_data['unique_store_id'].unique():\n",
    "        if item not in list(user_rating_by_rest_exdate[user_rating_by_rest_exdate['user_id'] == 'newuser123']['unique_store_id']):\n",
    "            rating = algo.predict('newuser123', item, verbose = False)[3]\n",
    "            recommendations['items'].append(item)\n",
    "            recommendations['rating'].append(rating)\n",
    "        else:\n",
    "            pass\n",
    "    \n",
    "    # Take top n items and recommend to user\n",
    "    recs_df = pd.DataFrame(recommendations).rename(columns={\"items\": \"Recommended Restaurants\"}).sort_values(by = 'rating', ascending = False)[:n].iloc[:, 0]\n",
    "    recs_df.index = np.arange(1, len(recs_df) + 1)\n",
    "    recs_df = pd.DataFrame(recs_df)\n",
    "    \n",
    "    return recs_df    "
   ]
  },
  {
   "cell_type": "code",
   "execution_count": 49,
   "metadata": {},
   "outputs": [
    {
     "data": {
      "text/html": [
       "<div>\n",
       "<style scoped>\n",
       "    .dataframe tbody tr th:only-of-type {\n",
       "        vertical-align: middle;\n",
       "    }\n",
       "\n",
       "    .dataframe tbody tr th {\n",
       "        vertical-align: top;\n",
       "    }\n",
       "\n",
       "    .dataframe thead th {\n",
       "        text-align: right;\n",
       "    }\n",
       "</style>\n",
       "<table border=\"1\" class=\"dataframe\">\n",
       "  <thead>\n",
       "    <tr style=\"text-align: right;\">\n",
       "      <th></th>\n",
       "      <th>Recommended Items</th>\n",
       "    </tr>\n",
       "  </thead>\n",
       "  <tbody>\n",
       "    <tr>\n",
       "      <th>1</th>\n",
       "      <td>My Pie Pizza</td>\n",
       "    </tr>\n",
       "    <tr>\n",
       "      <th>2</th>\n",
       "      <td>Pizzeria Monzú</td>\n",
       "    </tr>\n",
       "    <tr>\n",
       "      <th>3</th>\n",
       "      <td>Cheba Hut Toasted Subs</td>\n",
       "    </tr>\n",
       "    <tr>\n",
       "      <th>4</th>\n",
       "      <td>Snow Ono Shave Ice</td>\n",
       "    </tr>\n",
       "    <tr>\n",
       "      <th>5</th>\n",
       "      <td>Stripchezze Food Truck</td>\n",
       "    </tr>\n",
       "    <tr>\n",
       "      <th>6</th>\n",
       "      <td>Partage</td>\n",
       "    </tr>\n",
       "    <tr>\n",
       "      <th>7</th>\n",
       "      <td>Garden Grill</td>\n",
       "    </tr>\n",
       "    <tr>\n",
       "      <th>8</th>\n",
       "      <td>Kame Omakase</td>\n",
       "    </tr>\n",
       "    <tr>\n",
       "      <th>9</th>\n",
       "      <td>Good Pie</td>\n",
       "    </tr>\n",
       "    <tr>\n",
       "      <th>10</th>\n",
       "      <td>El Frescos Cocina Mexicana</td>\n",
       "    </tr>\n",
       "  </tbody>\n",
       "</table>\n",
       "</div>"
      ],
      "text/plain": [
       "             Recommended Items\n",
       "1                 My Pie Pizza\n",
       "2               Pizzeria Monzú\n",
       "3       Cheba Hut Toasted Subs\n",
       "4           Snow Ono Shave Ice\n",
       "5       Stripchezze Food Truck\n",
       "6                      Partage\n",
       "7                 Garden Grill\n",
       "8                 Kame Omakase\n",
       "9                     Good Pie\n",
       "10  El Frescos Cocina Mexicana"
      ]
     },
     "execution_count": 49,
     "metadata": {},
     "output_type": "execute_result"
    }
   ],
   "source": [
    "# Predict recommendation for new user\n",
    "\n",
    "new_restaurants = ['360 Gourmet Bistro', '7th & Carson', '808 Tapas']\n",
    "\n",
    "# algo based on best performing in earlier testing\n",
    "iicf_recom_newuser(new_restaurants, user_rating_by_rest_exdate, algo_iicf, 10)\n",
    "\n",
    "# 15-20 secs prediction"
   ]
  },
  {
   "cell_type": "markdown",
   "metadata": {},
   "source": [
    "### 2d) Matrix Factorization - SVD"
   ]
  },
  {
   "cell_type": "markdown",
   "metadata": {},
   "source": [
    "### 2d)i) Train and evaluate model - SVD\n",
    "\n",
    "1) Evaluate best RMSE using a range of n latent factors, and by adjusting learning rates and regularization terms\n",
    "\n",
    "2) With the best n, evaluate the precision and recall score\n",
    "\n",
    "3) Finally for the best configuration across RMSE, precision and recall score, recommend the top restaurants for a given user profile (i.e. what restaurants he has previously liked)"
   ]
  },
  {
   "cell_type": "code",
   "execution_count": 298,
   "metadata": {},
   "outputs": [],
   "source": [
    "# Set up data and apply train-test split\n",
    "\n",
    "reader = Reader(rating_scale = (1,5))\n",
    "data = Dataset.load_from_df(user_rating_by_rest_exdate, reader)\n",
    "trainset, testset = train_test_split(data, test_size = 0.2, random_state = 1)"
   ]
  },
  {
   "cell_type": "markdown",
   "metadata": {},
   "source": [
    "**2d)ii) RMSE evaluation**"
   ]
  },
  {
   "cell_type": "code",
   "execution_count": 299,
   "metadata": {},
   "outputs": [],
   "source": [
    "# Function to evaluate RMSE for with various parameters for n latent factors\n",
    "# - Different number of n latent factors to test\n",
    "# - similarity type used\n",
    "\n",
    "def plot_rmse_svd(n_latent_factors, trainset, testset):\n",
    "    '''\n",
    "    Function that tanes in a range of n nearest neighbor values.\n",
    "    Calculates the RMSE on train and test for each n and plot the curve.\n",
    "    '''\n",
    "    \n",
    "    scores_dict = {'n_latent_factors': [], 'train_rmse': [], 'test_rmse': []}\n",
    "    \n",
    "    for n in n_latent_factors:\n",
    "        algo = SVD(n, verbose = False)\n",
    "        algo.fit(trainset)\n",
    "        \n",
    "        train_pred = algo.test(trainset.build_testset())\n",
    "        test_pred = algo.test(testset)\n",
    "        \n",
    "        train_rmse = rmse(train_pred, verbose = False)\n",
    "        test_rmse = rmse(test_pred, verbose = False)\n",
    "        \n",
    "        scores_dict['n_latent_factors'].append(n)\n",
    "        scores_dict['train_rmse'].append(train_rmse)\n",
    "        scores_dict['test_rmse'].append(test_rmse)\n",
    "        \n",
    "    scores_df = pd.DataFrame(scores_dict)\n",
    "    \n",
    "    plt.figure(figsize = (10,7))\n",
    "    plt.plot(scores_df['n_latent_factors'], scores_df['train_rmse'], label = 'train_rmse')\n",
    "    plt.plot(scores_df['n_latent_factors'], scores_df['test_rmse'], label = 'test_rmse')\n",
    "    plt.title('RMSE for different values of n_latent_factors', fontsize = 15)\n",
    "    plt.xlabel('n_latent_factors')\n",
    "    plt.ylabel('RMSE')\n",
    "    plt.legend()\n",
    "    \n",
    "    return scores_df"
   ]
  },
  {
   "cell_type": "code",
   "execution_count": 300,
   "metadata": {},
   "outputs": [
    {
     "data": {
      "image/png": "[encoded data removed]",
      "text/plain": [
       "<Figure size 720x504 with 1 Axes>"
      ]
     },
     "metadata": {
      "image/png": {
       "height": 441,
       "width": 614
      },
      "needs_background": "light"
     },
     "output_type": "display_data"
    }
   ],
   "source": [
    "# Test using svd\n",
    "\n",
    "cos_scores_true = plot_rmse_svd(range(10,20), trainset, testset)\n",
    "\n",
    "# Test RMSE hovers around 1.02"
   ]
  },
  {
   "cell_type": "code",
   "execution_count": 301,
   "metadata": {},
   "outputs": [
    {
     "name": "stdout",
     "output_type": "stream",
     "text": [
      "0.9205194154622518\n",
      "{'n_factors': 1, 'n_epochs': 20, 'lr_all': 0.005, 'reg_all': 0.1, 'verbose': False}\n"
     ]
    }
   ],
   "source": [
    "# Use GridSearch to generate optimal settings for score\n",
    "\n",
    "param_grid = {'n_factors': range(1,20),\n",
    "              'n_epochs': [20, 30],\n",
    "              'lr_all': [0.001, 0.005],\n",
    "              'reg_all': [0.02, 0.10, 0.5],  \n",
    "              'verbose': [False]}\n",
    "\n",
    "gs = GridSearchCV(SVD, param_grid, measures=['rmse', 'mae'], cv=10)\n",
    "gs.fit(data)\n",
    "\n",
    "algo = gs.best_estimator['rmse']\n",
    "print(gs.best_score['rmse'])\n",
    "print(gs.best_params['rmse'])\n",
    "\n",
    "# 0.9205194154622518\n",
    "# {'n_factors': 1, 'n_epochs': 20, 'lr_all': 0.005, 'reg_all': 0.1, 'verbose': False}"
   ]
  },
  {
   "cell_type": "code",
   "execution_count": 302,
   "metadata": {},
   "outputs": [
    {
     "name": "stdout",
     "output_type": "stream",
     "text": [
      "Evaluating RMSE, MAE of algorithm SVD on 5 split(s).\n",
      "\n",
      "                  Fold 1  Fold 2  Fold 3  Fold 4  Fold 5  Mean    Std     \n",
      "RMSE (testset)    0.9261  0.9264  0.9187  0.9220  0.9227  0.9232  0.0028  \n",
      "MAE (testset)     0.7268  0.7288  0.7203  0.7274  0.7250  0.7256  0.0029  \n",
      "Fit time          1.97    1.55    1.57    1.62    1.67    1.67    0.15    \n",
      "Test time         0.16    0.16    0.47    0.14    0.16    0.22    0.12    \n"
     ]
    },
    {
     "data": {
      "text/plain": [
       "{'test_rmse': array([0.92607226, 0.92640769, 0.91869669, 0.92198306, 0.9226829 ]),\n",
       " 'test_mae': array([0.72677696, 0.72876567, 0.7202669 , 0.72736605, 0.7249601 ]),\n",
       " 'fit_time': (1.9679524898529053,\n",
       "  1.5480916500091553,\n",
       "  1.5682733058929443,\n",
       "  1.6160509586334229,\n",
       "  1.671151876449585),\n",
       " 'test_time': (0.16455888748168945,\n",
       "  0.15618014335632324,\n",
       "  0.46592092514038086,\n",
       "  0.14062190055847168,\n",
       "  0.15621614456176758)}"
      ]
     },
     "execution_count": 302,
     "metadata": {},
     "output_type": "execute_result"
    }
   ],
   "source": [
    "# Cross validate on data\n",
    "\n",
    "cross_validate(algo, data, measures=['RMSE', 'MAE'], cv=5, verbose=True)\n",
    "\n",
    "\n",
    "# Evaluating RMSE, MAE of algorithm SVD on 5 split(s).\n",
    "\n",
    "#                   Fold 1  Fold 2  Fold 3  Fold 4  Fold 5  Mean    Std     \n",
    "# RMSE (testset)    0.9261  0.9264  0.9187  0.9220  0.9227  0.9232  0.0028  \n",
    "# MAE (testset)     0.7268  0.7288  0.7203  0.7274  0.7250  0.7256  0.0029  \n",
    "# Fit time          1.97    1.55    1.57    1.62    1.67    1.67    0.15    \n",
    "# Test time         0.16    0.16    0.47    0.14    0.16    0.22    0.12     "
   ]
  },
  {
   "cell_type": "code",
   "execution_count": 303,
   "metadata": {},
   "outputs": [
    {
     "name": "stdout",
     "output_type": "stream",
     "text": [
      "User-based Model : Test Set\n",
      "RMSE: 0.8686\n"
     ]
    },
    {
     "data": {
      "text/plain": [
       "0.8686487107297767"
      ]
     },
     "execution_count": 303,
     "metadata": {},
     "output_type": "execute_result"
    }
   ],
   "source": [
    "# Evaluate test set based on GridSearch params\n",
    "print(\"User-based Model : Test Set\")\n",
    "test_pred = algo.test(testset)\n",
    "rmse(test_pred, verbose=True)\n",
    "\n",
    "# User-based Model : Test Set\n",
    "# RMSE: 0.8686"
   ]
  },
  {
   "cell_type": "code",
   "execution_count": 304,
   "metadata": {},
   "outputs": [
    {
     "name": "stdout",
     "output_type": "stream",
     "text": [
      "User-based Model : Test Set\n",
      "RMSE: 0.9305\n"
     ]
    },
    {
     "data": {
      "text/plain": [
       "0.9305386030355409"
      ]
     },
     "execution_count": 304,
     "metadata": {},
     "output_type": "execute_result"
    }
   ],
   "source": [
    "# Evaluate test set with regularization based on individual regularization/learning rate params\n",
    "\n",
    "algo = SVD(n_factors = 2, lr_bu = 0.001, lr_pu = 0.001, reg_bu = 0.5, reg_pu = 0.5, verbose = False)\n",
    "algo.fit(trainset)\n",
    "\n",
    "print(\"User-based Model : Test Set\")\n",
    "test_pred = algo.test(testset)\n",
    "rmse(test_pred, verbose=True)\n",
    "\n",
    "# User-based Model : Test Set\n",
    "# RMSE: 0.9305"
   ]
  },
  {
   "cell_type": "code",
   "execution_count": 305,
   "metadata": {},
   "outputs": [
    {
     "name": "stdout",
     "output_type": "stream",
     "text": [
      "User-based Model : Test Set\n",
      "RMSE: 0.9167\n"
     ]
    },
    {
     "data": {
      "text/plain": [
       "0.9167411644498517"
      ]
     },
     "execution_count": 305,
     "metadata": {},
     "output_type": "execute_result"
    }
   ],
   "source": [
    "# Evaluate test set with regularization based on best params\n",
    "\n",
    "algo = SVD(n_factors = 2, lr_all = 0.005, reg_all = 0.1, verbose = False)\n",
    "algo.fit(trainset)\n",
    "\n",
    "print(\"User-based Model : Test Set\")\n",
    "test_pred = algo.test(testset)\n",
    "rmse(test_pred, verbose=True)\n",
    "\n",
    "# User-based Model : Test Set\n",
    "# RMSE: 0.9167"
   ]
  },
  {
   "cell_type": "markdown",
   "metadata": {},
   "source": [
    "Based on the scores, it appears that using the cosine similarity measure results in a lower RMSE score, and the optimal k (which results in diminishing returns for higher k) is 1. \n",
    "\n",
    "Let's evaluate both precision and recall scores for both cosine and pearson similarity measures"
   ]
  },
  {
   "cell_type": "markdown",
   "metadata": {},
   "source": [
    "**2d)iii) Precision and Recall testing**"
   ]
  },
  {
   "cell_type": "code",
   "execution_count": 306,
   "metadata": {},
   "outputs": [],
   "source": [
    "# Function to evaluate precision and recall score based on a set of predictions (and corresponding dataset). Parameters include \n",
    "# - No. of items to recommend\n",
    "# - threshold rating - minimum rating required for an item to be recommended\n",
    "\n",
    "def precision_recall_at_k(predictions, k = 10, threshold = 3.5):\n",
    "    \n",
    "    # map predictions of each user\n",
    "    user_est_true = defaultdict(list)\n",
    "    for uid, _, true_r, est, _ in predictions:\n",
    "        user_est_true[uid].append((est, true_r))\n",
    "        \n",
    "    precisions = dict()\n",
    "    recalls = dict()\n",
    "    for uid, user_ratings in user_est_true.items():\n",
    "        # sort user ratings by estimated value\n",
    "        user_ratings.sort(key=lambda x: x[0], reverse = True)\n",
    "\n",
    "        # Check number of relevant items\n",
    "        n_rel = sum((true_r >= threshold) for (_, true_r) in user_ratings)\n",
    "\n",
    "        # Number of recommended items in top k\n",
    "        n_rec_k = sum((est >= threshold) for (est, _) in user_ratings[:k])\n",
    "\n",
    "        # Number of relevant and recommended items in top k\n",
    "        n_rel_and_rec_k = sum(((true_r >= threshold) and (est >= threshold))\n",
    "                              for (est, true_r) in user_ratings[:k])\n",
    "\n",
    "        # Precisions@k: Proportion of recommended items that are relevant\n",
    "        precisions[uid] = n_rel_and_rec_k/n_rec_k if n_rec_k != 0 else 1\n",
    "        \n",
    "        # Recall@k: Proportion of relevant items that are recommended\n",
    "        recalls[uid] = n_rel_and_rec_k/n_rel if n_rel != 0 else 1\n",
    "        \n",
    "    return precisions, recalls\n",
    "\n"
   ]
  },
  {
   "cell_type": "code",
   "execution_count": 307,
   "metadata": {},
   "outputs": [
    {
     "name": "stdout",
     "output_type": "stream",
     "text": [
      "Precision score for SVD : 0.7667481725292907\n",
      "Recall score for SVD : 0.8800586591424893\n"
     ]
    }
   ],
   "source": [
    "# set up algo for SVD and generate out scores\n",
    "\n",
    "algo_svd = SVD(n_factors = 2, lr_all = 0.005, reg_all = 0.1, verbose = False)\n",
    "algo_svd.fit(trainset)\n",
    "predictions_svd = algo_svd.test(testset)\n",
    "\n",
    "precisions, recalls = precision_recall_at_k(predictions_svd, k = 10, threshold = 3.5)\n",
    "\n",
    "# Average precision and recall over all users\n",
    "print('Precision score for SVD :', sum(prec for prec in precisions.values()) / len(precisions))\n",
    "print('Recall score for SVD :', sum(rec for rec in recalls.values()) / len(recalls))\n",
    "\n",
    "# Precision score for SVD : 0.7667481725292907\n",
    "# Recall score for SVD : 0.8800586591424893"
   ]
  },
  {
   "cell_type": "code",
   "execution_count": null,
   "metadata": {},
   "outputs": [],
   "source": [
    "# Predict recommendation for existing user\n",
    "\n",
    "algo_svd = SVD(n_factors= 1, n_epochs = 20, lr_all = 0.005, reg_all = 0.1, verbose = False)"
   ]
  },
  {
   "cell_type": "code",
   "execution_count": 308,
   "metadata": {},
   "outputs": [],
   "source": [
    "# save rec_svd_surprise pickle file\n",
    "with open(\"rec_svd_surprise.pkl\", \"wb\") as f:\n",
    "    pickle.dump(algo_svd, f)"
   ]
  },
  {
   "cell_type": "code",
   "execution_count": 50,
   "metadata": {},
   "outputs": [],
   "source": [
    "# load rec_uucf_surprise pickle file\n",
    "with open(\"rec_svd_surprise.pkl\", \"rb\") as f:\n",
    "    algo_svd = pickle.load(f)"
   ]
  },
  {
   "cell_type": "markdown",
   "metadata": {},
   "source": [
    "### 2d)iv) Recommended restaurants"
   ]
  },
  {
   "cell_type": "code",
   "execution_count": 92,
   "metadata": {},
   "outputs": [],
   "source": [
    "# For existing users\n",
    "\n",
    "def svd_recom_currentuser(current_user_id, original_data, algo, n):\n",
    "    '''\n",
    "    Function that takes in a list of current user id and returns recommendations.\n",
    "    \n",
    "    Arguments:\n",
    "    - current_user_id from database\n",
    "    - original_dataset: Original dataframe of users, items and ratings\n",
    "    - algorithm used\n",
    "    - n number of recommendations\n",
    "    '''\n",
    "    \n",
    "    # Initiate recommended scores for every item in the catalog\n",
    "    recommendations = {'items': [], 'rating': []}\n",
    "    \n",
    "    for item in original_data['unique_store_id'].unique():\n",
    "#         if item not in list(user_rating_by_rest_exdate[user_rating_by_rest_exdate['user_id'] == current_user_id]['unique_store_id']):\n",
    "            rating = algo.predict(current_user_id, item, verbose = False)[3]\n",
    "            recommendations['items'].append(item)\n",
    "            recommendations['rating'].append(rating)\n",
    "#         else:\n",
    "#             pass\n",
    "    \n",
    "    # Take top n items and recommend to user\n",
    "    recs_df = pd.DataFrame(recommendations).rename(columns={\"items\": \"Recommended Restaurants\"}).sort_values(by = 'rating', ascending = False)[:n].iloc[:, 0]\n",
    "    recs_df.index = np.arange(1, len(recs_df) + 1)\n",
    "    recs_df = pd.DataFrame(recs_df)\n",
    "    \n",
    "    return recs_df    "
   ]
  },
  {
   "cell_type": "code",
   "execution_count": 93,
   "metadata": {},
   "outputs": [
    {
     "data": {
      "text/html": [
       "<div>\n",
       "<style scoped>\n",
       "    .dataframe tbody tr th:only-of-type {\n",
       "        vertical-align: middle;\n",
       "    }\n",
       "\n",
       "    .dataframe tbody tr th {\n",
       "        vertical-align: top;\n",
       "    }\n",
       "\n",
       "    .dataframe thead th {\n",
       "        text-align: right;\n",
       "    }\n",
       "</style>\n",
       "<table border=\"1\" class=\"dataframe\">\n",
       "  <thead>\n",
       "    <tr style=\"text-align: right;\">\n",
       "      <th></th>\n",
       "      <th>Recommended Restaurants</th>\n",
       "    </tr>\n",
       "  </thead>\n",
       "  <tbody>\n",
       "    <tr>\n",
       "      <th>1</th>\n",
       "      <td>Kame Omakase</td>\n",
       "    </tr>\n",
       "    <tr>\n",
       "      <th>2</th>\n",
       "      <td>Snow Ono Shave Ice</td>\n",
       "    </tr>\n",
       "    <tr>\n",
       "      <th>3</th>\n",
       "      <td>Stripchezze Food Truck</td>\n",
       "    </tr>\n",
       "    <tr>\n",
       "      <th>4</th>\n",
       "      <td>Partage</td>\n",
       "    </tr>\n",
       "    <tr>\n",
       "      <th>5</th>\n",
       "      <td>Pizzeria Monzú</td>\n",
       "    </tr>\n",
       "    <tr>\n",
       "      <th>6</th>\n",
       "      <td>Cheba Hut Toasted Subs</td>\n",
       "    </tr>\n",
       "    <tr>\n",
       "      <th>7</th>\n",
       "      <td>Alex</td>\n",
       "    </tr>\n",
       "    <tr>\n",
       "      <th>8</th>\n",
       "      <td>Good Pie</td>\n",
       "    </tr>\n",
       "    <tr>\n",
       "      <th>9</th>\n",
       "      <td>Meráki Greek Grill</td>\n",
       "    </tr>\n",
       "    <tr>\n",
       "      <th>10</th>\n",
       "      <td>Joël  Robuchon</td>\n",
       "    </tr>\n",
       "  </tbody>\n",
       "</table>\n",
       "</div>"
      ],
      "text/plain": [
       "   Recommended Restaurants\n",
       "1             Kame Omakase\n",
       "2       Snow Ono Shave Ice\n",
       "3   Stripchezze Food Truck\n",
       "4                  Partage\n",
       "5           Pizzeria Monzú\n",
       "6   Cheba Hut Toasted Subs\n",
       "7                     Alex\n",
       "8                 Good Pie\n",
       "9       Meráki Greek Grill\n",
       "10          Joël  Robuchon"
      ]
     },
     "execution_count": 93,
     "metadata": {},
     "output_type": "execute_result"
    }
   ],
   "source": [
    "# algo based on best performing in earlier testing\n",
    "svd_recom_currentuser('gjhzKWsqCIrpEd9pevbKZw', user_rating_by_rest_exdate, algo_svd, 10)\n",
    "\n",
    "# 15-20 secs prediction"
   ]
  },
  {
   "cell_type": "code",
   "execution_count": 57,
   "metadata": {},
   "outputs": [],
   "source": [
    "def svd_recom_newuser(new_restaurants, original_data, algo, n):\n",
    "    '''\n",
    "    Function that takes in a list of new restaurants and returns recommendations.\n",
    "    \n",
    "    Arguments:\n",
    "    - new_restaurants : List of restaurants chosen by new user.\n",
    "    - original_dataset: Original dataframe of users, items and ratings\n",
    "    - algorithm used\n",
    "    - n number of recommendations\n",
    "    '''\n",
    "    \n",
    "    # Append new customer to a new dataframe, and assign a unique customer id\n",
    "    new_data = pd.DataFrame({'user_id': ['newuser123']*len(new_restaurants),\n",
    "                             'unique_store_id': new_restaurants,\n",
    "                             'user_stars': [4]*len(new_restaurants)})\n",
    "    combined_data = pd.concat([new_data, original_data]).reset_index(drop=True)\n",
    "    \n",
    "    # Initatialise dataset with surprise and do train-test split\n",
    "    reader = Reader(rating_scale = (1,5))\n",
    "    data = Dataset.load_from_df(combined_data[['user_id', 'unique_store_id', 'user_stars']], reader)\n",
    "    trainset = data.build_full_trainset()\n",
    "    \n",
    "#     # This algo must be trained before this function is executed. \n",
    "    algo.fit(trainset)\n",
    "    \n",
    "    # Initiate recommended scores for every item in the catalog\n",
    "    recommendations = {'items': [], 'rating': []}\n",
    "    \n",
    "    for item in original_data['unique_store_id'].unique():\n",
    "#         if item not in list(user_rating_by_rest_exdate[user_rating_by_rest_exdate['user_id'] == 'newuser123']['unique_store_id']):\n",
    "            rating = algo.predict('newuser123', item, verbose = False)[3]\n",
    "            recommendations['items'].append(item)\n",
    "            recommendations['rating'].append(rating)\n",
    "#         else:\n",
    "#             pass\n",
    "    \n",
    "    # Take top n items and recommend to user\n",
    "    recs_df = pd.DataFrame(recommendations).rename(columns={\"items\": \"Recommended Restaurants\"}).sort_values(by = 'rating', ascending = False)[:n].iloc[:, 0]\n",
    "    recs_df.index = np.arange(1, len(recs_df) + 1)\n",
    "    recs_df = pd.DataFrame(recs_df)\n",
    "    \n",
    "    return recs_df    "
   ]
  },
  {
   "cell_type": "code",
   "execution_count": 58,
   "metadata": {},
   "outputs": [
    {
     "data": {
      "text/html": [
       "<div>\n",
       "<style scoped>\n",
       "    .dataframe tbody tr th:only-of-type {\n",
       "        vertical-align: middle;\n",
       "    }\n",
       "\n",
       "    .dataframe tbody tr th {\n",
       "        vertical-align: top;\n",
       "    }\n",
       "\n",
       "    .dataframe thead th {\n",
       "        text-align: right;\n",
       "    }\n",
       "</style>\n",
       "<table border=\"1\" class=\"dataframe\">\n",
       "  <thead>\n",
       "    <tr style=\"text-align: right;\">\n",
       "      <th></th>\n",
       "      <th>Recommended Items</th>\n",
       "    </tr>\n",
       "  </thead>\n",
       "  <tbody>\n",
       "    <tr>\n",
       "      <th>1</th>\n",
       "      <td>Kame Omakase</td>\n",
       "    </tr>\n",
       "    <tr>\n",
       "      <th>2</th>\n",
       "      <td>Snow Ono Shave Ice</td>\n",
       "    </tr>\n",
       "    <tr>\n",
       "      <th>3</th>\n",
       "      <td>Stripchezze Food Truck</td>\n",
       "    </tr>\n",
       "    <tr>\n",
       "      <th>4</th>\n",
       "      <td>Partage</td>\n",
       "    </tr>\n",
       "    <tr>\n",
       "      <th>5</th>\n",
       "      <td>Pizzeria Monzú</td>\n",
       "    </tr>\n",
       "    <tr>\n",
       "      <th>6</th>\n",
       "      <td>Cheba Hut Toasted Subs</td>\n",
       "    </tr>\n",
       "    <tr>\n",
       "      <th>7</th>\n",
       "      <td>Alex</td>\n",
       "    </tr>\n",
       "    <tr>\n",
       "      <th>8</th>\n",
       "      <td>Meráki Greek Grill</td>\n",
       "    </tr>\n",
       "    <tr>\n",
       "      <th>9</th>\n",
       "      <td>Good Pie</td>\n",
       "    </tr>\n",
       "    <tr>\n",
       "      <th>10</th>\n",
       "      <td>Joël  Robuchon</td>\n",
       "    </tr>\n",
       "  </tbody>\n",
       "</table>\n",
       "</div>"
      ],
      "text/plain": [
       "         Recommended Items\n",
       "1             Kame Omakase\n",
       "2       Snow Ono Shave Ice\n",
       "3   Stripchezze Food Truck\n",
       "4                  Partage\n",
       "5           Pizzeria Monzú\n",
       "6   Cheba Hut Toasted Subs\n",
       "7                     Alex\n",
       "8       Meráki Greek Grill\n",
       "9                 Good Pie\n",
       "10          Joël  Robuchon"
      ]
     },
     "execution_count": 58,
     "metadata": {},
     "output_type": "execute_result"
    }
   ],
   "source": [
    "# Predict recommendation for new user\n",
    "\n",
    "new_restaurants = ['360 Gourmet Bistro', '7th & Carson', '808 Tapas']\n",
    "algo_svd = SVD(n_factors= 1, n_epochs = 20, lr_all = 0.005, reg_all = 0.1, verbose = False)\n",
    "\n",
    "# algo based on best performing in earlier testing\n",
    "svd_recom_newuser(new_restaurants, user_rating_by_rest_exdate, algo_svd, 10)\n",
    "\n",
    "# 15-20 secs prediction"
   ]
  },
  {
   "cell_type": "markdown",
   "metadata": {},
   "source": [
    "### 3) Content based filtering (Manual)"
   ]
  },
  {
   "cell_type": "code",
   "execution_count": 59,
   "metadata": {},
   "outputs": [],
   "source": [
    "# load rest_reviews_nv_real pickle file\n",
    "with open(\"rest_reviews_nv_real.pkl\", \"rb\") as f:\n",
    "    rest_reviews_nv_real = pickle.load(f)"
   ]
  },
  {
   "cell_type": "code",
   "execution_count": 120,
   "metadata": {},
   "outputs": [],
   "source": [
    "# Group \n",
    "userbiz_group = rest_reviews_nv_real.groupby('user_id').agg({'name': lambda x: ', '.join(x)})"
   ]
  },
  {
   "cell_type": "code",
   "execution_count": 121,
   "metadata": {},
   "outputs": [],
   "source": [
    "# save userbiz_group pickle file\n",
    "with open(\"userbiz_group.pkl\", \"wb\") as f:\n",
    "    pickle.dump(userbiz_group, f)"
   ]
  },
  {
   "cell_type": "code",
   "execution_count": 60,
   "metadata": {
    "scrolled": true
   },
   "outputs": [
    {
     "data": {
      "text/html": [
       "<div>\n",
       "<style scoped>\n",
       "    .dataframe tbody tr th:only-of-type {\n",
       "        vertical-align: middle;\n",
       "    }\n",
       "\n",
       "    .dataframe tbody tr th {\n",
       "        vertical-align: top;\n",
       "    }\n",
       "\n",
       "    .dataframe thead th {\n",
       "        text-align: right;\n",
       "    }\n",
       "</style>\n",
       "<table border=\"1\" class=\"dataframe\">\n",
       "  <thead>\n",
       "    <tr style=\"text-align: right;\">\n",
       "      <th></th>\n",
       "      <th>review_id</th>\n",
       "      <th>business_id</th>\n",
       "      <th>user_id</th>\n",
       "      <th>user_stars</th>\n",
       "      <th>text</th>\n",
       "      <th>date</th>\n",
       "      <th>name</th>\n",
       "      <th>rest_avg_stars</th>\n",
       "      <th>review_count</th>\n",
       "      <th>categories</th>\n",
       "      <th>...</th>\n",
       "      <th>noise_lvl</th>\n",
       "      <th>credit_cards</th>\n",
       "      <th>wifi</th>\n",
       "      <th>alcohol</th>\n",
       "      <th>open_24hrs</th>\n",
       "      <th>serves_breakfast</th>\n",
       "      <th>serves_lunch</th>\n",
       "      <th>serves_dinner</th>\n",
       "      <th>is_chain</th>\n",
       "      <th>unique_store_id</th>\n",
       "    </tr>\n",
       "  </thead>\n",
       "  <tbody>\n",
       "    <tr>\n",
       "      <th>1</th>\n",
       "      <td>lvEYRVCVtzkWs8HhO9NhCw</td>\n",
       "      <td>I4Nr-MVc26qWr08-S3Q1ow</td>\n",
       "      <td>7Inj11uN96hJUXAxrG2Saw</td>\n",
       "      <td>5.0</td>\n",
       "      <td>My wife ate here and I had pizza from another ...</td>\n",
       "      <td>2016-03-07</td>\n",
       "      <td>Greenberg's Deli</td>\n",
       "      <td>4.0</td>\n",
       "      <td>333</td>\n",
       "      <td>Delis, Sandwiches, Pizza</td>\n",
       "      <td>...</td>\n",
       "      <td>average</td>\n",
       "      <td>1</td>\n",
       "      <td>1</td>\n",
       "      <td>1</td>\n",
       "      <td>0</td>\n",
       "      <td>1</td>\n",
       "      <td>1</td>\n",
       "      <td>1</td>\n",
       "      <td>0</td>\n",
       "      <td>Greenberg's Deli</td>\n",
       "    </tr>\n",
       "    <tr>\n",
       "      <th>5</th>\n",
       "      <td>Fid16Utz654-3h2Wb96ttA</td>\n",
       "      <td>I4Nr-MVc26qWr08-S3Q1ow</td>\n",
       "      <td>XKo5IT6o-WslzHPT69PRSQ</td>\n",
       "      <td>3.0</td>\n",
       "      <td>I had lunch for the first time at this locatio...</td>\n",
       "      <td>2013-02-22</td>\n",
       "      <td>Greenberg's Deli</td>\n",
       "      <td>4.0</td>\n",
       "      <td>333</td>\n",
       "      <td>Delis, Sandwiches, Pizza</td>\n",
       "      <td>...</td>\n",
       "      <td>average</td>\n",
       "      <td>1</td>\n",
       "      <td>1</td>\n",
       "      <td>1</td>\n",
       "      <td>0</td>\n",
       "      <td>1</td>\n",
       "      <td>1</td>\n",
       "      <td>1</td>\n",
       "      <td>0</td>\n",
       "      <td>Greenberg's Deli</td>\n",
       "    </tr>\n",
       "    <tr>\n",
       "      <th>9</th>\n",
       "      <td>h-S9hbHrkV8rFegFqpdf_Q</td>\n",
       "      <td>I4Nr-MVc26qWr08-S3Q1ow</td>\n",
       "      <td>nCsfMqpfOGcTFKEZ3C1_Gg</td>\n",
       "      <td>4.0</td>\n",
       "      <td>this place makes a great pastrami or Reuben sa...</td>\n",
       "      <td>2013-12-08</td>\n",
       "      <td>Greenberg's Deli</td>\n",
       "      <td>4.0</td>\n",
       "      <td>333</td>\n",
       "      <td>Delis, Sandwiches, Pizza</td>\n",
       "      <td>...</td>\n",
       "      <td>average</td>\n",
       "      <td>1</td>\n",
       "      <td>1</td>\n",
       "      <td>1</td>\n",
       "      <td>0</td>\n",
       "      <td>1</td>\n",
       "      <td>1</td>\n",
       "      <td>1</td>\n",
       "      <td>0</td>\n",
       "      <td>Greenberg's Deli</td>\n",
       "    </tr>\n",
       "    <tr>\n",
       "      <th>17</th>\n",
       "      <td>W1mPDutV0JZuaLBWgAWxTA</td>\n",
       "      <td>I4Nr-MVc26qWr08-S3Q1ow</td>\n",
       "      <td>51UaY_JKrEOzA1CeEbuDNg</td>\n",
       "      <td>4.0</td>\n",
       "      <td>The New York, New York does the \"Food Court\" i...</td>\n",
       "      <td>2007-12-12</td>\n",
       "      <td>Greenberg's Deli</td>\n",
       "      <td>4.0</td>\n",
       "      <td>333</td>\n",
       "      <td>Delis, Sandwiches, Pizza</td>\n",
       "      <td>...</td>\n",
       "      <td>average</td>\n",
       "      <td>1</td>\n",
       "      <td>1</td>\n",
       "      <td>1</td>\n",
       "      <td>0</td>\n",
       "      <td>1</td>\n",
       "      <td>1</td>\n",
       "      <td>1</td>\n",
       "      <td>0</td>\n",
       "      <td>Greenberg's Deli</td>\n",
       "    </tr>\n",
       "    <tr>\n",
       "      <th>24</th>\n",
       "      <td>XqPkNCAVDBbEawwfZVzPGw</td>\n",
       "      <td>I4Nr-MVc26qWr08-S3Q1ow</td>\n",
       "      <td>nW4POvJR2MqjU90mnNPqvA</td>\n",
       "      <td>4.0</td>\n",
       "      <td>Alright I have to admit..I'm still dreaming of...</td>\n",
       "      <td>2010-05-17</td>\n",
       "      <td>Greenberg's Deli</td>\n",
       "      <td>4.0</td>\n",
       "      <td>333</td>\n",
       "      <td>Delis, Sandwiches, Pizza</td>\n",
       "      <td>...</td>\n",
       "      <td>average</td>\n",
       "      <td>1</td>\n",
       "      <td>1</td>\n",
       "      <td>1</td>\n",
       "      <td>0</td>\n",
       "      <td>1</td>\n",
       "      <td>1</td>\n",
       "      <td>1</td>\n",
       "      <td>0</td>\n",
       "      <td>Greenberg's Deli</td>\n",
       "    </tr>\n",
       "  </tbody>\n",
       "</table>\n",
       "<p>5 rows × 30 columns</p>\n",
       "</div>"
      ],
      "text/plain": [
       "                 review_id             business_id                 user_id  \\\n",
       "1   lvEYRVCVtzkWs8HhO9NhCw  I4Nr-MVc26qWr08-S3Q1ow  7Inj11uN96hJUXAxrG2Saw   \n",
       "5   Fid16Utz654-3h2Wb96ttA  I4Nr-MVc26qWr08-S3Q1ow  XKo5IT6o-WslzHPT69PRSQ   \n",
       "9   h-S9hbHrkV8rFegFqpdf_Q  I4Nr-MVc26qWr08-S3Q1ow  nCsfMqpfOGcTFKEZ3C1_Gg   \n",
       "17  W1mPDutV0JZuaLBWgAWxTA  I4Nr-MVc26qWr08-S3Q1ow  51UaY_JKrEOzA1CeEbuDNg   \n",
       "24  XqPkNCAVDBbEawwfZVzPGw  I4Nr-MVc26qWr08-S3Q1ow  nW4POvJR2MqjU90mnNPqvA   \n",
       "\n",
       "    user_stars                                               text        date  \\\n",
       "1          5.0  My wife ate here and I had pizza from another ...  2016-03-07   \n",
       "5          3.0  I had lunch for the first time at this locatio...  2013-02-22   \n",
       "9          4.0  this place makes a great pastrami or Reuben sa...  2013-12-08   \n",
       "17         4.0  The New York, New York does the \"Food Court\" i...  2007-12-12   \n",
       "24         4.0  Alright I have to admit..I'm still dreaming of...  2010-05-17   \n",
       "\n",
       "                name  rest_avg_stars  review_count                categories  \\\n",
       "1   Greenberg's Deli             4.0           333  Delis, Sandwiches, Pizza   \n",
       "5   Greenberg's Deli             4.0           333  Delis, Sandwiches, Pizza   \n",
       "9   Greenberg's Deli             4.0           333  Delis, Sandwiches, Pizza   \n",
       "17  Greenberg's Deli             4.0           333  Delis, Sandwiches, Pizza   \n",
       "24  Greenberg's Deli             4.0           333  Delis, Sandwiches, Pizza   \n",
       "\n",
       "          ...         noise_lvl  credit_cards  wifi  alcohol  open_24hrs  \\\n",
       "1         ...           average             1     1        1           0   \n",
       "5         ...           average             1     1        1           0   \n",
       "9         ...           average             1     1        1           0   \n",
       "17        ...           average             1     1        1           0   \n",
       "24        ...           average             1     1        1           0   \n",
       "\n",
       "    serves_breakfast  serves_lunch  serves_dinner  is_chain   unique_store_id  \n",
       "1                  1             1              1         0  Greenberg's Deli  \n",
       "5                  1             1              1         0  Greenberg's Deli  \n",
       "9                  1             1              1         0  Greenberg's Deli  \n",
       "17                 1             1              1         0  Greenberg's Deli  \n",
       "24                 1             1              1         0  Greenberg's Deli  \n",
       "\n",
       "[5 rows x 30 columns]"
      ]
     },
     "execution_count": 60,
     "metadata": {},
     "output_type": "execute_result"
    }
   ],
   "source": [
    "rest_reviews_nv_real.head()"
   ]
  },
  {
   "cell_type": "code",
   "execution_count": 61,
   "metadata": {},
   "outputs": [
    {
     "data": {
      "text/plain": [
       "(1713, 2)"
      ]
     },
     "execution_count": 61,
     "metadata": {},
     "output_type": "execute_result"
    }
   ],
   "source": [
    "# Merge all the review text for each restaurant (In case if going to use)\n",
    "\n",
    "concat_text_col = rest_reviews_nv_real.groupby('business_id')['text'].apply(lambda x: x.sum().replace(\"\\r\", \"\")\n",
    "                                                                      .replace(\"\\n\", \"\")).reset_index()\n",
    "concat_text_col.shape"
   ]
  },
  {
   "cell_type": "code",
   "execution_count": 62,
   "metadata": {},
   "outputs": [
    {
     "data": {
      "text/html": [
       "<div>\n",
       "<style scoped>\n",
       "    .dataframe tbody tr th:only-of-type {\n",
       "        vertical-align: middle;\n",
       "    }\n",
       "\n",
       "    .dataframe tbody tr th {\n",
       "        vertical-align: top;\n",
       "    }\n",
       "\n",
       "    .dataframe thead th {\n",
       "        text-align: right;\n",
       "    }\n",
       "</style>\n",
       "<table border=\"1\" class=\"dataframe\">\n",
       "  <thead>\n",
       "    <tr style=\"text-align: right;\">\n",
       "      <th></th>\n",
       "      <th>business_id</th>\n",
       "      <th>text</th>\n",
       "    </tr>\n",
       "  </thead>\n",
       "  <tbody>\n",
       "    <tr>\n",
       "      <th>0</th>\n",
       "      <td>-3zffZUHoY8bQjGfPSoBKQ</td>\n",
       "      <td>What an amazing dinner. The service was excell...</td>\n",
       "    </tr>\n",
       "    <tr>\n",
       "      <th>1</th>\n",
       "      <td>-9YyInW1wapzdNZrhQJ9dg</td>\n",
       "      <td>After a long day walking the convention floor ...</td>\n",
       "    </tr>\n",
       "    <tr>\n",
       "      <th>2</th>\n",
       "      <td>-BmqghX1sv7sgsxOIS2yAg</td>\n",
       "      <td>I love this place. Everyone I tell that I eat ...</td>\n",
       "    </tr>\n",
       "    <tr>\n",
       "      <th>3</th>\n",
       "      <td>-FNquqGseSCVMWo7KbK-Tg</td>\n",
       "      <td>It's a Chipotle, like all the other Chipotles....</td>\n",
       "    </tr>\n",
       "    <tr>\n",
       "      <th>4</th>\n",
       "      <td>-JFVxwdVQfX207554dx1nw</td>\n",
       "      <td>Located in close proximity to the buffed and t...</td>\n",
       "    </tr>\n",
       "  </tbody>\n",
       "</table>\n",
       "</div>"
      ],
      "text/plain": [
       "              business_id                                               text\n",
       "0  -3zffZUHoY8bQjGfPSoBKQ  What an amazing dinner. The service was excell...\n",
       "1  -9YyInW1wapzdNZrhQJ9dg  After a long day walking the convention floor ...\n",
       "2  -BmqghX1sv7sgsxOIS2yAg  I love this place. Everyone I tell that I eat ...\n",
       "3  -FNquqGseSCVMWo7KbK-Tg  It's a Chipotle, like all the other Chipotles....\n",
       "4  -JFVxwdVQfX207554dx1nw  Located in close proximity to the buffed and t..."
      ]
     },
     "execution_count": 62,
     "metadata": {},
     "output_type": "execute_result"
    }
   ],
   "source": [
    "concat_text_col.head()"
   ]
  },
  {
   "cell_type": "code",
   "execution_count": 63,
   "metadata": {},
   "outputs": [
    {
     "data": {
      "text/plain": [
       "(1713, 25)"
      ]
     },
     "execution_count": 63,
     "metadata": {},
     "output_type": "execute_result"
    }
   ],
   "source": [
    "# Extract restaurants that have been filtered and reviwed \n",
    "\n",
    "businesses_reviewed = rest_reviews_nv_real.drop(['review_id', 'user_id', 'user_stars', 'text', 'date'], axis = 1).drop_duplicates().reset_index(drop = True)\n",
    "businesses_reviewed.shape"
   ]
  },
  {
   "cell_type": "code",
   "execution_count": 64,
   "metadata": {},
   "outputs": [],
   "source": [
    "# Concatenate text col with main body\n",
    "\n",
    "businesses_reviewed = pd.concat([businesses_reviewed, concat_text_col['text']], axis = 1)"
   ]
  },
  {
   "cell_type": "code",
   "execution_count": 65,
   "metadata": {},
   "outputs": [],
   "source": [
    "businesses_reviewed.to_csv('businesses_reviewed.csv', index = False)"
   ]
  },
  {
   "cell_type": "code",
   "execution_count": 66,
   "metadata": {},
   "outputs": [
    {
     "data": {
      "text/plain": [
       "Index(['business_id', 'name', 'rest_avg_stars', 'review_count', 'categories',\n",
       "       'postal_code', 'latitude', 'longitude', 'pricerange', 'is_open',\n",
       "       'outdoor_seat', 'rest_good_for_groups', 'good_kids', 'rest_reserve',\n",
       "       'rest_deliver', 'noise_lvl', 'credit_cards', 'wifi', 'alcohol',\n",
       "       'open_24hrs', 'serves_breakfast', 'serves_lunch', 'serves_dinner',\n",
       "       'is_chain', 'unique_store_id', 'text'],\n",
       "      dtype='object')"
      ]
     },
     "execution_count": 66,
     "metadata": {},
     "output_type": "execute_result"
    }
   ],
   "source": [
    "businesses_reviewed.columns"
   ]
  },
  {
   "cell_type": "code",
   "execution_count": 67,
   "metadata": {},
   "outputs": [
    {
     "name": "stdout",
     "output_type": "stream",
     "text": [
      "<class 'pandas.core.frame.DataFrame'>\n",
      "RangeIndex: 1713 entries, 0 to 1712\n",
      "Data columns (total 26 columns):\n",
      "business_id             1713 non-null object\n",
      "name                    1713 non-null object\n",
      "rest_avg_stars          1713 non-null float64\n",
      "review_count            1713 non-null int64\n",
      "categories              1713 non-null object\n",
      "postal_code             1710 non-null float64\n",
      "latitude                1713 non-null float64\n",
      "longitude               1713 non-null float64\n",
      "pricerange              1713 non-null int64\n",
      "is_open                 1713 non-null int64\n",
      "outdoor_seat            1713 non-null int64\n",
      "rest_good_for_groups    1713 non-null int64\n",
      "good_kids               1713 non-null int64\n",
      "rest_reserve            1713 non-null int64\n",
      "rest_deliver            1713 non-null int64\n",
      "noise_lvl               1713 non-null object\n",
      "credit_cards            1713 non-null int64\n",
      "wifi                    1713 non-null int64\n",
      "alcohol                 1713 non-null int64\n",
      "open_24hrs              1713 non-null int64\n",
      "serves_breakfast        1713 non-null int64\n",
      "serves_lunch            1713 non-null int64\n",
      "serves_dinner           1713 non-null int64\n",
      "is_chain                1713 non-null int64\n",
      "unique_store_id         1713 non-null object\n",
      "text                    1713 non-null object\n",
      "dtypes: float64(4), int64(16), object(6)\n",
      "memory usage: 348.0+ KB\n"
     ]
    }
   ],
   "source": [
    "businesses_reviewed.info()"
   ]
  },
  {
   "cell_type": "code",
   "execution_count": 133,
   "metadata": {},
   "outputs": [],
   "source": [
    "a = 'hello'\n",
    "b = 'goodbye'\n",
    "c = 'geez'"
   ]
  },
  {
   "cell_type": "code",
   "execution_count": 135,
   "metadata": {},
   "outputs": [
    {
     "data": {
      "text/plain": [
       "['hello']"
      ]
     },
     "execution_count": 135,
     "metadata": {},
     "output_type": "execute_result"
    }
   ],
   "source": [
    "temp_list = []\n",
    "temp_list.append(a)\n",
    "temp_list"
   ]
  },
  {
   "cell_type": "markdown",
   "metadata": {},
   "source": [
    "### Assess content based filtering based on non review text features"
   ]
  },
  {
   "cell_type": "code",
   "execution_count": 68,
   "metadata": {},
   "outputs": [],
   "source": [
    "# Prepare data for modelling\n",
    "\n",
    "# Select numerical columns for modelling - include unique store id for identification\n",
    "num_col = ['unique_store_id', 'rest_avg_stars', 'review_count', 'pricerange', 'is_open', 'outdoor_seat', \n",
    "           'rest_good_for_groups', 'good_kids', 'rest_reserve', 'rest_deliver', 'credit_cards', 'wifi', 'alcohol',\n",
    "          'open_24hrs', 'serves_breakfast', 'serves_dinner', 'is_chain']\n",
    "\n",
    "start_col = 'rest_avg_stars'\n",
    "end_col = 'is_chain'\n",
    "\n",
    "num_matrix = businesses_reviewed[num_col]\n",
    "num_matrix = num_matrix.reset_index() # This produces a separate index\n",
    "num_matrix.rename({'index': 'restaurant'}, axis = 1, inplace = True)\n",
    "\n",
    "# Create a non_num_matrix for 'categories' and 'text' column to be count vectorized and apply get_dummies to 'noise_lvl' attribute\n",
    "cvec = CountVectorizer(stop_words = 'english', max_features = 2000, min_df = 3)\n",
    "non_num_matrix = pd.DataFrame(cvec.fit_transform(businesses_reviewed['categories']).toarray(), columns = cvec.get_feature_names())\n",
    "noise_matrix = pd.get_dummies(businesses_reviewed['noise_lvl'], prefix = 'noiselvl')\n",
    "non_num_matrix = pd.concat([non_num_matrix, noise_matrix], axis = 1)"
   ]
  },
  {
   "cell_type": "code",
   "execution_count": 70,
   "metadata": {},
   "outputs": [],
   "source": [
    "# Concat both numeric and non-numeric matrices\n",
    "\n",
    "res_matrix = pd.concat([num_matrix, non_num_matrix], axis = 1)"
   ]
  },
  {
   "cell_type": "code",
   "execution_count": 72,
   "metadata": {
    "scrolled": false
   },
   "outputs": [
    {
     "data": {
      "text/plain": [
       "(1713, 197)"
      ]
     },
     "execution_count": 72,
     "metadata": {},
     "output_type": "execute_result"
    }
   ],
   "source": [
    "res_matrix.shape"
   ]
  },
  {
   "cell_type": "code",
   "execution_count": 75,
   "metadata": {},
   "outputs": [],
   "source": [
    "# Prep restaurant matrix file for filtering. Save rec_svd_surprise pickle file\n",
    "with open(\"cbf_res_matrix.pkl\", \"wb\") as f:\n",
    "    pickle.dump(res_matrix, f)"
   ]
  },
  {
   "cell_type": "code",
   "execution_count": 122,
   "metadata": {},
   "outputs": [],
   "source": [
    "# load restaurant matrix pickle file\n",
    "with open(\"cbf_res_matrix.pkl\", \"rb\") as f:\n",
    "    res_matrix = pickle.load(f)"
   ]
  },
  {
   "cell_type": "code",
   "execution_count": 120,
   "metadata": {},
   "outputs": [],
   "source": [
    "# Group restaurants by user for filtering\n",
    "userbiz_group = rest_reviews_nv_real.groupby('user_id').agg({'name': lambda x: ', '.join(x)})\n",
    "\n",
    "# save userbiz_group pickle file\n",
    "with open(\"userbiz_group.pkl\", \"wb\") as f:\n",
    "    pickle.dump(userbiz_group, f)"
   ]
  },
  {
   "cell_type": "code",
   "execution_count": 130,
   "metadata": {},
   "outputs": [],
   "source": [
    "# load pickle file of businesses visited by every individual\n",
    "\n",
    "with open(\"userbiz_group.pkl\", \"rb\") as f:\n",
    "    userbiz_group = pickle.load(f)"
   ]
  },
  {
   "cell_type": "code",
   "execution_count": 131,
   "metadata": {},
   "outputs": [],
   "source": [
    "# Content based similarity for EXISTING users\n",
    "\n",
    "def content_recom_currentuser(username, res_matrix, num_recommended_res, start_col = 'rest_avg_stars', end_col = 'noiselvl_very_loud', \n",
    "                        num_similar_res = 20):\n",
    "    \n",
    "    # Get restaurants visited by username\n",
    "    res_list = userbiz_group.loc[username][0].split(', ')\n",
    "    \n",
    "    unique_res_list = []\n",
    "    for res in res_list:\n",
    "        # Get index of restaurant list \n",
    "        unique_res_list.extend(res_matrix[res_matrix['unique_store_id'] == res].index)\n",
    "    # Get similar customers' restaurants index preferences    \n",
    "    unique_res_list = np.unique(unique_res_list)\n",
    "\n",
    "    # Generate average scores of the restarant list\n",
    "    df_ref = pd.DataFrame(columns = res_matrix.loc[:, start_col:].columns)\n",
    "    # provide list of indices from the list of restaurants and all cols\n",
    "    df_ref.loc[0, :] = res_matrix.loc[unique_res_list, start_col:].mean()\n",
    "    \n",
    "    # Generate restaurant similarity between res_list and the rest of the other restaurants\n",
    "    res_similarity = cosine_similarity(df_ref, res_matrix.loc[:, start_col:])\n",
    "    \n",
    "    # Find top n most similar res to avg of restaurant list by cosine similarity score\n",
    "    unique_res_list_id = np.argsort(res_similarity)[0][-(num_similar_res + 1):-1]\n",
    "    \n",
    "    # Sort by number of stars\n",
    "    top_n_recommended_res = res_matrix.loc[unique_res_list_id, 'rest_avg_stars'].sort_values(ascending = False)[: num_recommended_res].index.tolist()\n",
    "        \n",
    "    top_n_res_name = []\n",
    "    for ind in top_n_recommended_res:\n",
    "          top_n_res_name.append(res_matrix.loc[ind, 'unique_store_id'])\n",
    "    \n",
    "    # Take top n items and recommend to user\n",
    "    recs_df = pd.DataFrame(top_n_res_name, columns = ['Recommended Restaurants'])\n",
    "    recs_df.index = np.arange(1, len(recs_df) + 1)\n",
    "    recs_df = pd.DataFrame(recs_df)\n",
    "    \n",
    "    \n",
    "    return recs_df"
   ]
  },
  {
   "cell_type": "code",
   "execution_count": 132,
   "metadata": {},
   "outputs": [
    {
     "data": {
      "text/html": [
       "<div>\n",
       "<style scoped>\n",
       "    .dataframe tbody tr th:only-of-type {\n",
       "        vertical-align: middle;\n",
       "    }\n",
       "\n",
       "    .dataframe tbody tr th {\n",
       "        vertical-align: top;\n",
       "    }\n",
       "\n",
       "    .dataframe thead th {\n",
       "        text-align: right;\n",
       "    }\n",
       "</style>\n",
       "<table border=\"1\" class=\"dataframe\">\n",
       "  <thead>\n",
       "    <tr style=\"text-align: right;\">\n",
       "      <th></th>\n",
       "      <th>Recommended Restaurants</th>\n",
       "    </tr>\n",
       "  </thead>\n",
       "  <tbody>\n",
       "    <tr>\n",
       "      <th>1</th>\n",
       "      <td>Juan's Flaming Fajitas &amp; Cantina</td>\n",
       "    </tr>\n",
       "    <tr>\n",
       "      <th>2</th>\n",
       "      <td>Bruxie</td>\n",
       "    </tr>\n",
       "    <tr>\n",
       "      <th>3</th>\n",
       "      <td>Egg Works (Outlet 1 - 89120)</td>\n",
       "    </tr>\n",
       "    <tr>\n",
       "      <th>4</th>\n",
       "      <td>Hobak Korean BBQ</td>\n",
       "    </tr>\n",
       "    <tr>\n",
       "      <th>5</th>\n",
       "      <td>Soho Japanese Restaurant</td>\n",
       "    </tr>\n",
       "  </tbody>\n",
       "</table>\n",
       "</div>"
      ],
      "text/plain": [
       "            Recommended Restaurants\n",
       "1  Juan's Flaming Fajitas & Cantina\n",
       "2                            Bruxie\n",
       "3      Egg Works (Outlet 1 - 89120)\n",
       "4                  Hobak Korean BBQ\n",
       "5          Soho Japanese Restaurant"
      ]
     },
     "execution_count": 132,
     "metadata": {},
     "output_type": "execute_result"
    }
   ],
   "source": [
    "content_recom_currentuser('DUF9LYMMCCawUcnzzXDf4Q', res_matrix, 5)"
   ]
  },
  {
   "cell_type": "code",
   "execution_count": 127,
   "metadata": {},
   "outputs": [],
   "source": [
    "# Content based similarity for new users\n",
    "\n",
    "def content_recom_newuser(res_list, res_matrix, num_recommended_res, start_col = 'rest_avg_stars', end_col = 'noiselvl_very_loud', \n",
    "                        num_similar_res = 20):\n",
    "    unique_res_list = []\n",
    "    for res in res_list:\n",
    "        # Get index of restaurant list \n",
    "        unique_res_list.extend(res_matrix[res_matrix['unique_store_id'] == res].index)\n",
    "    # Get similar customers' restaurants index preferences    \n",
    "    unique_res_list = np.unique(unique_res_list)\n",
    "\n",
    "    # Generate average scores of the restarant list\n",
    "    df_ref = pd.DataFrame(columns = res_matrix.loc[:, start_col:].columns)\n",
    "    # provide list of indices from the list of restaurants and all cols\n",
    "    df_ref.loc[0, :] = res_matrix.loc[unique_res_list, start_col:].mean()\n",
    "    \n",
    "    # Generate restaurant similarity between res_list and the rest of the other restaurants\n",
    "    res_similarity = cosine_similarity(df_ref, res_matrix.loc[:, start_col:])\n",
    "    \n",
    "    # Find top n most similar res to avg of restaurant list by cosine similarity score\n",
    "    unique_res_list_id = np.argsort(res_similarity)[0][-(num_similar_res + 1):-1]\n",
    "    \n",
    "    # Sort by number of stars\n",
    "    top_n_recommended_res = res_matrix.loc[unique_res_list_id, 'rest_avg_stars'].sort_values(ascending = False)[: num_recommended_res].index.tolist()\n",
    "        \n",
    "    top_n_res_name = []\n",
    "    for ind in top_n_recommended_res:\n",
    "          top_n_res_name.append(res_matrix.loc[ind, 'unique_store_id'])\n",
    "    \n",
    "    # Take top n items and recommend to user\n",
    "    recs_df = pd.DataFrame(top_n_res_name, columns = ['Recommended Restaurants'])\n",
    "    recs_df.index = np.arange(1, len(recs_df) + 1)\n",
    "    recs_df = pd.DataFrame(recs_df)\n",
    "    \n",
    "    \n",
    "    return recs_df"
   ]
  },
  {
   "cell_type": "code",
   "execution_count": 128,
   "metadata": {
    "scrolled": true
   },
   "outputs": [
    {
     "data": {
      "text/html": [
       "<div>\n",
       "<style scoped>\n",
       "    .dataframe tbody tr th:only-of-type {\n",
       "        vertical-align: middle;\n",
       "    }\n",
       "\n",
       "    .dataframe tbody tr th {\n",
       "        vertical-align: top;\n",
       "    }\n",
       "\n",
       "    .dataframe thead th {\n",
       "        text-align: right;\n",
       "    }\n",
       "</style>\n",
       "<table border=\"1\" class=\"dataframe\">\n",
       "  <thead>\n",
       "    <tr style=\"text-align: right;\">\n",
       "      <th></th>\n",
       "      <th>Recommended Restaurants</th>\n",
       "    </tr>\n",
       "  </thead>\n",
       "  <tbody>\n",
       "    <tr>\n",
       "      <th>1</th>\n",
       "      <td>Meráki Greek Grill</td>\n",
       "    </tr>\n",
       "    <tr>\n",
       "      <th>2</th>\n",
       "      <td>Gorilla Sushi</td>\n",
       "    </tr>\n",
       "    <tr>\n",
       "      <th>3</th>\n",
       "      <td>Pure Indian Cuisine</td>\n",
       "    </tr>\n",
       "    <tr>\n",
       "      <th>4</th>\n",
       "      <td>El Sombrero Mexican Bistro</td>\n",
       "    </tr>\n",
       "    <tr>\n",
       "      <th>5</th>\n",
       "      <td>A.Y.C.E. Buffet</td>\n",
       "    </tr>\n",
       "  </tbody>\n",
       "</table>\n",
       "</div>"
      ],
      "text/plain": [
       "      Recommended Restaurants\n",
       "1          Meráki Greek Grill\n",
       "2               Gorilla Sushi\n",
       "3         Pure Indian Cuisine\n",
       "4  El Sombrero Mexican Bistro\n",
       "5             A.Y.C.E. Buffet"
      ]
     },
     "execution_count": 128,
     "metadata": {},
     "output_type": "execute_result"
    }
   ],
   "source": [
    "content_recom_newuser([\"Greenberg's Deli\", 'Casanova'], res_matrix, 5)"
   ]
  }
 ],
 "metadata": {
  "kernelspec": {
   "display_name": "capstone_test",
   "language": "python",
   "name": "capstone_test"
  },
  "language_info": {
   "codemirror_mode": {
    "name": "ipython",
    "version": 3
   },
   "file_extension": ".py",
   "mimetype": "text/x-python",
   "name": "python",
   "nbconvert_exporter": "python",
   "pygments_lexer": "ipython3",
   "version": "3.7.0"
  }
 },
 "nbformat": 4,
 "nbformat_minor": 2
}
