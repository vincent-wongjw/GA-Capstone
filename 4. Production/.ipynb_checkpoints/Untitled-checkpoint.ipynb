{
 "cells": [
  {
   "cell_type": "code",
   "execution_count": 97,
   "metadata": {},
   "outputs": [],
   "source": [
    "import pickle\n",
    "from textblob import TextBlob\n",
    "\n",
    "def get_review_prediction(text):\n",
    "    # Load TfidfVectorizer fit pickle file from train data in the fake reviews file\n",
    "    with open('../Part 1 - Fake reviews/tvec_fit.pkl', \"rb\") as f:\n",
    "        tvec_fit = pickle.load(f)\n",
    "        \n",
    "    # Load Naive Bayes trained model pickle file from train data in the fake reviews file\n",
    "    with open('../Part 1 - Fake reviews/mnb_model.pkl', \"rb\") as f:\n",
    "        mnb_model = pickle.load(f)\n",
    "    temp_list = []\n",
    "    temp_list.append(text)\n",
    "    print(temp_list)\n",
    "    \n",
    "    # Fit and transform text data using TfidfVectorizer\n",
    "    X = tvec_fit.transform(temp_list)\n",
    "    nb_prediction = mnb_model.predict(X)\n",
    "    # option to predict_proba\n",
    "    nb_predict_proba = mnb_model.predict_proba(X)\n",
    "    print(nb_predict_proba[0][1])\n",
    "\n",
    "    if nb_prediction.all() == 1:\n",
    "        nb_prediction = 'Real Review'\n",
    "    else:\n",
    "        nb_prediction = 'Fake Review'\n",
    "    \n",
    "    if (nb_predict_proba[0][1] >= 0.65) or (nb_predict_proba[0][1] <= 0.35):\n",
    "        nb_prediction = nb_prediction + ' (High Confidence)'\n",
    "        \n",
    "    sentiment_polarity = TextBlob(text).sentiment[0]\n",
    "    \n",
    "    return nb_prediction, sentiment_polarity"
   ]
  },
  {
   "cell_type": "code",
   "execution_count": 4,
   "metadata": {},
   "outputs": [
    {
     "name": "stderr",
     "output_type": "stream",
     "text": [
      "C:\\Users\\user\\Anaconda3\\lib\\site-packages\\sklearn\\base.py:251: UserWarning: Trying to unpickle estimator TfidfTransformer from version 0.20.2 when using version 0.20.1. This might lead to breaking code or invalid results. Use at your own risk.\n",
      "  UserWarning)\n",
      "C:\\Users\\user\\Anaconda3\\lib\\site-packages\\sklearn\\base.py:251: UserWarning: Trying to unpickle estimator TfidfVectorizer from version 0.20.2 when using version 0.20.1. This might lead to breaking code or invalid results. Use at your own risk.\n",
      "  UserWarning)\n",
      "C:\\Users\\user\\Anaconda3\\lib\\site-packages\\sklearn\\base.py:251: UserWarning: Trying to unpickle estimator MultinomialNB from version 0.20.2 when using version 0.20.1. This might lead to breaking code or invalid results. Use at your own risk.\n",
      "  UserWarning)\n"
     ]
    }
   ],
   "source": [
    "\twith open('../Part 1 - Fake reviews/tvec_fit.pkl', \"rb\") as f:\n",
    "\t    tvec_fit = pickle.load(f)\n",
    "\n",
    "\t# Load Naive Bayes trained model pickle file from train data in the fake reviews file\n",
    "\twith open('../Part 1 - Fake reviews/mnb_model.pkl', \"rb\") as f:\n",
    "\t    mnb_model = pickle.load(f)"
   ]
  },
  {
   "cell_type": "code",
   "execution_count": 7,
   "metadata": {},
   "outputs": [],
   "source": [
    "X = tvec_fit.transform(text)"
   ]
  },
  {
   "cell_type": "code",
   "execution_count": 98,
   "metadata": {},
   "outputs": [
    {
     "name": "stderr",
     "output_type": "stream",
     "text": [
      "C:\\Users\\user\\Anaconda3\\lib\\site-packages\\sklearn\\base.py:251: UserWarning: Trying to unpickle estimator TfidfTransformer from version 0.20.2 when using version 0.20.1. This might lead to breaking code or invalid results. Use at your own risk.\n",
      "  UserWarning)\n",
      "C:\\Users\\user\\Anaconda3\\lib\\site-packages\\sklearn\\base.py:251: UserWarning: Trying to unpickle estimator TfidfVectorizer from version 0.20.2 when using version 0.20.1. This might lead to breaking code or invalid results. Use at your own risk.\n",
      "  UserWarning)\n",
      "C:\\Users\\user\\Anaconda3\\lib\\site-packages\\sklearn\\base.py:251: UserWarning: Trying to unpickle estimator MultinomialNB from version 0.20.2 when using version 0.20.1. This might lead to breaking code or invalid results. Use at your own risk.\n",
      "  UserWarning)\n"
     ]
    },
    {
     "name": "stdout",
     "output_type": "stream",
     "text": [
      "[\"I absolutely love this place the bagels are delicious and the hummus is pretty awesome as well. I love the coffee I haven't had brunch here yet but I definitely plan too. Do yourself and visit this place it's pretty awesome.\"]\n",
      "0.5670019649815\n"
     ]
    },
    {
     "data": {
      "text/plain": [
       "('Real Review', 0.5625)"
      ]
     },
     "execution_count": 98,
     "metadata": {},
     "output_type": "execute_result"
    }
   ],
   "source": [
    "get_review_prediction(\"I absolutely love this place the bagels are delicious and the hummus is pretty awesome as well. I love the coffee I haven't had brunch here yet but I definitely plan too. Do yourself and visit this place it's pretty awesome.\")"
   ]
  },
  {
   "cell_type": "code",
   "execution_count": 96,
   "metadata": {},
   "outputs": [
    {
     "data": {
      "text/plain": [
       "0.0"
      ]
     },
     "execution_count": 96,
     "metadata": {},
     "output_type": "execute_result"
    }
   ],
   "source": [
    "from textblob import TextBlob\n",
    "\n",
    "TextBlob('the staff behaviour pisses me off. I wish it!').sentiment[0]"
   ]
  },
  {
   "cell_type": "code",
   "execution_count": null,
   "metadata": {},
   "outputs": [],
   "source": []
  }
 ],
 "metadata": {
  "kernelspec": {
   "display_name": "Python 3",
   "language": "python",
   "name": "python3"
  },
  "language_info": {
   "codemirror_mode": {
    "name": "ipython",
    "version": 3
   },
   "file_extension": ".py",
   "mimetype": "text/x-python",
   "name": "python",
   "nbconvert_exporter": "python",
   "pygments_lexer": "ipython3",
   "version": "3.7.0"
  }
 },
 "nbformat": 4,
 "nbformat_minor": 2
}
